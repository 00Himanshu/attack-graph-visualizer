{
 "cells": [
  {
   "cell_type": "code",
   "execution_count": 2,
   "metadata": {},
   "outputs": [],
   "source": [
    "pip uninstall mysql-connector-python"
   ]
  },
  {
   "cell_type": "code",
   "execution_count": 1,
   "metadata": {},
   "outputs": [],
   "source": [
    "import mysql.connector\n",
    "\n",
    "mydb = mysql.connector.connect(user = 'ron', password = 'root', host = '127.0.0.1', database = 'attack_graph_v3' )"
   ]
  },
  {
   "cell_type": "code",
   "execution_count": 2,
   "metadata": {},
   "outputs": [],
   "source": [
    "mycursor= mydb.cursor()"
   ]
  },
  {
   "cell_type": "code",
   "execution_count": 11,
   "metadata": {},
   "outputs": [
    {
     "name": "stdout",
     "output_type": "stream",
     "text": [
      "CREATE TABLE `assets` (\n",
      "  `asset_id` varchar(20) NOT NULL,\n",
      "  `asset_type` varchar(50) DEFAULT NULL,\n",
      "  PRIMARY KEY (`asset_id`)\n",
      ") ENGINE=InnoDB DEFAULT CHARSET=utf8mb4\n",
      "\n",
      "\n",
      "\n",
      "CREATE TABLE `connections` (\n",
      "  `source_asset` varchar(20) NOT NULL,\n",
      "  `destination_asset` varchar(20) NOT NULL,\n",
      "  `connection_type` varchar(50) NOT NULL,\n",
      "  PRIMARY KEY (`source_asset`,`destination_asset`,`connection_type`),\n",
      "  KEY `destination_asset` (`destination_asset`),\n",
      "  KEY `connection_type` (`connection_type`),\n",
      "  CONSTRAINT `connections_ibfk_1` FOREIGN KEY (`source_asset`) REFERENCES `assets` (`asset_id`),\n",
      "  CONSTRAINT `connections_ibfk_2` FOREIGN KEY (`destination_asset`) REFERENCES `assets` (`asset_id`),\n",
      "  CONSTRAINT `connections_ibfk_3` FOREIGN KEY (`connection_type`) REFERENCES `types_of_connections` (`connection_type`)\n",
      ") ENGINE=InnoDB DEFAULT CHARSET=utf8mb4\n",
      "\n",
      "\n",
      "\n",
      "CREATE TABLE `postcondition` (\n",
      "  `cve_id` varchar(20) DEFAULT NULL,\n",
      "  `gained_access` varchar(20) DEFAULT NULL,\n",
      "  KEY `gained_access` (`gained_access`),\n",
      "  CONSTRAINT `postcondition_ibfk_1` FOREIGN KEY (`gained_access`) REFERENCES `type_of_access` (`access_type`)\n",
      ") ENGINE=InnoDB DEFAULT CHARSET=utf8mb4\n",
      "\n",
      "\n",
      "\n",
      "CREATE TABLE `precondition` (\n",
      "  `required_access` varchar(50) DEFAULT NULL,\n",
      "  `connection_type` varchar(50) DEFAULT NULL,\n",
      "  `vulnerability` varchar(20) NOT NULL,\n",
      "  KEY `connection_type` (`connection_type`),\n",
      "  KEY `required_access` (`required_access`),\n",
      "  CONSTRAINT `precondition_ibfk_1` FOREIGN KEY (`connection_type`) REFERENCES `types_of_connections` (`connection_type`),\n",
      "  CONSTRAINT `precondition_ibfk_2` FOREIGN KEY (`required_access`) REFERENCES `type_of_access` (`access_type`)\n",
      ") ENGINE=InnoDB DEFAULT CHARSET=utf8mb4\n",
      "\n",
      "\n",
      "\n",
      "CREATE TABLE `type_of_access` (\n",
      "  `access_type` varchar(50) NOT NULL,\n",
      "  `access_details` mediumtext DEFAULT NULL,\n",
      "  PRIMARY KEY (`access_type`)\n",
      ") ENGINE=InnoDB DEFAULT CHARSET=utf8mb4\n",
      "\n",
      "\n",
      "\n",
      "CREATE TABLE `types_of_connections` (\n",
      "  `connection_type` varchar(50) NOT NULL,\n",
      "  `connection_details` mediumtext DEFAULT NULL,\n",
      "  PRIMARY KEY (`connection_type`)\n",
      ") ENGINE=InnoDB DEFAULT CHARSET=utf8mb4\n",
      "\n",
      "\n",
      "\n",
      "CREATE TABLE `vulnerability` (\n",
      "  `asset_type` varchar(50) NOT NULL,\n",
      "  `cve_id` varchar(20) NOT NULL,\n",
      "  PRIMARY KEY (`asset_type`,`cve_id`)\n",
      ") ENGINE=InnoDB DEFAULT CHARSET=utf8mb4\n",
      "\n",
      "\n",
      "\n"
     ]
    }
   ],
   "source": [
    "mycursor.execute('show tables')\n",
    "for i in mycursor.fetchall():\n",
    "    mycursor.execute('show create table {}'.format(i[0]))\n",
    "    print(mycursor.fetchall()[0][1])\n",
    "    print('\\n\\n')"
   ]
  },
  {
   "cell_type": "code",
   "execution_count": 22,
   "metadata": {},
   "outputs": [
    {
     "name": "stdout",
     "output_type": "stream",
     "text": [
      "INSERT INTO assets values ('A1', 'Windows 7');\n",
      "INSERT INTO assets values ('A10', 'Windows 10');\n",
      "INSERT INTO assets values ('A11', 'Oracle 10g');\n",
      "INSERT INTO assets values ('A12', 'Windows 7');\n",
      "INSERT INTO assets values ('A13', 'Oracle 10g');\n",
      "INSERT INTO assets values ('A14', 'MySQL 5.3');\n",
      "INSERT INTO assets values ('A2', 'Windows 10');\n",
      "INSERT INTO assets values ('A3', 'Ubuntu 14');\n",
      "INSERT INTO assets values ('A4', 'Ubuntu 14');\n",
      "INSERT INTO assets values ('A5', 'VirtualBox 2.0');\n",
      "INSERT INTO assets values ('A6', 'Windows 7');\n",
      "INSERT INTO assets values ('A7', 'MySQL 5.3');\n",
      "INSERT INTO assets values ('A8', 'Oracle 15i');\n",
      "INSERT INTO assets values ('A9', 'Windows 7');\n",
      "INSERT INTO connections values ('A1', 'A3', 'remote_access');\n",
      "INSERT INTO connections values ('A11', 'A12', 'network_access');\n",
      "INSERT INTO connections values ('A11', 'A8', 'remote_access');\n",
      "INSERT INTO connections values ('A12', 'A13', 'remote_access');\n",
      "INSERT INTO connections values ('A13', 'A14', 'remote_access');\n",
      "INSERT INTO connections values ('A2', 'A4', 'network_access');\n",
      "INSERT INTO connections values ('A2', 'A6', 'remote_access');\n",
      "INSERT INTO connections values ('A2', 'A7', 'remote_access');\n",
      "INSERT INTO connections values ('A3', 'A7', 'network_access');\n",
      "INSERT INTO connections values ('A4', 'A10', 'network_access');\n",
      "INSERT INTO connections values ('A4', 'A9', 'network_access');\n",
      "INSERT INTO connections values ('A9', 'A5', 'network_access');\n",
      "INSERT INTO postcondition values ('CVE-2019-1468', 'high');\n",
      "INSERT INTO postcondition values ('CVE-2019-1484', 'low');\n",
      "INSERT INTO postcondition values ('CVE-2015-6108', 'high');\n",
      "INSERT INTO postcondition values ('CVE-2015-1727', 'high');\n",
      "INSERT INTO postcondition values ('CVE-2020-16968', 'high');\n",
      "INSERT INTO postcondition values ('CVE-2020-1552', 'low');\n",
      "INSERT INTO postcondition values ('CVE-2017-11831', 'low');\n",
      "INSERT INTO postcondition values ('CVE-2016-7271', 'high');\n",
      "INSERT INTO postcondition values ('CVE-2019-12749', 'high');\n",
      "INSERT INTO postcondition values ('CVE-2009-3940', 'low');\n",
      "INSERT INTO postcondition values ('CVE-2009-2714', 'high');\n",
      "INSERT INTO postcondition values ('CVE-2012-2749', 'low');\n",
      "INSERT INTO postcondition values ('CVE-2009-4030', 'high');\n",
      "INSERT INTO postcondition values ('CVE-2006-3486', 'high');\n",
      "INSERT INTO postcondition values ('CVE-2004-1371', 'high');\n",
      "INSERT INTO postcondition values ('CVE-2006-6703', 'high');\n",
      "INSERT INTO precondition values ('Low', None, 'CVE-2019-1468');\n",
      "INSERT INTO precondition values ('High', 'network_access', 'CVE-2019-1484');\n",
      "INSERT INTO precondition values (None, 'remote_access', 'CVE-2015-6108');\n",
      "INSERT INTO precondition values ('High', None, 'CVE-2015-1727');\n",
      "INSERT INTO precondition values (None, 'network_access', 'CVE-2020-16968');\n",
      "INSERT INTO precondition values ('High', 'remote_access', 'CVE-2020-1552');\n",
      "INSERT INTO precondition values ('Low', None, 'CVE-2017-11831');\n",
      "INSERT INTO precondition values ('High', 'network_access', 'CVE-2016-7271');\n",
      "INSERT INTO precondition values (None, 'remote_access', 'CVE-2019-12749');\n",
      "INSERT INTO precondition values ('Low', None, 'CVE-2009-3940');\n",
      "INSERT INTO precondition values (None, 'network_access', 'CVE-2009-2714');\n",
      "INSERT INTO precondition values (None, 'remote_access', 'CVE-2012-2749');\n",
      "INSERT INTO precondition values ('Low', None, 'CVE-2009-4030');\n",
      "INSERT INTO precondition values ('High', 'network_access', 'CVE-2006-3486');\n",
      "INSERT INTO precondition values ('High', 'remote_access', 'CVE-2004-1371');\n",
      "INSERT INTO precondition values (None, 'remote_access', 'CVE-2006-6703');\n",
      "INSERT INTO type_of_access values ('high', 'High access gained in the corresponding system');\n",
      "INSERT INTO type_of_access values ('low', 'Low access gained in the corresponding system');\n",
      "INSERT INTO types_of_connections values ('network_access', 'the corresponding systems are connected via network. ');\n",
      "INSERT INTO types_of_connections values ('remote_access', 'The corresponding system are connected via remote access of the previous system');\n",
      "INSERT INTO vulnerability values ('MySQL 5.3', 'CVE-2006-3486');\n",
      "INSERT INTO vulnerability values ('MySQL 5.3', 'CVE-2009-4030');\n",
      "INSERT INTO vulnerability values ('MySQL 5.3', 'CVE-2012-2749');\n",
      "INSERT INTO vulnerability values ('Oracle 10g', 'CVE-2004-1371');\n",
      "INSERT INTO vulnerability values ('Oracle 10g', 'CVE-2006-6703');\n",
      "INSERT INTO vulnerability values ('Ubuntu 14', 'CVE-2019-12749');\n",
      "INSERT INTO vulnerability values ('VirtualBox 2.0', 'CVE-2009-2714');\n",
      "INSERT INTO vulnerability values ('VirtualBox 2.0', 'CVE-2009-3940');\n",
      "INSERT INTO vulnerability values ('Windows 10', 'CVE-2016-7271');\n",
      "INSERT INTO vulnerability values ('Windows 10', 'CVE-2017-11831');\n",
      "INSERT INTO vulnerability values ('Windows 10', 'CVE-2020-1552');\n",
      "INSERT INTO vulnerability values ('Windows 10', 'CVE-2020-16968');\n",
      "INSERT INTO vulnerability values ('Windows 7', 'CVE-2015-1727');\n",
      "INSERT INTO vulnerability values ('Windows 7', 'CVE-2015-6108');\n",
      "INSERT INTO vulnerability values ('Windows 7', 'CVE-2019-1468');\n",
      "INSERT INTO vulnerability values ('Windows 7', 'CVE-2019-1484');\n"
     ]
    }
   ],
   "source": [
    "mycursor.execute('show tables')\n",
    "for i in mycursor.fetchall():\n",
    "    mycursor.execute(f'select * from {i[0]}')\n",
    "    for j in mycursor.fetchall():\n",
    "        print(f'INSERT INTO {i[0]} values {j}',end=';\\n')"
   ]
  },
  {
   "cell_type": "code",
   "execution_count": 8,
   "metadata": {},
   "outputs": [
    {
     "data": {
      "text/plain": [
       "[('assets',),\n",
       " ('connections',),\n",
       " ('postcondition',),\n",
       " ('precondition',),\n",
       " ('type_of_access',),\n",
       " ('types_of_connections',),\n",
       " ('vulnerability',)]"
      ]
     },
     "execution_count": 8,
     "metadata": {},
     "output_type": "execute_result"
    }
   ],
   "source": [
    "mycursor.fetchall()"
   ]
  },
  {
   "cell_type": "code",
   "execution_count": 1,
   "metadata": {},
   "outputs": [
    {
     "name": "stdout",
     "output_type": "stream",
     "text": [
      "[7.2, 2.5, 1.2, 0.2, 3.1, 8.0, 0.6, 6.8, 2.0, 4.6, 7.7, 7.4, 5.1, 7.9, 8.9, 1.8]\n"
     ]
    }
   ],
   "source": [
    "import random\n",
    "x = []\n",
    "for i in range(16):\n",
    "    x.append(round(random.uniform(0,10),1))\n",
    "print(x)"
   ]
  },
  {
   "cell_type": "markdown",
   "metadata": {},
   "source": [
    "update the CVE SCORE IN DATABASSE"
   ]
  },
  {
   "cell_type": "code",
   "execution_count": 4,
   "metadata": {},
   "outputs": [],
   "source": [
    "mycursor.execute('select * from assets')\n",
    "for i in mycursor.fetchall():\n",
    "    mycursor.execute(f'update assets set assets.importance_score = {round(random.uniform(0,10),1)} where assets.asset_id = \"{i[0]}\" and assets.asset_type = \"{i[1]}\"')\n",
    "mydb.commit()"
   ]
  },
  {
   "cell_type": "code",
   "execution_count": 3,
   "metadata": {},
   "outputs": [
    {
     "data": {
      "text/html": [
       "<div>\n",
       "<style scoped>\n",
       "    .dataframe tbody tr th:only-of-type {\n",
       "        vertical-align: middle;\n",
       "    }\n",
       "\n",
       "    .dataframe tbody tr th {\n",
       "        vertical-align: top;\n",
       "    }\n",
       "\n",
       "    .dataframe thead th {\n",
       "        text-align: right;\n",
       "    }\n",
       "</style>\n",
       "<table border=\"1\" class=\"dataframe\">\n",
       "  <thead>\n",
       "    <tr style=\"text-align: right;\">\n",
       "      <th></th>\n",
       "      <th>asset_type</th>\n",
       "      <th>cve_id</th>\n",
       "      <th>cve_score</th>\n",
       "      <th>MITRE ATTACK ID</th>\n",
       "      <th>MITRE DEFEND ID</th>\n",
       "    </tr>\n",
       "  </thead>\n",
       "  <tbody>\n",
       "    <tr>\n",
       "      <th>7</th>\n",
       "      <td>VirtualBox 2.0</td>\n",
       "      <td>CVE-2009-3940</td>\n",
       "      <td>2.1</td>\n",
       "      <td>T1203</td>\n",
       "      <td>D3-ITF</td>\n",
       "    </tr>\n",
       "    <tr>\n",
       "      <th>10</th>\n",
       "      <td>Windows 10</td>\n",
       "      <td>CVE-2020-1552</td>\n",
       "      <td>6.8</td>\n",
       "      <td>T1218</td>\n",
       "      <td>D3-EDL</td>\n",
       "    </tr>\n",
       "    <tr>\n",
       "      <th>0</th>\n",
       "      <td>MySQL 5.3</td>\n",
       "      <td>CVE-2006-3486</td>\n",
       "      <td>9.5</td>\n",
       "      <td>T1203</td>\n",
       "      <td>D3-ITF</td>\n",
       "    </tr>\n",
       "    <tr>\n",
       "      <th>12</th>\n",
       "      <td>Windows 7</td>\n",
       "      <td>CVE-2015-1727</td>\n",
       "      <td>7.2</td>\n",
       "      <td>T1203</td>\n",
       "      <td>D3-ITF</td>\n",
       "    </tr>\n",
       "    <tr>\n",
       "      <th>5</th>\n",
       "      <td>Ubuntu 14</td>\n",
       "      <td>CVE-2019-12749</td>\n",
       "      <td>3.6</td>\n",
       "      <td>T1021</td>\n",
       "      <td>D3-MFA</td>\n",
       "    </tr>\n",
       "  </tbody>\n",
       "</table>\n",
       "</div>"
      ],
      "text/plain": [
       "        asset_type          cve_id  cve_score MITRE ATTACK ID MITRE DEFEND ID\n",
       "7   VirtualBox 2.0   CVE-2009-3940        2.1           T1203          D3-ITF\n",
       "10      Windows 10   CVE-2020-1552        6.8           T1218          D3-EDL\n",
       "0        MySQL 5.3   CVE-2006-3486        9.5           T1203          D3-ITF\n",
       "12       Windows 7   CVE-2015-1727        7.2           T1203          D3-ITF\n",
       "5        Ubuntu 14  CVE-2019-12749        3.6           T1021          D3-MFA"
      ]
     },
     "execution_count": 3,
     "metadata": {},
     "output_type": "execute_result"
    }
   ],
   "source": [
    "import pandas as pd\n",
    "\n",
    "df = pd.read_csv('/home/ron/Downloads/vulnerability_shortlist_MITRE_CVSS.csv')\n",
    "df.sample(5)"
   ]
  },
  {
   "cell_type": "code",
   "execution_count": 4,
   "metadata": {},
   "outputs": [],
   "source": [
    "for i in df.values.tolist():\n",
    "    mycursor.execute(f\"UPDATE vulnerability SET vulnerability.mitre_attack_id = '{i[3]}', vulnerability.mitre_defend_id = '{i[4]}' WHERE vulnerability.asset_type = '{i[0]}' AND vulnerability.cve_id = '{i[1]}';\")\n"
   ]
  },
  {
   "cell_type": "code",
   "execution_count": 5,
   "metadata": {},
   "outputs": [
    {
     "data": {
      "text/plain": [
       "[('MySQL 5.3', 'CVE-2006-3486', 9.5, 'T1203', 'D3-ITF'),\n",
       " ('MySQL 5.3', 'CVE-2009-4030', 1.6, 'T1203', 'D3-ITF'),\n",
       " ('MySQL 5.3', 'CVE-2012-2749', 5.6, 'T1499', 'D3-NI'),\n",
       " ('Oracle 10g', 'CVE-2004-1371', 0.8, 'T1189', 'D3-SCF'),\n",
       " ('Oracle 10g', 'CVE-2006-6703', 1.2, 'T1021', 'D3-MFA'),\n",
       " ('Ubuntu 14', 'CVE-2019-12749', 4.7, 'T1021', 'D3-MFA'),\n",
       " ('VirtualBox 2.0', 'CVE-2009-2714', 2.0, 'T1203', 'D3-ITF'),\n",
       " ('VirtualBox 2.0', 'CVE-2009-3940', 5.3, 'T1203', 'D3-ITF'),\n",
       " ('Windows 10', 'CVE-2016-7271', 1.5, 'T1068', 'D3-EAL'),\n",
       " ('Windows 10', 'CVE-2017-11831', 0.6, 'T1203', 'D3-ITF'),\n",
       " ('Windows 10', 'CVE-2020-1552', 6.4, 'T1218', 'D3-EDL'),\n",
       " ('Windows 10', 'CVE-2020-16968', 8.9, 'T1203', 'D3-ITF'),\n",
       " ('Windows 7', 'CVE-2015-1727', 3.3, 'T1203', 'D3-ITF'),\n",
       " ('Windows 7', 'CVE-2015-6108', 4.8, 'T1068', 'D3-EAL'),\n",
       " ('Windows 7', 'CVE-2019-1468', 3.9, 'T1068', 'D3-EAL'),\n",
       " ('Windows 7', 'CVE-2019-1484', 5.1, 'T1203', 'D3-ITF')]"
      ]
     },
     "execution_count": 5,
     "metadata": {},
     "output_type": "execute_result"
    }
   ],
   "source": [
    "mycursor.execute('select * from vulnerability')\n",
    "mycursor.fetchall()"
   ]
  },
  {
   "cell_type": "code",
   "execution_count": 6,
   "metadata": {},
   "outputs": [],
   "source": [
    "mydb.commit()"
   ]
  },
  {
   "cell_type": "code",
   "execution_count": null,
   "metadata": {},
   "outputs": [],
   "source": []
  }
 ],
 "metadata": {
  "kernelspec": {
   "display_name": "Python 3.8.10 ('pt-vscode': venv)",
   "language": "python",
   "name": "python3"
  },
  "language_info": {
   "codemirror_mode": {
    "name": "ipython",
    "version": 3
   },
   "file_extension": ".py",
   "mimetype": "text/x-python",
   "name": "python",
   "nbconvert_exporter": "python",
   "pygments_lexer": "ipython3",
   "version": "3.8.10"
  },
  "orig_nbformat": 4,
  "vscode": {
   "interpreter": {
    "hash": "7408545c7715cfb5c20d43f7a3bdc0036ef7c0000b7f5a028ec643444c489d40"
   }
  }
 },
 "nbformat": 4,
 "nbformat_minor": 2
}
