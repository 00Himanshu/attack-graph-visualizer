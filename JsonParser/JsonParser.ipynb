{
 "cells": [
  {
   "cell_type": "code",
   "execution_count": 17,
   "id": "5f2bde97-a5d3-47bc-be2d-1a4f95ae2513",
   "metadata": {},
   "outputs": [
    {
     "name": "stdout",
     "output_type": "stream",
     "text": [
      "Physical Topology: {'H1': ['S2', 'S2'], 'H2': ['S1', 'S1'], 'H3': ['S3', 'S3'], 'S1': ['S2', 'S2', 'H2', 'H2'], 'S2': ['S1', 'S1', 'S3', 'S3', 'H1', 'H1'], 'S3': ['S2', 'S2', 'H3', 'H3']}\n"
     ]
    }
   ],
   "source": [
    "import json\n",
    "\n",
    "# Load the JSON data from file\n",
    "with open('data.json') as f:\n",
    "    data = json.load(f)\n",
    "\n",
    "# Extract the nodes and links from the JSON data\n",
    "nodes = data['nodes']\n",
    "links = data['links']\n",
    "\n",
    "# Create the physical topology using the nodes and links\n",
    "physical_topology = {}\n",
    "for node in nodes:\n",
    "    physical_topology[node['id']] = []\n",
    "    for link in links:\n",
    "        if link['source'] == node['id']:\n",
    "            physical_topology[node['id']].append(link['target'])\n",
    "        elif link['target'] == node['id']:\n",
    "            physical_topology[node['id']].append(link['source'])\n",
    "\n",
    "\n",
    "# Print the physical and logical topology\n",
    "print('Physical Topology:', physical_topology)"
   ]
  },
  {
   "cell_type": "code",
   "execution_count": 18,
   "id": "210c2f7e-e11a-4506-9dc0-bc50030011e3",
   "metadata": {},
   "outputs": [
    {
     "name": "stdout",
     "output_type": "stream",
     "text": [
      "{'S1': [{'Match': {'dl_dst': '01:80:c2:00:00:0e', 'dl_type': 35020}, 'Actions': ['OUTPUT:CONTROLLER']}, {'Match': {'in_port': 1, 'nw_src': '10.0.0.2', 'nw_dst': '10.0.0.1', 'dl_src': '5e:9b:c3:ff:26:dc', 'dl_dst': '82:c8:40:03:27:ef'}, 'Actions': ['OUTPUT:2']}, {'Match': {'in_port': 2, 'nw_src': '10.0.0.1', 'nw_dst': '10.0.0.2', 'dl_src': '82:c8:40:03:27:ef', 'dl_dst': '5e:9b:c3:ff:26:dc'}, 'Actions': ['OUTPUT:1']}, {'Match': {'in_port': 1, 'nw_src': '10.0.0.3', 'nw_dst': '10.0.0.1', 'dl_src': 'a6:52:bd:65:22:ab', 'dl_dst': '82:c8:40:03:27:ef'}, 'Actions': ['OUTPUT:2']}, {'Match': {'in_port': 2, 'nw_src': '10.0.0.1', 'nw_dst': '10.0.0.3', 'dl_src': '82:c8:40:03:27:ef', 'dl_dst': 'a6:52:bd:65:22:ab'}, 'Actions': ['OUTPUT:1']}, {'Match': {}, 'Actions': ['OUTPUT:CONTROLLER']}], 'S2': [{'Match': {'dl_dst': '01:80:c2:00:00:0e', 'dl_type': 35020}, 'Actions': ['OUTPUT:CONTROLLER']}, {'Match': {'in_port': 3, 'nw_src': '10.0.0.2', 'nw_dst': '10.0.0.1', 'dl_src': '5e:9b:c3:ff:26:dc', 'dl_dst': '82:c8:40:03:27:ef'}, 'Actions': ['OUTPUT:1']}, {'Match': {'in_port': 1, 'nw_src': '10.0.0.1', 'nw_dst': '10.0.0.2', 'dl_src': '82:c8:40:03:27:ef', 'dl_dst': '5e:9b:c3:ff:26:dc'}, 'Actions': ['OUTPUT:3']}, {'Match': {'in_port': 2, 'nw_src': '10.0.0.3', 'nw_dst': '10.0.0.1', 'dl_src': 'a6:52:bd:65:22:ab', 'dl_dst': '82:c8:40:03:27:ef'}, 'Actions': ['OUTPUT:1']}, {'Match': {'in_port': 1, 'nw_src': '10.0.0.1', 'nw_dst': '10.0.0.3', 'dl_src': '82:c8:40:03:27:ef', 'dl_dst': 'a6:52:bd:65:22:ab'}, 'Actions': ['OUTPUT:2']}, {'Match': {'in_port': 2, 'nw_src': '10.0.0.3', 'nw_dst': '10.0.0.2', 'dl_src': 'a6:52:bd:65:22:ab', 'dl_dst': '5e:9b:c3:ff:26:dc'}, 'Actions': ['OUTPUT:3']}, {'Match': {'in_port': 3, 'nw_src': '10.0.0.2', 'nw_dst': '10.0.0.3', 'dl_src': '5e:9b:c3:ff:26:dc', 'dl_dst': 'a6:52:bd:65:22:ab'}, 'Actions': ['OUTPUT:2']}, {'Match': {}, 'Actions': ['OUTPUT:CONTROLLER']}], 'S3': [{'Match': {'dl_dst': '01:80:c2:00:00:0e', 'dl_type': 35020}, 'Actions': ['OUTPUT:CONTROLLER']}, {'Match': {'in_port': 2, 'nw_src': '10.0.0.3', 'nw_dst': '10.0.0.1', 'dl_src': 'a6:52:bd:65:22:ab', 'dl_dst': '82:c8:40:03:27:ef'}, 'Actions': ['OUTPUT:1']}, {'Match': {'in_port': 1, 'nw_src': '10.0.0.1', 'nw_dst': '10.0.0.3', 'dl_src': '82:c8:40:03:27:ef', 'dl_dst': 'a6:52:bd:65:22:ab'}, 'Actions': ['OUTPUT:2']}, {'Match': {'in_port': 2, 'nw_src': '10.0.0.3', 'nw_dst': '10.0.0.2', 'dl_src': 'a6:52:bd:65:22:ab', 'dl_dst': '5e:9b:c3:ff:26:dc'}, 'Actions': ['OUTPUT:1']}, {'Match': {'in_port': 1, 'nw_src': '10.0.0.2', 'nw_dst': '10.0.0.3', 'dl_src': '5e:9b:c3:ff:26:dc', 'dl_dst': 'a6:52:bd:65:22:ab'}, 'Actions': ['OUTPUT:2']}, {'Match': {}, 'Actions': ['OUTPUT:CONTROLLER']}]}\n"
     ]
    }
   ],
   "source": [
    "import networkx as nx\n",
    "\n",
    "\n",
    "output_dict = {}\n",
    "\n",
    "for switch, entries in data['flow-tables'].items():\n",
    "    output_list = []\n",
    "    for entry in entries:\n",
    "        match = entry['match']\n",
    "        actions = entry['actions']\n",
    "        output_list.append({'Match': match, 'Actions': actions})\n",
    "    output_dict[switch] = output_list\n",
    "\n",
    "print(output_dict)"
   ]
  },
  {
   "cell_type": "code",
   "execution_count": 19,
   "id": "25b0a8ed-f43c-4642-8850-323975db5376",
   "metadata": {},
   "outputs": [
    {
     "data": {
      "text/plain": [
       "{'H1': '10.0.0.2', 'H2': '10.0.0.1', 'H3': '10.0.0.3'}"
      ]
     },
     "execution_count": 19,
     "metadata": {},
     "output_type": "execute_result"
    }
   ],
   "source": [
    "parse_data = {}\n",
    "for i in data['nodes']:\n",
    "    if i['type'] == 'Host':\n",
    "        parse_data[i['id']] = i['ip']\n",
    "parse_data"
   ]
  },
  {
   "cell_type": "code",
   "execution_count": 20,
   "id": "0272f0c3-4f5d-4b7b-91af-4c4204038749",
   "metadata": {},
   "outputs": [
    {
     "name": "stdout",
     "output_type": "stream",
     "text": [
      "[['H1', 'S2', 'S1', 'H2'], ['H1', 'S2', 'S3', 'H3'], ['H2', 'S1', 'S2', 'H1'], ['H2', 'S1', 'S2', 'S3', 'H3'], ['H3', 'S3', 'S2', 'H1'], ['H3', 'S3', 'S2', 'S1', 'H2']]\n"
     ]
    }
   ],
   "source": [
    "G = nx.Graph()\n",
    "d = physical_topology\n",
    "# Add nodes to the graph\n",
    "for device in d:\n",
    "    G.add_node(device)\n",
    "\n",
    "# Add edges to the graph\n",
    "for device, connections in d.items():\n",
    "    for connection in connections:\n",
    "        G.add_edge(device, connection)\n",
    "\n",
    "# Find all the paths between two nodes\n",
    "all_paths = []\n",
    "for node1 in G.nodes():\n",
    "    for node2 in G.nodes():\n",
    "        if node1 != node2:\n",
    "            paths = list(nx.all_simple_paths(G, node1, node2))\n",
    "            all_paths.extend(paths)\n",
    "\n",
    "\n",
    "\n",
    "Host = ['H1','H2','H3']\n",
    "Host_to_Host_Path = []\n",
    "for path in all_paths:\n",
    "    if path[0] in Host and path[-1] in Host:\n",
    "        Host_to_Host_Path.append(path)\n",
    "\n",
    "print(Host_to_Host_Path)"
   ]
  },
  {
   "cell_type": "code",
   "execution_count": 21,
   "id": "ff9f4523-5a18-43ac-aab7-ce7562eae4d1",
   "metadata": {},
   "outputs": [],
   "source": [
    "logical_topology = []\n",
    "for i in Host_to_Host_Path:\n",
    "    nw_src = parse_data[i[0]]\n",
    "    nw_dst = parse_data[i[-1]]\n",
    "    c = 0\n",
    "    for j in range(1,len(i)-1):\n",
    "            for k in output_dict[i[j]]:\n",
    "                try:\n",
    "                    if nw_src == k['Match']['nw_src'] and nw_dst == k['Match']['nw_dst']:\n",
    "                        c = c+1\n",
    "                except:\n",
    "                    continue\n",
    "    if c == len(i)-2:\n",
    "        str1 =  i[0]+'->'+i[-1]\n",
    "        logical_topology.append(str1)"
   ]
  },
  {
   "cell_type": "code",
   "execution_count": 22,
   "id": "561ed8ce-4826-40ac-a5fd-d5336b678790",
   "metadata": {},
   "outputs": [
    {
     "data": {
      "text/plain": [
       "{'Source': ['H1', 'H1', 'H2', 'H2', 'H3', 'H3'],\n",
       " 'Destination': ['H2', 'H3', 'H1', 'H3', 'H1', 'H2']}"
      ]
     },
     "execution_count": 22,
     "metadata": {},
     "output_type": "execute_result"
    }
   ],
   "source": [
    "logical_topology_dict = {'Source':[],\n",
    "                        'Destination':[]}\n",
    "for i in logical_topology:\n",
    "    logical_topology_dict['Source'].append(i[0:2])\n",
    "    logical_topology_dict['Destination'].append(i[-2:])\n",
    "logical_topology_dict"
   ]
  },
  {
   "cell_type": "code",
   "execution_count": 23,
   "id": "179eca58-d076-4f56-9e71-b49e20a31e6c",
   "metadata": {},
   "outputs": [],
   "source": [
    "import csv\n",
    "with open('output.csv', 'w', newline='') as file:\n",
    "    writer = csv.writer(file)\n",
    "    writer.writerow(['Source', 'Destination'])\n",
    "    for i in range(len(logical_topology_dict['Source'])):\n",
    "        writer.writerow([logical_topology_dict['Source'][i], logical_topology_dict['Destination'][i]])"
   ]
  }
 ],
 "metadata": {
  "kernelspec": {
   "display_name": "Python 3 (ipykernel)",
   "language": "python",
   "name": "python3"
  },
  "language_info": {
   "codemirror_mode": {
    "name": "ipython",
    "version": 3
   },
   "file_extension": ".py",
   "mimetype": "text/x-python",
   "name": "python",
   "nbconvert_exporter": "python",
   "pygments_lexer": "ipython3",
   "version": "3.9.16"
  }
 },
 "nbformat": 4,
 "nbformat_minor": 5
}
