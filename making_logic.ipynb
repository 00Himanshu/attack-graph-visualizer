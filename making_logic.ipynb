{
 "cells": [
  {
   "cell_type": "markdown",
   "metadata": {},
   "source": [
    "This file is made to build logic and see data in a run time environment. \n",
    "use this file to learn how it was created and which objects are passed overtime through out the \n",
    "run Time"
   ]
  },
  {
   "cell_type": "code",
   "execution_count": null,
   "metadata": {},
   "outputs": [],
   "source": [
    "import pandas as pd\n",
    "import find_all_path\n",
    "import numpy as np"
   ]
  },
  {
   "cell_type": "code",
   "execution_count": null,
   "metadata": {},
   "outputs": [],
   "source": [
    "nodes_list, long_key_number , shortest_key_number , longest_path, shortest_path = find_all_path.get_paths('CVE-2022-20644','CVE-2022-20788')"
   ]
  },
  {
   "cell_type": "code",
   "execution_count": null,
   "metadata": {},
   "outputs": [],
   "source": [
    "#creating a nodes converting tuple to list \n",
    "# unnecessary could be done without using it\n",
    "nodes_list = [list(i) for i in nodes_list]\n"
   ]
  },
  {
   "cell_type": "code",
   "execution_count": null,
   "metadata": {},
   "outputs": [],
   "source": [
    "# creating a list of path name that will be used to create dataframe for getting tuple to dictionary output\n",
    "path = [f'path_{i}' for i in range(len(longest_path))]"
   ]
  },
  {
   "cell_type": "code",
   "execution_count": null,
   "metadata": {},
   "outputs": [],
   "source": [
    "df = pd.DataFrame(nodes_list,columns=path)\n",
    "df.head(3)"
   ]
  },
  {
   "cell_type": "code",
   "execution_count": null,
   "metadata": {},
   "outputs": [],
   "source": [
    "df.columns"
   ]
  },
  {
   "cell_type": "code",
   "execution_count": null,
   "metadata": {},
   "outputs": [],
   "source": [
    "df.loc[df['path_3']=='attack_001','path_4'].drop_duplicates()"
   ]
  },
  {
   "cell_type": "code",
   "execution_count": null,
   "metadata": {},
   "outputs": [],
   "source": [
    "df.loc[df['path_3'] == 'attack_002','path_4'].drop_duplicates().values.tolist()"
   ]
  },
  {
   "cell_type": "code",
   "execution_count": null,
   "metadata": {},
   "outputs": [],
   "source": [
    "for i in path:\n",
    "    print(f\"{i} = {df[i].drop_duplicates().values.tolist()}\")"
   ]
  },
  {
   "cell_type": "code",
   "execution_count": null,
   "metadata": {},
   "outputs": [],
   "source": [
    "dictionary = {}\n",
    "for i in range(len(path)-1):\n",
    "    unique_value_for_path = df[path[i]].drop_duplicates().values.tolist()\n",
    "    for j in unique_value_for_path:\n",
    "        connections_from_current_path = df.loc[df[path[i]]==j,path[i+1]].drop_duplicates().values.tolist()\n",
    "        if None in connections_from_current_path:\n",
    "            for _ in range(connections_from_current_path.count(None)):\n",
    "                connections_from_current_path.remove(None)\n",
    "        # print(j,connections_from_current_path)\n",
    "        if j is not None:\n",
    "            if j not in dictionary:\n",
    "                dictionary[j] = connections_from_current_path\n",
    "            else:\n",
    "                dictionary[j] += connections_from_current_path\n",
    "\n",
    "for i in dictionary:\n",
    "    print(f'{i} length = {len(dictionary[i])} = {dictionary[i]}')"
   ]
  },
  {
   "cell_type": "markdown",
   "metadata": {},
   "source": [
    "# BACK TRACKING"
   ]
  },
  {
   "cell_type": "code",
   "execution_count": null,
   "metadata": {},
   "outputs": [],
   "source": [
    "import mysql.connector\n",
    "\n",
    "mydb = mysql.connector.connect(user = 'root', password = 'root', host = '127.0.0.1', database='attack_graph_v2')\n",
    "mycursor = mydb.cursor()"
   ]
  },
  {
   "cell_type": "code",
   "execution_count": null,
   "metadata": {},
   "outputs": [],
   "source": [
    "mycursor.execute(\"select vulnerability.cve_id from vulnerability where vulnerability.asset_type = (SELECT assets.asset_type from assets WHERE assets.asset_id = 'a7') and vulnerability.cve_id in(SELECT postcondition.cve_id from postcondition where postcondition.gained_access ='high');\")\n",
    "mycursor.fetchall()"
   ]
  },
  {
   "cell_type": "markdown",
   "metadata": {},
   "source": [
    "in asset back tracking"
   ]
  },
  {
   "cell_type": "code",
   "execution_count": null,
   "metadata": {},
   "outputs": [],
   "source": [
    "asset_id = 'A7'\n",
    "current_access = 'high'\n",
    "in_asset_back_tracking_list = []\n",
    "mycursor.execute(f\"select precondition.required_access, precondition.vulnerability from precondition where precondition.vulnerability in (select vulnerability.cve_id from vulnerability where vulnerability.asset_type = (SELECT assets.asset_type from assets WHERE assets.asset_id = '{asset_id}') and vulnerability.cve_id in(SELECT postcondition.cve_id from postcondition where postcondition.gained_access ='{current_access}')) and precondition.connection_type is NULL;\")\n",
    "for i in mycursor.fetchall():\n",
    "    in_asset_back_tracking_list.append([f'{asset_id}.{i[0]}',f'{asset_id}.{i[1]}'])\n",
    "in_asset_back_tracking_list"
   ]
  },
  {
   "cell_type": "markdown",
   "metadata": {},
   "source": [
    "change the output to A7.low , A7,CVE-2009-4030"
   ]
  },
  {
   "cell_type": "markdown",
   "metadata": {},
   "source": [
    "# out of asset back tracking"
   ]
  },
  {
   "cell_type": "code",
   "execution_count": null,
   "metadata": {},
   "outputs": [],
   "source": [
    "mycursor.execute(f\"select * from precondition where precondition.vulnerability in (select vulnerability.cve_id from vulnerability where vulnerability.asset_type = (SELECT assets.asset_type from assets WHERE assets.asset_id = '{asset_id}') and vulnerability.cve_id in(SELECT postcondition.cve_id from postcondition where postcondition.gained_access ='{current_access}')) and precondition.connection_type is not  NULL;\")\n",
    "out_asset_back_tracking_list = []\n",
    "for i in mycursor.fetchall():\n",
    "    mycursor.execute(f\"SELECT connections.source_asset from connections where connections.destination_asset = '{asset_id}' and connections.connection_type = '{i[1]}';\")\n",
    "    for j in mycursor.fetchall():\n",
    "        if i[0] == None:\n",
    "            out_asset_back_tracking_list.append([f'{j[0]}.high',f'{j[0]}.{i[1]},{asset_id}',f'{asset_id}.{i[2]}'])\n",
    "            out_asset_back_tracking_list.append([f'{j[0]}.low',f'{j[0]}.{i[1]},{asset_id}',f'{asset_id}.{i[2]}'])\n",
    "        else:\n",
    "            out_asset_back_tracking_list.append([f'{j[0]}.{i[0]}',f'{j[0]}.{i[1]},{asset_id}',f'{asset_id}.{i[2]}'])\n",
    "out_asset_back_tracking_list"
   ]
  },
  {
   "cell_type": "markdown",
   "metadata": {},
   "source": [
    "LONE TESTING"
   ]
  },
  {
   "cell_type": "code",
   "execution_count": null,
   "metadata": {},
   "outputs": [],
   "source": [
    "mycursor.execute(f\"select * from precondition where precondition.vulnerability in (select vulnerability.cve_id from vulnerability where vulnerability.asset_type = (SELECT assets.asset_type from assets WHERE assets.asset_id = '{asset_id}') and vulnerability.cve_id in(SELECT postcondition.cve_id from postcondition where postcondition.gained_access ='{current_access}')) and precondition.connection_type is NULL;\")\n",
    "i =  mycursor.fetchall()\n",
    "i[0][1] == None\n"
   ]
  },
  {
   "cell_type": "code",
   "execution_count": null,
   "metadata": {},
   "outputs": [],
   "source": [
    "a = 'A1.low'\n",
    "c , d = a.split('.')\n",
    "print(c,d)"
   ]
  },
  {
   "cell_type": "code",
   "execution_count": null,
   "metadata": {},
   "outputs": [],
   "source": [
    "import serverconnection_v2\n",
    "\n",
    "x = serverconnection_v2.MYSQL_connection()"
   ]
  },
  {
   "cell_type": "code",
   "execution_count": null,
   "metadata": {},
   "outputs": [],
   "source": [
    "x.find_out_of_asset_vulnerabilities('A7','high')"
   ]
  },
  {
   "cell_type": "code",
   "execution_count": null,
   "metadata": {},
   "outputs": [],
   "source": [
    "def find_back_track_path(asset_id,current_access,travelled_path):\n",
    "    if f'{asset_id}.{current_access}' in travelled_path:\n",
    "        print('ending',travelled_path)\n",
    "        return\n",
    "    travelled_path += (f'{asset_id}.{current_access}',)\n",
    "    print('travelling : ',travelled_path)\n",
    "    # In asset Back tracking tree\n",
    "    for i in x.in_asset_back_tracking(asset_id,current_access):\n",
    "        path = travelled_path + (i,)\n",
    "        asset_id_in,current_access_in = i[0].split('.')\n",
    "        find_back_track_path(asset_id_in,current_access_in,path)\n",
    "    \n",
    "    # Out asset Back Tracking tree\n",
    "    for j in x.out_of_asset_back_tracking(asset_id,current_access):\n",
    "        path = travelled_path + (j,)\n",
    "        asset_id_out,current_access_out = j[0].split('.')\n",
    "        find_back_track_path(asset_id_out,current_access_out,path)\n",
    "\n",
    "travelled_path_1 = ()\n",
    "find_back_track_path('A7','high',travelled_path_1)"
   ]
  },
  {
   "cell_type": "code",
   "execution_count": null,
   "metadata": {},
   "outputs": [],
   "source": [
    "travelled_path_1"
   ]
  },
  {
   "cell_type": "code",
   "execution_count": null,
   "metadata": {},
   "outputs": [],
   "source": [
    "\n",
    "\n",
    "class BackTracking:\n",
    "    def __init__(self):\n",
    "        self.main_path = []\n",
    "        self.x = serverconnection_v2.MYSQL_connection()\n",
    "    \n",
    "    def find_back_track_path(self,asset_id,current_access,travelled_path):\n",
    "    \n",
    "\n",
    "\n",
    "back_tracking = BackTracking()\n",
    "x = back_tracking.get_back_back_tracked('A7','high')\n",
    "print(f'THE BACK TRACKED PATH THAT ARE SAVED \\n {x}')"
   ]
  },
  {
   "cell_type": "markdown",
   "metadata": {},
   "source": [
    "# *_creation of the CRITICALITY_*"
   ]
  },
  {
   "cell_type": "code",
   "execution_count": null,
   "metadata": {},
   "outputs": [],
   "source": [
    "from serverconnection_v2 import MYSQL_connection\n",
    "from typing import Union\n",
    "\n",
    "server = MYSQL_connection()"
   ]
  },
  {
   "cell_type": "markdown",
   "metadata": {},
   "source": [
    "# Node creation"
   ]
  },
  {
   "cell_type": "code",
   "execution_count": null,
   "metadata": {},
   "outputs": [],
   "source": [
    "class Node:\n",
    "    #node is simple object that hold the data which are needed\n",
    "    def __init__(self,node_id : str, access_level : str):\n",
    "        \n",
    "        self.node_id = node_id\n",
    "        self.node_type = server.find_asset_type(node_id)\n",
    "        self.node_importance_score = server.show_asset_importance_score(node_id)\n",
    "        self.access_level = access_level\n",
    "        self.distance_from_start = 9999\n",
    "\n",
    "    def __repr__(self) -> str:\n",
    "        return f'{self.node_id} + {self.access_level}'\n",
    "    \n",
    "    def give_id(self):\n",
    "        return f'{self.node_id}.{self.access_level}'\n",
    "\n",
    "    def give_description(self):\n",
    "        return f'Node ID = {self.node_id}Node_type = {self.node_type}Node Importance Score in the Network = {self.node_importance_score}Node distance from start = {self.distance_from_start}'\n",
    "\n",
    "\n",
    "class Vulnerability_node:\n",
    "    def __init__(self,from_asset : Union[Node , str],to_asset : Union[Node , str],vulnerability_id : str,connection_type: str = None):\n",
    "        self.node_name = f'{str(from_asset)}+{str(to_asset)}+{vulnerability_id}'\n",
    "        self.from_asset = from_asset\n",
    "        self.to_asset = to_asset\n",
    "        self.connection_type = connection_type\n",
    "        self.vulnerability_id = vulnerability_id\n",
    "        self.vulnerabilty_score = server.find_score(to_asset.node_id,vulnerability_id)\n",
    "        self.distance_from_start = 9999\n",
    "        self.impact_score = None\n",
    "        self.ciricality_score = None\n",
    "\n",
    "\n",
    "    def __repr__(self) -> str:\n",
    "        if self.connection_type == None:\n",
    "            return str({'Attack type': 'IN ASSET ATTACK','from':str(self.from_asset),'to':str(self.to_asset),'vulnerability used':self.vulnerability_id})\n",
    "        else:\n",
    "            return str({'Attack type': 'OUT OF ASSET ATTACK','from':str(self.from_asset),'to':str(self.to_asset),'vulnerability used':self.vulnerability_id,'Connection':self.connection_type})\n",
    "\n",
    "    def give_id(self):\n",
    "        return f'{self.from_asset.give_id()}.{self.to_asset.give_id()}.{self.vulnerability_id}'\n",
    "    \n",
    "    def calculate_ciriticality(self):\n",
    "        pass\n",
    "\n",
    "    def give_description(self):\n",
    "        return f'From asset = {self.from_asset.node_id}TO asset = {self.to_asset.node_id}Node distance from start = {self.distance_from_start}'"
   ]
  },
  {
   "cell_type": "markdown",
   "metadata": {},
   "source": [
    "# Making atomic NODE OBJECT"
   ]
  },
  {
   "cell_type": "code",
   "execution_count": null,
   "metadata": {},
   "outputs": [],
   "source": [
    "class NodeList:\n",
    "    def __init__(self):\n",
    "        self.asset_nodes = []\n",
    "        self.vulnerability_nodes = []\n",
    "\n",
    "    def create_asset_node(self,asset_id:str,access_level: str):\n",
    "        for i in self.asset_nodes:\n",
    "            if i.node_id == asset_id and i.access_level == access_level:\n",
    "                return i\n",
    "        else:\n",
    "            some_variable = Node(node_id=asset_id,access_level=access_level)\n",
    "            self.asset_nodes.append(some_variable)\n",
    "            return some_variable\n",
    "    \n",
    "    def create_vulnerability_node(self, from_asset: Union[Node, str], to_asset: Union[Node, str], vulnerability_id: str,connection_type: str = None):\n",
    "        for i in self.vulnerability_nodes:\n",
    "            if i.from_asset == from_asset and i.to_asset == to_asset and i.vulnerability_id == vulnerability_id and i.connection_type == connection_type:\n",
    "                return i\n",
    "        else:\n",
    "            some_variable =  Vulnerability_node(from_asset=from_asset,\n",
    "                                        to_asset=to_asset,\n",
    "                                        vulnerability_id=vulnerability_id,\n",
    "                                        connection_type=connection_type)\n",
    "            self.vulnerability_nodes.append(some_variable)\n",
    "            return some_variable"
   ]
  },
  {
   "cell_type": "markdown",
   "metadata": {},
   "source": [
    "# finding path with OBJECT IN OBJECT MODEL"
   ]
  },
  {
   "cell_type": "code",
   "execution_count": null,
   "metadata": {},
   "outputs": [],
   "source": [
    "class Find_ciritical_path:\n",
    "    def __init__(self) -> None:\n",
    "        self.myserver = MYSQL_connection()\n",
    "        self.main_list = []\n",
    "        self.node = NodeList()\n",
    "\n",
    "    def check_if_in(self, node: Node, path: Union[tuple, list]):\n",
    "        for i in path:\n",
    "            if str(node) == str(i):\n",
    "                return True\n",
    "        else:\n",
    "            return False\n",
    "    \n",
    "    def set_distance_from_start(self,node : Union[Node, Vulnerability_node], distance : int):\n",
    "\n",
    "        if node.distance_from_start > distance:\n",
    "            node.distance_from_start = distance\n",
    "        \n",
    "\n",
    "    def find_ciritical_path(self, current_node: Node, goal_node: Node, travelling_path: tuple, distance : int = 0):\n",
    "        if self.check_if_in(current_node, travelling_path):\n",
    "            # print('done')\n",
    "            # self.main_list.append(travelling_path[:-1])\n",
    "            return\n",
    "        else:\n",
    "            self.set_distance_from_start(current_node , distance= distance + 1)\n",
    "            if current_node == goal_node:\n",
    "                travelling_path += (current_node,)\n",
    "                print('here')\n",
    "                self.main_list.append(travelling_path)\n",
    "                return\n",
    "            travelling_path +=(current_node,)\n",
    "            print(travelling_path)\n",
    "            for i in self.myserver.find_in_asset_vulnerability(current_node.node_id, current_node.access_level):\n",
    "                # print('here',i)\n",
    "                asset_id_in, current_access_in = self.myserver.find_post_condition(i[1])\n",
    "                # print(asset_id_in,current_access_in)\n",
    "                new_node = self.node.create_asset_node(asset_id_in, current_access_in)\n",
    "\n",
    "                vulnerability_id = i[1].split('.')[1]\n",
    "                \n",
    "                vulnerability_node = self.node.create_vulnerability_node(current_node, new_node, vulnerability_id)\n",
    "                self.set_distance_from_start(vulnerability_node, distance + 2)\n",
    "\n",
    "                path = travelling_path + (vulnerability_node,)\n",
    "                # print(new_node,goal_node,path)\n",
    "                self.find_ciritical_path(new_node, goal_node, path,distance=distance+2)\n",
    "\n",
    "            for j in self.myserver.find_out_of_asset_vulnerabilities(current_node.node_id, current_node.access_level):\n",
    "                \n",
    "                # reference what the data is in J\n",
    "                # [['A1.high', 'A1.remote_access.A3', 'A3.CVE-2019-12749']]\n",
    "                # kindly follow and update the upper data to get the \n",
    "                asset_id_out, current_access_out = self.myserver.find_post_condition(j[2])\n",
    "                # print(asset_id_out,current_access_out)\n",
    "                new_node = self.node.create_asset_node(asset_id_out, current_access_out)\n",
    "                vulnerability_id = j[2].split('.')[1]\n",
    "                connection_type = j[1].split('.')[1]\n",
    "                vulnerability_node = self.node.create_vulnerability_node(current_node, new_node,\n",
    "                                                            vulnerability_id=vulnerability_id,\n",
    "                                                            connection_type=connection_type)\n",
    "                self.set_distance_from_start(vulnerability_node,distance + 2)\n",
    "                path = travelling_path + (vulnerability_node,)\n",
    "                self.find_ciritical_path(new_node, goal_node, path,distance=distance+2)\n",
    "\n",
    "    def get_critical_path(self, asset_id, current_access, goal_asset_id, goal_access_level):\n",
    "        empty_tuple = ()\n",
    "        starting_node = self.node.create_asset_node(asset_id, current_access)\n",
    "        goal_node = self.node.create_asset_node(goal_asset_id, goal_access_level)\n",
    "\n",
    "        self.find_ciritical_path(current_node=starting_node, goal_node=goal_node, travelling_path=empty_tuple)\n",
    "        print('FOUND PATHS = {}\\n'.format(len(self.main_list)))\n",
    "        for i in self.main_list:\n",
    "            print(i,end='\\n****************** *************\\n')\n",
    "    \n",
    "    def get_unique_nodes(self):\n",
    "        return self.node.asset_nodes"
   ]
  },
  {
   "cell_type": "code",
   "execution_count": null,
   "metadata": {},
   "outputs": [],
   "source": [
    "x = Find_ciritical_path()\n",
    "x.get_critical_path('A1','low','A7','high')"
   ]
  },
  {
   "cell_type": "code",
   "execution_count": null,
   "metadata": {},
   "outputs": [],
   "source": [
    "for i in x.main_list:\n",
    "    for j in i:\n",
    "        print(j.distance_from_start,end = ',')\n",
    "    print()"
   ]
  },
  {
   "cell_type": "markdown",
   "metadata": {},
   "source": [
    "```CREATING ADJACENCYMATRIX```"
   ]
  },
  {
   "cell_type": "code",
   "execution_count": null,
   "metadata": {},
   "outputs": [],
   "source": [
    "adjacency_dictionary = {}\n",
    "unique_nodes = x.node.asset_nodes + x.node.vulnerability_nodes\n",
    "for i in unique_nodes:\n",
    "    print(i)\n",
    "for i in unique_nodes:\n",
    "    empty_list = []\n",
    "    for j in range(len(x.main_list)):\n",
    "        for k in range(len(x.main_list[j])-1):\n",
    "            if i == x.main_list[j][k]:\n",
    "                if x.main_list[j][k+1] not in empty_list:\n",
    "                    empty_list.append(x.main_list[j][k+1])\n",
    "    adjacency_dictionary[i] = empty_list\n",
    "\n",
    "adjacency_dictionary"
   ]
  },
  {
   "cell_type": "markdown",
   "metadata": {},
   "source": [
    "<h2>adjacency matrix to JSON NODE</h2>"
   ]
  },
  {
   "cell_type": "code",
   "execution_count": null,
   "metadata": {},
   "outputs": [],
   "source": [
    "class Json_node_builder:\n",
    "    \n",
    "    def __init__(self) -> None:\n",
    "        self.parent_count = 0\n",
    "        self.parent_node_dict = {}\n",
    "    \n",
    "    def list_to_node(self,adjacency_matrix):\n",
    "        nodes = []\n",
    "        for i in adjacency_matrix:\n",
    "\n",
    "            # give_id gives unique names to node can be used for connection also\n",
    "            nodes.append({'data':{'id':f'{i.give_id()}',\n",
    "                                'name':f'{i.give_id()}',\n",
    "                                'description':f'{i.give_description()}'}})\n",
    "        connection = 0\n",
    "        for i in adjacency_matrix:\n",
    "            for j in adjacency_matrix[i]:\n",
    "                nodes.append({'data' : {'id' : f'X{connection}',\n",
    "                                        'source' : i.give_id(),\n",
    "                                        'target' : j.give_id(),\n",
    "                                        'directed' : 'true'}})\n",
    "                connection +=1\n",
    "        \n",
    "        return nodes"
   ]
  },
  {
   "cell_type": "code",
   "execution_count": null,
   "metadata": {},
   "outputs": [],
   "source": [
    "something_object = Json_node_builder()\n",
    "\n",
    "something_object.list_to_node(adjacency_dictionary)"
   ]
  },
  {
   "cell_type": "code",
   "execution_count": null,
   "metadata": {},
   "outputs": [],
   "source": [
    "from shortest_path_finding import BFS_SP\n",
    "\n",
    "print(len(BFS_SP(adjacency_dictionary,unique_nodes[4],unique_nodes[1])))"
   ]
  },
  {
   "cell_type": "code",
   "execution_count": null,
   "metadata": {},
   "outputs": [],
   "source": [
    "isinstance(unique_nodes[2],Vulnerability_node)"
   ]
  },
  {
   "cell_type": "code",
   "execution_count": null,
   "metadata": {},
   "outputs": [],
   "source": [
    "a = []\n",
    "a.append(Node('A7','low'))\n",
    "a.append(Node('A6','low'))\n",
    "a.append(Node('A53','high'))\n",
    "print(a[1])\n",
    "\n"
   ]
  },
  {
   "cell_type": "code",
   "execution_count": null,
   "metadata": {},
   "outputs": [],
   "source": [
    "node = Node('A7','Windows 7',9)\n",
    "str(node) in a"
   ]
  },
  {
   "cell_type": "markdown",
   "metadata": {},
   "source": [
    "# TESTING CLASS"
   ]
  },
  {
   "cell_type": "code",
   "execution_count": null,
   "metadata": {},
   "outputs": [],
   "source": [
    "class Xyz:\n",
    "    def __init__(self,name):\n",
    "        self.name = name\n",
    "\n",
    "a = []\n",
    "\n",
    "x = Xyz('ron')\n",
    "a.append(x)\n",
    "x = Xyz('sumon')\n",
    "a.append(x)\n",
    "x = Xyz('vamshi')\n",
    "a.append(x)"
   ]
  },
  {
   "cell_type": "code",
   "execution_count": null,
   "metadata": {},
   "outputs": [],
   "source": []
  },
  {
   "cell_type": "code",
   "execution_count": null,
   "metadata": {},
   "outputs": [],
   "source": [
    "class Test:\n",
    "    def __init__(self,value) -> None:\n",
    "        self.value = value"
   ]
  },
  {
   "cell_type": "code",
   "execution_count": null,
   "metadata": {},
   "outputs": [],
   "source": [
    "x = Test('BISHWAJIT')\n",
    "y = Test('Vamshi')\n",
    "\n",
    "print(x,y)"
   ]
  },
  {
   "cell_type": "code",
   "execution_count": null,
   "metadata": {},
   "outputs": [],
   "source": [
    "x.name = 'something'\n",
    "y.putki = 'something'\n",
    "print(x,y)"
   ]
  },
  {
   "cell_type": "code",
   "execution_count": null,
   "metadata": {},
   "outputs": [],
   "source": [
    "print(x.value,x.name)"
   ]
  },
  {
   "cell_type": "code",
   "execution_count": null,
   "metadata": {},
   "outputs": [],
   "source": [
    "dic = {}\n",
    "dic[x] = 'Here is a data'"
   ]
  },
  {
   "cell_type": "code",
   "execution_count": null,
   "metadata": {},
   "outputs": [],
   "source": [
    "dic[x]"
   ]
  },
  {
   "cell_type": "code",
   "execution_count": null,
   "metadata": {},
   "outputs": [],
   "source": [
    "import criticality_path_finder\n",
    "x = criticality_path_finder.Find_ciritical_path()\n",
    "x = x.get_critical_path('A1', 'low', 'A7', 'high')"
   ]
  },
  {
   "cell_type": "code",
   "execution_count": null,
   "metadata": {},
   "outputs": [],
   "source": [
    "print(x)"
   ]
  },
  {
   "cell_type": "code",
   "execution_count": null,
   "metadata": {},
   "outputs": [],
   "source": [
    "x = \"{'asset': 'A1', 'asset_type': 'Windows 7', 'asset_importance_score': 3}\"\n",
    "x = x.replace(\"'\",'\"')\n",
    "import json\n",
    "x = json.loads(x)\n",
    "x"
   ]
  },
  {
   "cell_type": "code",
   "execution_count": null,
   "metadata": {},
   "outputs": [],
   "source": [
    "sum = 0 \n",
    "for letter in list(\"Close\") : \n",
    "    sum += ord(letter) \n",
    "    print(sum)\n",
    "\n"
   ]
  },
  {
   "cell_type": "code",
   "execution_count": null,
   "metadata": {},
   "outputs": [],
   "source": [
    "sum = []"
   ]
  },
  {
   "cell_type": "code",
   "execution_count": null,
   "metadata": {},
   "outputs": [],
   "source": [
    "import numpy\n",
    "print(numpy.cumsum( 5 *[ord(letter) for letter in list(\"Close\") ]))"
   ]
  },
  {
   "cell_type": "code",
   "execution_count": null,
   "metadata": {},
   "outputs": [],
   "source": [
    "def func(a,b):\n",
    "    if a == b:\n",
    "        return 0\n",
    "    if a > b:\n",
    "        return 1+func(a-1,b)\n",
    "    if b > a:\n",
    "        return 1+func(a+1,b-1)\n",
    "    else:\n",
    "        return 3+func(a,b)\n",
    "    return 1\n",
    "\n",
    "func(5,1)\n"
   ]
  },
  {
   "cell_type": "code",
   "execution_count": null,
   "metadata": {},
   "outputs": [],
   "source": [
    "from flask import Flask\n",
    "\n",
    "app = Flask(__name__)\n",
    "\n",
    "@app.route(\"/\")\n",
    "def hello_world():\n",
    "    return \"<p>Hello, World!</p>\"\n",
    "\n",
    "if __name__ == '__main__':\n",
    "    app.run(host='0.0.0.0',debug = True)"
   ]
  },
  {
   "cell_type": "code",
   "execution_count": null,
   "metadata": {},
   "outputs": [],
   "source": [
    "import mysql.connector\n",
    "\n",
    "mydb = mysql.connector.connect(host='localhost',user = 'ron',password = 'root',database = 'attack_graph_v2')\n",
    "mycursor = mydb.cursor()"
   ]
  },
  {
   "cell_type": "code",
   "execution_count": null,
   "metadata": {},
   "outputs": [],
   "source": [
    "import pandas as pd\n",
    "\n",
    "df = pd.read_csv('Datas/Att&ckToCveMappings.csv')\n",
    "df.head(5)"
   ]
  },
  {
   "cell_type": "code",
   "execution_count": null,
   "metadata": {},
   "outputs": [],
   "source": [
    "cve_data = df['CVE ID'].values.tolist()\n",
    "len(cve_data),cve_data"
   ]
  },
  {
   "cell_type": "code",
   "execution_count": null,
   "metadata": {},
   "outputs": [],
   "source": [
    "cve_data = list(set(cve_data))[:20]"
   ]
  },
  {
   "cell_type": "code",
   "execution_count": null,
   "metadata": {},
   "outputs": [],
   "source": [
    "mycursor.execute('select DISTINCT vulnerability.asset_type from vulnerability')\n",
    "types_of_asset = [i[0] for i in mycursor.fetchall()]\n",
    "types_of_asset"
   ]
  },
  {
   "cell_type": "code",
   "execution_count": null,
   "metadata": {},
   "outputs": [],
   "source": [
    "# types_of_asset += ['Fedora 14','Debian 16','Mongodb 4.2']\n",
    "# types_of_asset"
   ]
  },
  {
   "cell_type": "code",
   "execution_count": null,
   "metadata": {},
   "outputs": [],
   "source": [
    "import random\n",
    "insertion_data = []\n",
    "for i in cve_data:\n",
    "    insertion_data.append([random.choice(types_of_asset),i,round(random.uniform(0.0,10.0),1)])\n",
    "\n",
    "insertion_data[0:20]\n",
    "# len(insertion_data)\n"
   ]
  },
  {
   "cell_type": "code",
   "execution_count": null,
   "metadata": {},
   "outputs": [],
   "source": [
    "mycursor.executemany('insert into vulnerability values (%s,%s,%s)',insertion_data)\n",
    "mycursor.execute('select * from vulnerability')\n",
    "mycursor.fetchall()"
   ]
  },
  {
   "cell_type": "code",
   "execution_count": null,
   "metadata": {},
   "outputs": [],
   "source": [
    "mydb.commit()"
   ]
  },
  {
   "cell_type": "code",
   "execution_count": null,
   "metadata": {},
   "outputs": [],
   "source": [
    "assets_to_insert = []\n",
    "for i in range(11):\n",
    "    assets_to_insert.append([f'A{i+15}',random.choice(types_of_asset),random.randint(1,10)])\n",
    "assets_to_insert"
   ]
  },
  {
   "cell_type": "code",
   "execution_count": null,
   "metadata": {},
   "outputs": [],
   "source": [
    "mycursor.executemany('insert into assets values (%s,%s,%s)',assets_to_insert)\n",
    "mycursor.execute('select * from assets')\n",
    "x = mycursor.fetchall()\n",
    "len(x),x"
   ]
  },
  {
   "cell_type": "code",
   "execution_count": null,
   "metadata": {},
   "outputs": [],
   "source": [
    "mydb.commit()"
   ]
  },
  {
   "cell_type": "code",
   "execution_count": null,
   "metadata": {},
   "outputs": [],
   "source": [
    "# mycursor.execute(f'insert into postcondition values (\"{cve_data[0]}\",\"high\")')\n",
    "mydb.rollback()"
   ]
  },
  {
   "cell_type": "code",
   "execution_count": null,
   "metadata": {},
   "outputs": [],
   "source": [
    "for i in cve_data:\n",
    "    mycursor.execute(f'insert into postcondition values (\"{i}\",\"{random.choice([\"high\",\"low\"])}\")')\n",
    "    # mydb.commit()\n",
    "\n",
    "mycursor.execute('select * from postcondition')\n",
    "len(mycursor.fetchall())"
   ]
  },
  {
   "cell_type": "code",
   "execution_count": null,
   "metadata": {},
   "outputs": [],
   "source": [
    "mydb.commit()"
   ]
  },
  {
   "cell_type": "code",
   "execution_count": null,
   "metadata": {},
   "outputs": [],
   "source": [
    "pre_condition_data_insertion = []\n",
    "for i in cve_data:\n",
    "    \n",
    "    mycursor.execute('insert into precondition values (%s,%s,%s)',(random.choice(['High','Low',None]),random.choice(['remote_access','network_access',None]),i))\n",
    "\n",
    "mycursor.execute('select * from precondition')\n",
    "len(mycursor.fetchall())"
   ]
  },
  {
   "cell_type": "code",
   "execution_count": null,
   "metadata": {},
   "outputs": [],
   "source": [
    "mydb.commit()"
   ]
  },
  {
   "cell_type": "code",
   "execution_count": null,
   "metadata": {},
   "outputs": [],
   "source": [
    "mycursor.execute('select asset_id from assets')\n",
    "assets = [i[0] for i in mycursor.fetchall()]\n",
    "assets"
   ]
  },
  {
   "cell_type": "code",
   "execution_count": null,
   "metadata": {},
   "outputs": [],
   "source": [
    "assets = list(assets)"
   ]
  },
  {
   "cell_type": "code",
   "execution_count": null,
   "metadata": {},
   "outputs": [],
   "source": []
  },
  {
   "cell_type": "code",
   "execution_count": null,
   "metadata": {},
   "outputs": [],
   "source": [
    "\n",
    "for i in range(200):\n",
    "    source = random.choice(assets)\n",
    "    destination = random.choice([asset for asset in assets if asset != source])\n",
    "    connection = random.choice(['remote_access','network_access'])\n",
    "\n",
    "    mycursor.execute('insert into connections values (%s,%s,%s)',(source,destination,connection))\n",
    "\n",
    "mycursor.execute('select * from connections')\n",
    "len(mycursor.fetchall())"
   ]
  },
  {
   "cell_type": "code",
   "execution_count": null,
   "metadata": {},
   "outputs": [],
   "source": []
  },
  {
   "cell_type": "code",
   "execution_count": null,
   "metadata": {},
   "outputs": [],
   "source": [
    "mydb.commit()"
   ]
  },
  {
   "cell_type": "code",
   "execution_count": null,
   "metadata": {},
   "outputs": [],
   "source": [
    "mydb"
   ]
  },
  {
   "cell_type": "code",
   "execution_count": null,
   "metadata": {},
   "outputs": [],
   "source": [
    "x = [ i for i in range(10)]\n",
    "print(x)"
   ]
  },
  {
   "cell_type": "code",
   "execution_count": null,
   "metadata": {},
   "outputs": [],
   "source": [
    "x[-1:-4:-1]"
   ]
  },
  {
   "cell_type": "code",
   "execution_count": null,
   "metadata": {},
   "outputs": [],
   "source": [
    "import hashlib\n",
    "\n",
    "with open('paths_checking.txt') as f:\n",
    "    lines = f.readlines()\n",
    "\n",
    "hash = []\n",
    "\n",
    "for i in lines:\n",
    "    hash.append(hashlib.sha256(i.encode()).hexdigest())\n",
    "\n",
    "len(hash),len(set(hash))"
   ]
  },
  {
   "cell_type": "code",
   "execution_count": null,
   "metadata": {},
   "outputs": [],
   "source": [
    "len(hash)"
   ]
  },
  {
   "cell_type": "code",
   "execution_count": null,
   "metadata": {},
   "outputs": [],
   "source": [
    "len(set(hash))"
   ]
  },
  {
   "cell_type": "code",
   "execution_count": null,
   "metadata": {},
   "outputs": [],
   "source": [
    "import json"
   ]
  },
  {
   "cell_type": "code",
   "execution_count": null,
   "metadata": {},
   "outputs": [],
   "source": [
    "string_1 = '''{\"nodes\":[{\"ip\":\"10.0.0.2\",\"mac\":\"5e:9b:c3:ff:26:dc\",\"type\":\"Host\",\"id\":\"H1\"},{\"ip\":\"10.0.0.1\",\"mac\":\"82:c8:40:03:27:ef\",\"type\":\"Host\",\"id\":\"H2\"},{\"ip\":\"10.0.0.3\",\"mac\":\"a6:52:bd:65:22:ab\",\"type\":\"Host\",\"id\":\"H3\"},{\"type\":\"Switch\",\"id\":\"S1\"},{\"type\":\"Switch\",\"id\":\"S2\"},{\"type\":\"Switch\",\"id\":\"S3\"}],\"links\":[{\"source\":\"S2\",\"target\":\"S1\",\"ports\":{\"S2\":\"s2-eth1\",\"S1\":\"s1-eth1\"}},{\"source\":\"S1\",\"target\":\"S2\",\"ports\":{\"S1\":\"s1-eth1\",\"S2\":\"s2-eth1\"}},{\"source\":\"S3\",\"target\":\"S2\",\"ports\":{\"S3\":\"s3-eth1\",\"S2\":\"s2-eth2\"}},{\"source\":\"S2\",\"target\":\"S3\",\"ports\":{\"S2\":\"s2-eth2\",\"S3\":\"s3-eth1\"}},{\"source\":\"H1\",\"target\":\"S2\",\"ports\":{\"H1\":\"s2-eth3\"}},{\"source\":\"S2\",\"target\":\"H1\",\"ports\":{\"S2\":\"s2-eth3\"}},{\"source\":\"H2\",\"target\":\"S1\",\"ports\":{\"H2\":\"s1-eth2\"}},{\"source\":\"S1\",\"target\":\"H2\",\"ports\":{\"S1\":\"s1-eth2\"}},{\"source\":\"H3\",\"target\":\"S3\",\"ports\":{\"H3\":\"s3-eth2\"}},{\"source\":\"S3\",\"target\":\"H3\",\"ports\":{\"S3\":\"s3-eth2\"}}],\"flow-tables\":{\"S1\":[{\"priority\":65535,\"cookie\":0,\"idle_timeout\":0,\"hard_timeout\":0,\"byte_count\":1260,\"duration_sec\":19,\"duration_nsec\":311000000,\"packet_count\":21,\"length\":96,\"flags\":0,\"actions\":[\"OUTPUT:CONTROLLER\"],\"match\":{\"dl_dst\":\"01:80:c2:00:00:0e\",\"dl_type\":35020},\"table_id\":0},{\"priority\":1,\"cookie\":0,\"idle_timeout\":0,\"hard_timeout\":0,\"byte_count\":238,\"duration_sec\":16,\"duration_nsec\":142000000,\"packet_count\":3,\"length\":104,\"flags\":0,\"actions\":[\"OUTPUT:2\"],\"match\":{\"in_port\":1,\"dl_src\":\"5e:9b:c3:ff:26:dc\",\"dl_dst\":\"82:c8:40:03:27:ef\"},\"table_id\":0},{\"priority\":1,\"cookie\":0,\"idle_timeout\":0,\"hard_timeout\":0,\"byte_count\":140,\"duration_sec\":16,\"duration_nsec\":122000000,\"packet_count\":2,\"length\":104,\"flags\":0,\"actions\":[\"OUTPUT:1\"],\"match\":{\"in_port\":2,\"dl_src\":\"82:c8:40:03:27:ef\",\"dl_dst\":\"5e:9b:c3:ff:26:dc\"},\"table_id\":0},{\"priority\":1,\"cookie\":0,\"idle_timeout\":0,\"hard_timeout\":0,\"byte_count\":238,\"duration_sec\":16,\"duration_nsec\":63000000,\"packet_count\":3,\"length\":104,\"flags\":0,\"actions\":[\"OUTPUT:2\"],\"match\":{\"in_port\":1,\"dl_src\":\"a6:52:bd:65:22:ab\",\"dl_dst\":\"82:c8:40:03:27:ef\"},\"table_id\":0},{\"priority\":1,\"cookie\":0,\"idle_timeout\":0,\"hard_timeout\":0,\"byte_count\":140,\"duration_sec\":16,\"duration_nsec\":58000000,\"packet_count\":2,\"length\":104,\"flags\":0,\"actions\":[\"OUTPUT:1\"],\"match\":{\"in_port\":2,\"dl_src\":\"82:c8:40:03:27:ef\",\"dl_dst\":\"a6:52:bd:65:22:ab\"},\"table_id\":0},{\"priority\":0,\"cookie\":0,\"idle_timeout\":0,\"hard_timeout\":0,\"byte_count\":8138,\"duration_sec\":19,\"duration_nsec\":338000000,\"packet_count\":66,\"length\":80,\"flags\":0,\"actions\":[\"OUTPUT:CONTROLLER\"],\"match\":{},\"table_id\":0}],\"S2\":[{\"priority\":65535,\"cookie\":0,\"idle_timeout\":0,\"hard_timeout\":0,\"byte_count\":2520,\"duration_sec\":19,\"duration_nsec\":415000000,\"packet_count\":42,\"length\":96,\"flags\":0,\"actions\":[\"OUTPUT:CONTROLLER\"],\"match\":{\"dl_dst\":\"01:80:c2:00:00:0e\",\"dl_type\":35020},\"table_id\":0},{\"priority\":1,\"cookie\":0,\"idle_timeout\":0,\"hard_timeout\":0,\"byte_count\":238,\"duration_sec\":16,\"duration_nsec\":335000000,\"packet_count\":3,\"length\":104,\"flags\":0,\"actions\":[\"OUTPUT:1\"],\"match\":{\"in_port\":3,\"dl_src\":\"5e:9b:c3:ff:26:dc\",\"dl_dst\":\"82:c8:40:03:27:ef\"},\"table_id\":0},{\"priority\":1,\"cookie\":0,\"idle_timeout\":0,\"hard_timeout\":0,\"byte_count\":140,\"duration_sec\":16,\"duration_nsec\":296000000,\"packet_count\":2,\"length\":104,\"flags\":0,\"actions\":[\"OUTPUT:3\"],\"match\":{\"in_port\":1,\"dl_src\":\"82:c8:40:03:27:ef\",\"dl_dst\":\"5e:9b:c3:ff:26:dc\"},\"table_id\":0},{\"priority\":1,\"cookie\":0,\"idle_timeout\":0,\"hard_timeout\":0,\"byte_count\":238,\"duration_sec\":16,\"duration_nsec\":254000000,\"packet_count\":3,\"length\":104,\"flags\":0,\"actions\":[\"OUTPUT:1\"],\"match\":{\"in_port\":2,\"dl_src\":\"a6:52:bd:65:22:ab\",\"dl_dst\":\"82:c8:40:03:27:ef\"},\"table_id\":0},{\"priority\":1,\"cookie\":0,\"idle_timeout\":0,\"hard_timeout\":0,\"byte_count\":140,\"duration_sec\":16,\"duration_nsec\":240000000,\"packet_count\":2,\"length\":104,\"flags\":0,\"actions\":[\"OUTPUT:2\"],\"match\":{\"in_port\":1,\"dl_src\":\"82:c8:40:03:27:ef\",\"dl_dst\":\"a6:52:bd:65:22:ab\"},\"table_id\":0},{\"priority\":1,\"cookie\":0,\"idle_timeout\":0,\"hard_timeout\":0,\"byte_count\":238,\"duration_sec\":16,\"duration_nsec\":196000000,\"packet_count\":3,\"length\":104,\"flags\":0,\"actions\":[\"OUTPUT:3\"],\"match\":{\"in_port\":2,\"dl_src\":\"a6:52:bd:65:22:ab\",\"dl_dst\":\"5e:9b:c3:ff:26:dc\"},\"table_id\":0},{\"priority\":1,\"cookie\":0,\"idle_timeout\":0,\"hard_timeout\":0,\"byte_count\":140,\"duration_sec\":16,\"duration_nsec\":187000000,\"packet_count\":2,\"length\":104,\"flags\":0,\"actions\":[\"OUTPUT:2\"],\"match\":{\"in_port\":3,\"dl_src\":\"5e:9b:c3:ff:26:dc\",\"dl_dst\":\"a6:52:bd:65:22:ab\"},\"table_id\":0},{\"priority\":0,\"cookie\":0,\"idle_timeout\":0,\"hard_timeout\":0,\"byte_count\":8278,\"duration_sec\":19,\"duration_nsec\":435000000,\"packet_count\":68,\"length\":80,\"flags\":0,\"actions\":[\"OUTPUT:CONTROLLER\"],\"match\":{},\"table_id\":0}],\"S3\":[{\"priority\":65535,\"cookie\":0,\"idle_timeout\":0,\"hard_timeout\":0,\"byte_count\":1320,\"duration_sec\":19,\"duration_nsec\":603000000,\"packet_count\":22,\"length\":96,\"flags\":0,\"actions\":[\"OUTPUT:CONTROLLER\"],\"match\":{\"dl_dst\":\"01:80:c2:00:00:0e\",\"dl_type\":35020},\"table_id\":0},{\"priority\":1,\"cookie\":0,\"idle_timeout\":0,\"hard_timeout\":0,\"byte_count\":238,\"duration_sec\":16,\"duration_nsec\":484000000,\"packet_count\":3,\"length\":104,\"flags\":0,\"actions\":[\"OUTPUT:1\"],\"match\":{\"in_port\":2,\"dl_src\":\"a6:52:bd:65:22:ab\",\"dl_dst\":\"82:c8:40:03:27:ef\"},\"table_id\":0},{\"priority\":1,\"cookie\":0,\"idle_timeout\":0,\"hard_timeout\":0,\"byte_count\":140,\"duration_sec\":16,\"duration_nsec\":460000000,\"packet_count\":2,\"length\":104,\"flags\":0,\"actions\":[\"OUTPUT:2\"],\"match\":{\"in_port\":1,\"dl_src\":\"82:c8:40:03:27:ef\",\"dl_dst\":\"a6:52:bd:65:22:ab\"},\"table_id\":0},{\"priority\":1,\"cookie\":0,\"idle_timeout\":0,\"hard_timeout\":0,\"byte_count\":238,\"duration_sec\":16,\"duration_nsec\":424000000,\"packet_count\":3,\"length\":104,\"flags\":0,\"actions\":[\"OUTPUT:1\"],\"match\":{\"in_port\":2,\"dl_src\":\"a6:52:bd:65:22:ab\",\"dl_dst\":\"5e:9b:c3:ff:26:dc\"},\"table_id\":0},{\"priority\":1,\"cookie\":0,\"idle_timeout\":0,\"hard_timeout\":0,\"byte_count\":140,\"duration_sec\":16,\"duration_nsec\":405000000,\"packet_count\":2,\"length\":104,\"flags\":0,\"actions\":[\"OUTPUT:2\"],\"match\":{\"in_port\":1,\"dl_src\":\"5e:9b:c3:ff:26:dc\",\"dl_dst\":\"a6:52:bd:65:22:ab\"},\"table_id\":0},{\"priority\":0,\"cookie\":0,\"idle_timeout\":0,\"hard_timeout\":0,\"byte_count\":7966,\"duration_sec\":19,\"duration_nsec\":616000000,\"packet_count\":64,\"length\":80,\"flags\":0,\"actions\":[\"OUTPUT:CONTROLLER\"],\"match\":{},\"table_id\":0}]}}'''\n",
    "string_1"
   ]
  },
  {
   "cell_type": "code",
   "execution_count": null,
   "metadata": {},
   "outputs": [],
   "source": [
    "x = json.loads(string_1)"
   ]
  },
  {
   "cell_type": "code",
   "execution_count": null,
   "metadata": {},
   "outputs": [],
   "source": [
    "print(x)"
   ]
  },
  {
   "cell_type": "code",
   "execution_count": null,
   "metadata": {},
   "outputs": [],
   "source": [
    "for i in x:\n",
    "    print(i)"
   ]
  },
  {
   "cell_type": "code",
   "execution_count": null,
   "metadata": {},
   "outputs": [],
   "source": [
    "for i in x['nodes']:\n",
    "    print(i)"
   ]
  },
  {
   "cell_type": "code",
   "execution_count": null,
   "metadata": {},
   "outputs": [],
   "source": [
    "from criticality_path_finder import Find_ciritical_path\n",
    "\n",
    "x = Find_ciritical_path()\n",
    "\n",
    "x.get_critical_path('A1', 'low', 'A12', 'high')"
   ]
  },
  {
   "cell_type": "code",
   "execution_count": null,
   "metadata": {},
   "outputs": [],
   "source": [
    "for j in sorted(x.adjacency_dictionary,key=lambda i:len(x.adjacency_dictionary[i]),reverse=True)[:3]:\n",
    "    print(type(j))"
   ]
  },
  {
   "cell_type": "code",
   "execution_count": null,
   "metadata": {},
   "outputs": [],
   "source": [
    "three_most_connected_nodes = sorted(x.adjacency_dictionary,key=lambda j:len(x.adjacency_dictionary[j]),reverse=True)[:3]\n",
    "\n",
    "vulnerabilities = []\n",
    "for i in x.adjacency_dictionary:\n",
    "    if any(item in three_most_connected_nodes for item in x.adjacency_dictionary[i]):\n",
    "        vulnerabilities.append(i)\n",
    "\n",
    "for i in vulnerabilities:\n",
    "    print(i.vulnerabilty_score, end = ' >>> ')\n",
    "vulnerabilities.sort(key= lambda x: x.vulnerabilty_score,reverse=True)\n",
    "print()\n",
    "for i in vulnerabilities:\n",
    "    print(i.vulnerabilty_score, end = ' >>> ')"
   ]
  },
  {
   "cell_type": "code",
   "execution_count": null,
   "metadata": {},
   "outputs": [],
   "source": []
  },
  {
   "attachments": {},
   "cell_type": "markdown",
   "metadata": {},
   "source": [
    "# _Creating simple finder using object in object model_"
   ]
  },
  {
   "cell_type": "code",
   "execution_count": null,
   "metadata": {},
   "outputs": [],
   "source": [
    "import criticality_path_finder"
   ]
  },
  {
   "cell_type": "code",
   "execution_count": null,
   "metadata": {},
   "outputs": [],
   "source": [
    "class Find_attack_range:\n",
    "    def __init__(self) -> None:\n",
    "        self.myserver = criticality_path_finder.MYSQL_connection()\n",
    "        self.main_list = []\n",
    "        self.node = criticality_path_finder.NodeList()\n",
    "        self.adjacency_dictionary = {}\n",
    "        self.unique_nodes = []\n",
    "        self.number = 0\n",
    "\n",
    "    def find_all_attackable_path(self,current_node : criticality_path_finder.Node, travelling_path : tuple):\n",
    "        if current_node in travelling_path:\n",
    "            if travelling_path[:-1] not in self.main_list:\n",
    "                self.main_list.append(travelling_path[:-1])\n",
    "            return\n",
    "        else:\n",
    "            # print(travelling_path)\n",
    "            travelling_path += (current_node,)\n",
    "            for i in self.myserver.find_in_asset_vulnerability(current_node.node_id, current_node.access_level):\n",
    "                asset_id_in, current_access_in = self.myserver.find_post_condition(i[1])\n",
    "                # print(asset_id_in,current_access_in)\n",
    "                new_node = self.node.create_asset_node(asset_id_in, current_access_in)\n",
    "\n",
    "                vulnerability_id = i[1].split('.')[1]\n",
    "                \n",
    "                vulnerability_node = self.node.create_vulnerability_node(current_node, new_node, vulnerability_id)\n",
    "                # self.set_distance_from_start(vulnerability_node, distance + 2)\n",
    "\n",
    "                path = travelling_path + (vulnerability_node,)\n",
    "                # print(new_node,goal_node,path)\n",
    "                self.find_all_attackable_path(new_node,path)\n",
    "            \n",
    "            for j in self.myserver.find_out_of_asset_vulnerabilities(current_node.node_id, current_node.access_level):\n",
    "                \n",
    "                # reference what the data is in J\n",
    "                # [['A1.high', 'A1.remote_access.A3', 'A3.CVE-2019-12749']]\n",
    "                # kindly follow and update the upper data to get the \n",
    "                asset_id_out, current_access_out = self.myserver.find_post_condition(j[2])\n",
    "                # print(asset_id_out,current_access_out)\n",
    "                new_node = self.node.create_asset_node(asset_id_out, current_access_out)\n",
    "                vulnerability_id = j[2].split('.')[1]\n",
    "                connection_type = j[1].split('.')[1]\n",
    "                vulnerability_node = self.node.create_vulnerability_node(current_node, new_node,\n",
    "                                                            vulnerability_id=vulnerability_id,\n",
    "                                                            connection_type=connection_type)\n",
    "                # self.set_distance_from_start(vulnerability_node,distance + 2)\n",
    "                path = travelling_path + (vulnerability_node,)\n",
    "                self.find_all_attackable_path(new_node, path)\n",
    "\n",
    "    def get_unique_nodes(self):\n",
    "        return self.node.asset_nodes\n",
    "    \n",
    "    def list_to_adjacency_matrix(self):\n",
    "        self.adjacency_dictionary = {}\n",
    "        self.unique_nodes = []\n",
    "        self.unique_nodes = self.node.asset_nodes + self.node.vulnerability_nodes\n",
    "        # for i in self.unique_nodes:\n",
    "        #     print(i)\n",
    "        for i in self.unique_nodes:\n",
    "            empty_list = []\n",
    "            for j in range(len(self.main_list)):\n",
    "                for k in range(len(self.main_list[j])-1):\n",
    "                    if i == self.main_list[j][k]:\n",
    "                        if self.main_list[j][k+1] not in empty_list:\n",
    "                            empty_list.append(self.main_list[j][k+1])\n",
    "            self.adjacency_dictionary[i] = empty_list\n",
    "\n",
    "\n",
    "    def get_all_path(self,asset_id,current_access):\n",
    "        empty_tuple = ()\n",
    "        starting_node = self.node.create_asset_node(asset_id, current_access)\n",
    "        # goal_node = self.node.create_asset_node(goal_asset_id, goal_access_level)\n",
    "        # self.node.goal_asset_importance_score = goal_node.node_importance_score\n",
    "        # 1. First its trying to find the path by using network\n",
    "        # while finding path it also create nodes with value ** distance from start\n",
    "        self.find_all_attackable_path(current_node=starting_node, travelling_path=empty_tuple)\n",
    "        if len(self.main_list) == 0:\n",
    "\n",
    "            # if no path is found then return 0 which will return an error page\n",
    "\n",
    "            print(f'NO path FOUND for {starting_node} to {goal_node}')\n",
    "            return 0\n",
    "\n",
    "        print('PATHS FOUND ',len(self.main_list))\n",
    "        print(self.main_list)\n",
    "        print('time taken ', self.number)\n",
    "\n",
    "        # 2. creating adjacency matrix from 2D list\n",
    "        self.list_to_adjacency_matrix()\n",
    "\n",
    "        # 3. calculate shortest distance to goal\n",
    "\n",
    "        # self.calculate_shortest_path_to_target(goal_node=goal_node)\n",
    "\n",
    "        # 4. now calculate the criticality score and impact score \n",
    "        # for i in self.node.vulnerability_nodes:\n",
    "        #     i.calculate_criticality()\n",
    "\n",
    "        three_most_connected_nodes = sorted(self.adjacency_dictionary,key=lambda x:len(self.adjacency_dictionary[x]),reverse=True)[:3]\n",
    "        most_vulnerabilities = []\n",
    "        for i in self.adjacency_dictionary:\n",
    "            if any(item in three_most_connected_nodes for item in self.adjacency_dictionary[i]):\n",
    "                most_vulnerabilities.append(i)\n",
    "\n",
    "        most_vulnerabilities.sort(key= lambda x: x.vulnerabilty_score,reverse=True)\n",
    "\n",
    "        # three_most_connected_nodes[0].color = '#FF0000'\n",
    "        # three_most_connected_nodes[1].color = '#FF5733'\n",
    "        # three_most_connected_nodes[2].color = '#FFA07A'\n",
    "        \n",
    "        most_vulnerabilities[0].color = '#FF0000'\n",
    "        most_vulnerabilities[1].color = '#FF5733'\n",
    "        try:\n",
    "            most_vulnerabilities[2].color = '#FFA07A'\n",
    "        except:\n",
    "            pass\n",
    "        safe_nodes =[starting_node]\n",
    "        temp_nodes = list(self.adjacency_dictionary.keys()) # strong temp nodes\n",
    "        for i in temp_nodes:\n",
    "            if len(self.adjacency_dictionary[i]) == 0 and i not in safe_nodes:\n",
    "                self.adjacency_dictionary.pop(i)\n",
    "        # 4. create JSON FROM THE DATA AND RETURN IT TO ROUTE.PY\n",
    "        json_converter = criticality_path_finder.Json_node_builder()\n",
    "        return json_converter.list_to_node(self.adjacency_dictionary)"
   ]
  },
  {
   "cell_type": "code",
   "execution_count": null,
   "metadata": {},
   "outputs": [],
   "source": [
    "x = Find_attack_range()\n",
    "x.get_all_path('A1','low')"
   ]
  },
  {
   "cell_type": "code",
   "execution_count": 1,
   "metadata": {},
   "outputs": [
    {
     "name": "stdout",
     "output_type": "stream",
     "text": [
      "<mysql.connector.connection_cext.CMySQLConnection object at 0x7f4ddc6938e0>\n",
      "<mysql.connector.connection_cext.CMySQLConnection object at 0x7f4ddc75b790>\n",
      "PATHS FOUND  108\n",
      "[(A1 + low, {'Attack type': 'IN ASSET ATTACK', 'from': 'A1 + low', 'to': 'A1 + high', 'vulnerability used': 'CVE-2019-1468'}, A1 + high, {'Attack type': 'OUT OF ASSET ATTACK', 'from': 'A1 + high', 'to': 'A3 + high', 'vulnerability used': 'CVE-2019-12749', 'Connection': 'remote_access'}, A3 + high, {'Attack type': 'OUT OF ASSET ATTACK', 'from': 'A3 + high', 'to': 'A7 + high', 'vulnerability used': 'CVE-2006-3486', 'Connection': 'network_access'}, A7 + high, {'Attack type': 'IN ASSET ATTACK', 'from': 'A7 + high', 'to': 'A7 + low', 'vulnerability used': 'CVE-2020-13125'}, A7 + low, {'Attack type': 'OUT OF ASSET ATTACK', 'from': 'A7 + low', 'to': 'A12 + high', 'vulnerability used': 'CVE-2012-2319', 'Connection': 'network_access'}, A12 + high, {'Attack type': 'IN ASSET ATTACK', 'from': 'A12 + high', 'to': 'A12 + low', 'vulnerability used': 'CVE-2016-1409'}, A12 + low, {'Attack type': 'OUT OF ASSET ATTACK', 'from': 'A12 + low', 'to': 'A13 + high', 'vulnerability used': 'CVE-2006-6703', 'Connection': 'remote_access'}, A13 + high, {'Attack type': 'IN ASSET ATTACK', 'from': 'A13 + high', 'to': 'A13 + low', 'vulnerability used': 'CVE-2013-5065'}, A13 + low, {'Attack type': 'OUT OF ASSET ATTACK', 'from': 'A13 + low', 'to': 'A14 + low', 'vulnerability used': 'CVE-2012-2749', 'Connection': 'remote_access'}, A14 + low, {'Attack type': 'IN ASSET ATTACK', 'from': 'A14 + low', 'to': 'A14 + high', 'vulnerability used': 'CVE-2009-4030'}, A14 + high), (A1 + low, {'Attack type': 'IN ASSET ATTACK', 'from': 'A1 + low', 'to': 'A1 + high', 'vulnerability used': 'CVE-2019-1468'}, A1 + high, {'Attack type': 'OUT OF ASSET ATTACK', 'from': 'A1 + high', 'to': 'A3 + high', 'vulnerability used': 'CVE-2019-12749', 'Connection': 'remote_access'}, A3 + high, {'Attack type': 'OUT OF ASSET ATTACK', 'from': 'A3 + high', 'to': 'A7 + high', 'vulnerability used': 'CVE-2006-3486', 'Connection': 'network_access'}, A7 + high, {'Attack type': 'IN ASSET ATTACK', 'from': 'A7 + high', 'to': 'A7 + low', 'vulnerability used': 'CVE-2020-13125'}, A7 + low, {'Attack type': 'OUT OF ASSET ATTACK', 'from': 'A7 + low', 'to': 'A12 + high', 'vulnerability used': 'CVE-2012-2319', 'Connection': 'network_access'}, A12 + high, {'Attack type': 'IN ASSET ATTACK', 'from': 'A12 + high', 'to': 'A12 + low', 'vulnerability used': 'CVE-2016-1409'}, A12 + low, {'Attack type': 'OUT OF ASSET ATTACK', 'from': 'A12 + low', 'to': 'A13 + high', 'vulnerability used': 'CVE-2006-6703', 'Connection': 'remote_access'}, A13 + high, {'Attack type': 'IN ASSET ATTACK', 'from': 'A13 + high', 'to': 'A13 + low', 'vulnerability used': 'CVE-2013-5065'}, A13 + low, {'Attack type': 'OUT OF ASSET ATTACK', 'from': 'A13 + low', 'to': 'A14 + low', 'vulnerability used': 'CVE-2012-2749', 'Connection': 'remote_access'}, A14 + low, {'Attack type': 'IN ASSET ATTACK', 'from': 'A14 + low', 'to': 'A14 + high', 'vulnerability used': 'CVE-2017-10271'}, A14 + high), (A1 + low, {'Attack type': 'IN ASSET ATTACK', 'from': 'A1 + low', 'to': 'A1 + high', 'vulnerability used': 'CVE-2019-1468'}, A1 + high, {'Attack type': 'OUT OF ASSET ATTACK', 'from': 'A1 + high', 'to': 'A3 + high', 'vulnerability used': 'CVE-2019-12749', 'Connection': 'remote_access'}, A3 + high, {'Attack type': 'OUT OF ASSET ATTACK', 'from': 'A3 + high', 'to': 'A7 + high', 'vulnerability used': 'CVE-2006-3486', 'Connection': 'network_access'}, A7 + high, {'Attack type': 'IN ASSET ATTACK', 'from': 'A7 + high', 'to': 'A7 + low', 'vulnerability used': 'CVE-2020-13125'}, A7 + low, {'Attack type': 'OUT OF ASSET ATTACK', 'from': 'A7 + low', 'to': 'A12 + high', 'vulnerability used': 'CVE-2012-2319', 'Connection': 'network_access'}, A12 + high, {'Attack type': 'IN ASSET ATTACK', 'from': 'A12 + high', 'to': 'A12 + low', 'vulnerability used': 'CVE-2016-1409'}, A12 + low, {'Attack type': 'OUT OF ASSET ATTACK', 'from': 'A12 + low', 'to': 'A13 + high', 'vulnerability used': 'CVE-2006-6703', 'Connection': 'remote_access'}, A13 + high, {'Attack type': 'IN ASSET ATTACK', 'from': 'A13 + high', 'to': 'A13 + low', 'vulnerability used': 'CVE-2013-5065'}, A13 + low, {'Attack type': 'OUT OF ASSET ATTACK', 'from': 'A13 + low', 'to': 'A14 + high', 'vulnerability used': 'CVE-2019-1817', 'Connection': 'remote_access'}, A14 + high), (A1 + low, {'Attack type': 'IN ASSET ATTACK', 'from': 'A1 + low', 'to': 'A1 + high', 'vulnerability used': 'CVE-2019-1468'}, A1 + high, {'Attack type': 'OUT OF ASSET ATTACK', 'from': 'A1 + high', 'to': 'A3 + high', 'vulnerability used': 'CVE-2019-12749', 'Connection': 'remote_access'}, A3 + high, {'Attack type': 'OUT OF ASSET ATTACK', 'from': 'A3 + high', 'to': 'A7 + high', 'vulnerability used': 'CVE-2006-3486', 'Connection': 'network_access'}, A7 + high, {'Attack type': 'IN ASSET ATTACK', 'from': 'A7 + high', 'to': 'A7 + low', 'vulnerability used': 'CVE-2020-13125'}, A7 + low, {'Attack type': 'OUT OF ASSET ATTACK', 'from': 'A7 + low', 'to': 'A12 + high', 'vulnerability used': 'CVE-2012-2319', 'Connection': 'network_access'}, A12 + high, {'Attack type': 'IN ASSET ATTACK', 'from': 'A12 + high', 'to': 'A12 + low', 'vulnerability used': 'CVE-2016-1409'}, A12 + low, {'Attack type': 'OUT OF ASSET ATTACK', 'from': 'A12 + low', 'to': 'A13 + high', 'vulnerability used': 'CVE-2006-6703', 'Connection': 'remote_access'}, A13 + high, {'Attack type': 'OUT OF ASSET ATTACK', 'from': 'A13 + high', 'to': 'A14 + low', 'vulnerability used': 'CVE-2012-2749', 'Connection': 'remote_access'}, A14 + low, {'Attack type': 'IN ASSET ATTACK', 'from': 'A14 + low', 'to': 'A14 + high', 'vulnerability used': 'CVE-2009-4030'}, A14 + high), (A1 + low, {'Attack type': 'IN ASSET ATTACK', 'from': 'A1 + low', 'to': 'A1 + high', 'vulnerability used': 'CVE-2019-1468'}, A1 + high, {'Attack type': 'OUT OF ASSET ATTACK', 'from': 'A1 + high', 'to': 'A3 + high', 'vulnerability used': 'CVE-2019-12749', 'Connection': 'remote_access'}, A3 + high, {'Attack type': 'OUT OF ASSET ATTACK', 'from': 'A3 + high', 'to': 'A7 + high', 'vulnerability used': 'CVE-2006-3486', 'Connection': 'network_access'}, A7 + high, {'Attack type': 'IN ASSET ATTACK', 'from': 'A7 + high', 'to': 'A7 + low', 'vulnerability used': 'CVE-2020-13125'}, A7 + low, {'Attack type': 'OUT OF ASSET ATTACK', 'from': 'A7 + low', 'to': 'A12 + high', 'vulnerability used': 'CVE-2012-2319', 'Connection': 'network_access'}, A12 + high, {'Attack type': 'IN ASSET ATTACK', 'from': 'A12 + high', 'to': 'A12 + low', 'vulnerability used': 'CVE-2016-1409'}, A12 + low, {'Attack type': 'OUT OF ASSET ATTACK', 'from': 'A12 + low', 'to': 'A13 + high', 'vulnerability used': 'CVE-2006-6703', 'Connection': 'remote_access'}, A13 + high, {'Attack type': 'OUT OF ASSET ATTACK', 'from': 'A13 + high', 'to': 'A14 + low', 'vulnerability used': 'CVE-2012-2749', 'Connection': 'remote_access'}, A14 + low, {'Attack type': 'IN ASSET ATTACK', 'from': 'A14 + low', 'to': 'A14 + high', 'vulnerability used': 'CVE-2017-10271'}, A14 + high), (A1 + low, {'Attack type': 'IN ASSET ATTACK', 'from': 'A1 + low', 'to': 'A1 + high', 'vulnerability used': 'CVE-2019-1468'}, A1 + high, {'Attack type': 'OUT OF ASSET ATTACK', 'from': 'A1 + high', 'to': 'A3 + high', 'vulnerability used': 'CVE-2019-12749', 'Connection': 'remote_access'}, A3 + high, {'Attack type': 'OUT OF ASSET ATTACK', 'from': 'A3 + high', 'to': 'A7 + high', 'vulnerability used': 'CVE-2006-3486', 'Connection': 'network_access'}, A7 + high, {'Attack type': 'IN ASSET ATTACK', 'from': 'A7 + high', 'to': 'A7 + low', 'vulnerability used': 'CVE-2020-13125'}, A7 + low, {'Attack type': 'OUT OF ASSET ATTACK', 'from': 'A7 + low', 'to': 'A12 + high', 'vulnerability used': 'CVE-2012-2319', 'Connection': 'network_access'}, A12 + high, {'Attack type': 'IN ASSET ATTACK', 'from': 'A12 + high', 'to': 'A12 + low', 'vulnerability used': 'CVE-2016-1409'}, A12 + low, {'Attack type': 'OUT OF ASSET ATTACK', 'from': 'A12 + low', 'to': 'A13 + high', 'vulnerability used': 'CVE-2006-6703', 'Connection': 'remote_access'}, A13 + high, {'Attack type': 'OUT OF ASSET ATTACK', 'from': 'A13 + high', 'to': 'A14 + high', 'vulnerability used': 'CVE-2019-1817', 'Connection': 'remote_access'}, A14 + high), (A1 + low, {'Attack type': 'IN ASSET ATTACK', 'from': 'A1 + low', 'to': 'A1 + high', 'vulnerability used': 'CVE-2019-1468'}, A1 + high, {'Attack type': 'OUT OF ASSET ATTACK', 'from': 'A1 + high', 'to': 'A3 + high', 'vulnerability used': 'CVE-2019-12749', 'Connection': 'remote_access'}, A3 + high, {'Attack type': 'OUT OF ASSET ATTACK', 'from': 'A3 + high', 'to': 'A7 + high', 'vulnerability used': 'CVE-2006-3486', 'Connection': 'network_access'}, A7 + high, {'Attack type': 'IN ASSET ATTACK', 'from': 'A7 + high', 'to': 'A7 + low', 'vulnerability used': 'CVE-2020-13125'}, A7 + low, {'Attack type': 'OUT OF ASSET ATTACK', 'from': 'A7 + low', 'to': 'A12 + high', 'vulnerability used': 'CVE-2012-2319', 'Connection': 'network_access'}, A12 + high, {'Attack type': 'OUT OF ASSET ATTACK', 'from': 'A12 + high', 'to': 'A13 + high', 'vulnerability used': 'CVE-2004-1371', 'Connection': 'remote_access'}, A13 + high, {'Attack type': 'IN ASSET ATTACK', 'from': 'A13 + high', 'to': 'A13 + low', 'vulnerability used': 'CVE-2013-5065'}, A13 + low, {'Attack type': 'OUT OF ASSET ATTACK', 'from': 'A13 + low', 'to': 'A14 + low', 'vulnerability used': 'CVE-2012-2749', 'Connection': 'remote_access'}, A14 + low, {'Attack type': 'IN ASSET ATTACK', 'from': 'A14 + low', 'to': 'A14 + high', 'vulnerability used': 'CVE-2009-4030'}, A14 + high), (A1 + low, {'Attack type': 'IN ASSET ATTACK', 'from': 'A1 + low', 'to': 'A1 + high', 'vulnerability used': 'CVE-2019-1468'}, A1 + high, {'Attack type': 'OUT OF ASSET ATTACK', 'from': 'A1 + high', 'to': 'A3 + high', 'vulnerability used': 'CVE-2019-12749', 'Connection': 'remote_access'}, A3 + high, {'Attack type': 'OUT OF ASSET ATTACK', 'from': 'A3 + high', 'to': 'A7 + high', 'vulnerability used': 'CVE-2006-3486', 'Connection': 'network_access'}, A7 + high, {'Attack type': 'IN ASSET ATTACK', 'from': 'A7 + high', 'to': 'A7 + low', 'vulnerability used': 'CVE-2020-13125'}, A7 + low, {'Attack type': 'OUT OF ASSET ATTACK', 'from': 'A7 + low', 'to': 'A12 + high', 'vulnerability used': 'CVE-2012-2319', 'Connection': 'network_access'}, A12 + high, {'Attack type': 'OUT OF ASSET ATTACK', 'from': 'A12 + high', 'to': 'A13 + high', 'vulnerability used': 'CVE-2004-1371', 'Connection': 'remote_access'}, A13 + high, {'Attack type': 'IN ASSET ATTACK', 'from': 'A13 + high', 'to': 'A13 + low', 'vulnerability used': 'CVE-2013-5065'}, A13 + low, {'Attack type': 'OUT OF ASSET ATTACK', 'from': 'A13 + low', 'to': 'A14 + low', 'vulnerability used': 'CVE-2012-2749', 'Connection': 'remote_access'}, A14 + low, {'Attack type': 'IN ASSET ATTACK', 'from': 'A14 + low', 'to': 'A14 + high', 'vulnerability used': 'CVE-2017-10271'}, A14 + high), (A1 + low, {'Attack type': 'IN ASSET ATTACK', 'from': 'A1 + low', 'to': 'A1 + high', 'vulnerability used': 'CVE-2019-1468'}, A1 + high, {'Attack type': 'OUT OF ASSET ATTACK', 'from': 'A1 + high', 'to': 'A3 + high', 'vulnerability used': 'CVE-2019-12749', 'Connection': 'remote_access'}, A3 + high, {'Attack type': 'OUT OF ASSET ATTACK', 'from': 'A3 + high', 'to': 'A7 + high', 'vulnerability used': 'CVE-2006-3486', 'Connection': 'network_access'}, A7 + high, {'Attack type': 'IN ASSET ATTACK', 'from': 'A7 + high', 'to': 'A7 + low', 'vulnerability used': 'CVE-2020-13125'}, A7 + low, {'Attack type': 'OUT OF ASSET ATTACK', 'from': 'A7 + low', 'to': 'A12 + high', 'vulnerability used': 'CVE-2012-2319', 'Connection': 'network_access'}, A12 + high, {'Attack type': 'OUT OF ASSET ATTACK', 'from': 'A12 + high', 'to': 'A13 + high', 'vulnerability used': 'CVE-2004-1371', 'Connection': 'remote_access'}, A13 + high, {'Attack type': 'IN ASSET ATTACK', 'from': 'A13 + high', 'to': 'A13 + low', 'vulnerability used': 'CVE-2013-5065'}, A13 + low, {'Attack type': 'OUT OF ASSET ATTACK', 'from': 'A13 + low', 'to': 'A14 + high', 'vulnerability used': 'CVE-2019-1817', 'Connection': 'remote_access'}, A14 + high), (A1 + low, {'Attack type': 'IN ASSET ATTACK', 'from': 'A1 + low', 'to': 'A1 + high', 'vulnerability used': 'CVE-2019-1468'}, A1 + high, {'Attack type': 'OUT OF ASSET ATTACK', 'from': 'A1 + high', 'to': 'A3 + high', 'vulnerability used': 'CVE-2019-12749', 'Connection': 'remote_access'}, A3 + high, {'Attack type': 'OUT OF ASSET ATTACK', 'from': 'A3 + high', 'to': 'A7 + high', 'vulnerability used': 'CVE-2006-3486', 'Connection': 'network_access'}, A7 + high, {'Attack type': 'IN ASSET ATTACK', 'from': 'A7 + high', 'to': 'A7 + low', 'vulnerability used': 'CVE-2020-13125'}, A7 + low, {'Attack type': 'OUT OF ASSET ATTACK', 'from': 'A7 + low', 'to': 'A12 + high', 'vulnerability used': 'CVE-2012-2319', 'Connection': 'network_access'}, A12 + high, {'Attack type': 'OUT OF ASSET ATTACK', 'from': 'A12 + high', 'to': 'A13 + high', 'vulnerability used': 'CVE-2004-1371', 'Connection': 'remote_access'}, A13 + high, {'Attack type': 'OUT OF ASSET ATTACK', 'from': 'A13 + high', 'to': 'A14 + low', 'vulnerability used': 'CVE-2012-2749', 'Connection': 'remote_access'}, A14 + low, {'Attack type': 'IN ASSET ATTACK', 'from': 'A14 + low', 'to': 'A14 + high', 'vulnerability used': 'CVE-2009-4030'}, A14 + high), (A1 + low, {'Attack type': 'IN ASSET ATTACK', 'from': 'A1 + low', 'to': 'A1 + high', 'vulnerability used': 'CVE-2019-1468'}, A1 + high, {'Attack type': 'OUT OF ASSET ATTACK', 'from': 'A1 + high', 'to': 'A3 + high', 'vulnerability used': 'CVE-2019-12749', 'Connection': 'remote_access'}, A3 + high, {'Attack type': 'OUT OF ASSET ATTACK', 'from': 'A3 + high', 'to': 'A7 + high', 'vulnerability used': 'CVE-2006-3486', 'Connection': 'network_access'}, A7 + high, {'Attack type': 'IN ASSET ATTACK', 'from': 'A7 + high', 'to': 'A7 + low', 'vulnerability used': 'CVE-2020-13125'}, A7 + low, {'Attack type': 'OUT OF ASSET ATTACK', 'from': 'A7 + low', 'to': 'A12 + high', 'vulnerability used': 'CVE-2012-2319', 'Connection': 'network_access'}, A12 + high, {'Attack type': 'OUT OF ASSET ATTACK', 'from': 'A12 + high', 'to': 'A13 + high', 'vulnerability used': 'CVE-2004-1371', 'Connection': 'remote_access'}, A13 + high, {'Attack type': 'OUT OF ASSET ATTACK', 'from': 'A13 + high', 'to': 'A14 + low', 'vulnerability used': 'CVE-2012-2749', 'Connection': 'remote_access'}, A14 + low, {'Attack type': 'IN ASSET ATTACK', 'from': 'A14 + low', 'to': 'A14 + high', 'vulnerability used': 'CVE-2017-10271'}, A14 + high), (A1 + low, {'Attack type': 'IN ASSET ATTACK', 'from': 'A1 + low', 'to': 'A1 + high', 'vulnerability used': 'CVE-2019-1468'}, A1 + high, {'Attack type': 'OUT OF ASSET ATTACK', 'from': 'A1 + high', 'to': 'A3 + high', 'vulnerability used': 'CVE-2019-12749', 'Connection': 'remote_access'}, A3 + high, {'Attack type': 'OUT OF ASSET ATTACK', 'from': 'A3 + high', 'to': 'A7 + high', 'vulnerability used': 'CVE-2006-3486', 'Connection': 'network_access'}, A7 + high, {'Attack type': 'IN ASSET ATTACK', 'from': 'A7 + high', 'to': 'A7 + low', 'vulnerability used': 'CVE-2020-13125'}, A7 + low, {'Attack type': 'OUT OF ASSET ATTACK', 'from': 'A7 + low', 'to': 'A12 + high', 'vulnerability used': 'CVE-2012-2319', 'Connection': 'network_access'}, A12 + high, {'Attack type': 'OUT OF ASSET ATTACK', 'from': 'A12 + high', 'to': 'A13 + high', 'vulnerability used': 'CVE-2004-1371', 'Connection': 'remote_access'}, A13 + high, {'Attack type': 'OUT OF ASSET ATTACK', 'from': 'A13 + high', 'to': 'A14 + high', 'vulnerability used': 'CVE-2019-1817', 'Connection': 'remote_access'}, A14 + high), (A1 + low, {'Attack type': 'IN ASSET ATTACK', 'from': 'A1 + low', 'to': 'A1 + high', 'vulnerability used': 'CVE-2019-1468'}, A1 + high, {'Attack type': 'OUT OF ASSET ATTACK', 'from': 'A1 + high', 'to': 'A3 + high', 'vulnerability used': 'CVE-2019-12749', 'Connection': 'remote_access'}, A3 + high, {'Attack type': 'OUT OF ASSET ATTACK', 'from': 'A3 + high', 'to': 'A7 + high', 'vulnerability used': 'CVE-2006-3486', 'Connection': 'network_access'}, A7 + high, {'Attack type': 'IN ASSET ATTACK', 'from': 'A7 + high', 'to': 'A7 + low', 'vulnerability used': 'CVE-2020-13125'}, A7 + low, {'Attack type': 'OUT OF ASSET ATTACK', 'from': 'A7 + low', 'to': 'A12 + high', 'vulnerability used': 'CVE-2012-2319', 'Connection': 'network_access'}, A12 + high, {'Attack type': 'OUT OF ASSET ATTACK', 'from': 'A12 + high', 'to': 'A13 + high', 'vulnerability used': 'CVE-2006-6703', 'Connection': 'remote_access'}, A13 + high, {'Attack type': 'IN ASSET ATTACK', 'from': 'A13 + high', 'to': 'A13 + low', 'vulnerability used': 'CVE-2013-5065'}, A13 + low, {'Attack type': 'OUT OF ASSET ATTACK', 'from': 'A13 + low', 'to': 'A14 + low', 'vulnerability used': 'CVE-2012-2749', 'Connection': 'remote_access'}, A14 + low, {'Attack type': 'IN ASSET ATTACK', 'from': 'A14 + low', 'to': 'A14 + high', 'vulnerability used': 'CVE-2009-4030'}, A14 + high), (A1 + low, {'Attack type': 'IN ASSET ATTACK', 'from': 'A1 + low', 'to': 'A1 + high', 'vulnerability used': 'CVE-2019-1468'}, A1 + high, {'Attack type': 'OUT OF ASSET ATTACK', 'from': 'A1 + high', 'to': 'A3 + high', 'vulnerability used': 'CVE-2019-12749', 'Connection': 'remote_access'}, A3 + high, {'Attack type': 'OUT OF ASSET ATTACK', 'from': 'A3 + high', 'to': 'A7 + high', 'vulnerability used': 'CVE-2006-3486', 'Connection': 'network_access'}, A7 + high, {'Attack type': 'IN ASSET ATTACK', 'from': 'A7 + high', 'to': 'A7 + low', 'vulnerability used': 'CVE-2020-13125'}, A7 + low, {'Attack type': 'OUT OF ASSET ATTACK', 'from': 'A7 + low', 'to': 'A12 + high', 'vulnerability used': 'CVE-2012-2319', 'Connection': 'network_access'}, A12 + high, {'Attack type': 'OUT OF ASSET ATTACK', 'from': 'A12 + high', 'to': 'A13 + high', 'vulnerability used': 'CVE-2006-6703', 'Connection': 'remote_access'}, A13 + high, {'Attack type': 'IN ASSET ATTACK', 'from': 'A13 + high', 'to': 'A13 + low', 'vulnerability used': 'CVE-2013-5065'}, A13 + low, {'Attack type': 'OUT OF ASSET ATTACK', 'from': 'A13 + low', 'to': 'A14 + low', 'vulnerability used': 'CVE-2012-2749', 'Connection': 'remote_access'}, A14 + low, {'Attack type': 'IN ASSET ATTACK', 'from': 'A14 + low', 'to': 'A14 + high', 'vulnerability used': 'CVE-2017-10271'}, A14 + high), (A1 + low, {'Attack type': 'IN ASSET ATTACK', 'from': 'A1 + low', 'to': 'A1 + high', 'vulnerability used': 'CVE-2019-1468'}, A1 + high, {'Attack type': 'OUT OF ASSET ATTACK', 'from': 'A1 + high', 'to': 'A3 + high', 'vulnerability used': 'CVE-2019-12749', 'Connection': 'remote_access'}, A3 + high, {'Attack type': 'OUT OF ASSET ATTACK', 'from': 'A3 + high', 'to': 'A7 + high', 'vulnerability used': 'CVE-2006-3486', 'Connection': 'network_access'}, A7 + high, {'Attack type': 'IN ASSET ATTACK', 'from': 'A7 + high', 'to': 'A7 + low', 'vulnerability used': 'CVE-2020-13125'}, A7 + low, {'Attack type': 'OUT OF ASSET ATTACK', 'from': 'A7 + low', 'to': 'A12 + high', 'vulnerability used': 'CVE-2012-2319', 'Connection': 'network_access'}, A12 + high, {'Attack type': 'OUT OF ASSET ATTACK', 'from': 'A12 + high', 'to': 'A13 + high', 'vulnerability used': 'CVE-2006-6703', 'Connection': 'remote_access'}, A13 + high, {'Attack type': 'IN ASSET ATTACK', 'from': 'A13 + high', 'to': 'A13 + low', 'vulnerability used': 'CVE-2013-5065'}, A13 + low, {'Attack type': 'OUT OF ASSET ATTACK', 'from': 'A13 + low', 'to': 'A14 + high', 'vulnerability used': 'CVE-2019-1817', 'Connection': 'remote_access'}, A14 + high), (A1 + low, {'Attack type': 'IN ASSET ATTACK', 'from': 'A1 + low', 'to': 'A1 + high', 'vulnerability used': 'CVE-2019-1468'}, A1 + high, {'Attack type': 'OUT OF ASSET ATTACK', 'from': 'A1 + high', 'to': 'A3 + high', 'vulnerability used': 'CVE-2019-12749', 'Connection': 'remote_access'}, A3 + high, {'Attack type': 'OUT OF ASSET ATTACK', 'from': 'A3 + high', 'to': 'A7 + high', 'vulnerability used': 'CVE-2006-3486', 'Connection': 'network_access'}, A7 + high, {'Attack type': 'IN ASSET ATTACK', 'from': 'A7 + high', 'to': 'A7 + low', 'vulnerability used': 'CVE-2020-13125'}, A7 + low, {'Attack type': 'OUT OF ASSET ATTACK', 'from': 'A7 + low', 'to': 'A12 + high', 'vulnerability used': 'CVE-2012-2319', 'Connection': 'network_access'}, A12 + high, {'Attack type': 'OUT OF ASSET ATTACK', 'from': 'A12 + high', 'to': 'A13 + high', 'vulnerability used': 'CVE-2006-6703', 'Connection': 'remote_access'}, A13 + high, {'Attack type': 'OUT OF ASSET ATTACK', 'from': 'A13 + high', 'to': 'A14 + low', 'vulnerability used': 'CVE-2012-2749', 'Connection': 'remote_access'}, A14 + low, {'Attack type': 'IN ASSET ATTACK', 'from': 'A14 + low', 'to': 'A14 + high', 'vulnerability used': 'CVE-2009-4030'}, A14 + high), (A1 + low, {'Attack type': 'IN ASSET ATTACK', 'from': 'A1 + low', 'to': 'A1 + high', 'vulnerability used': 'CVE-2019-1468'}, A1 + high, {'Attack type': 'OUT OF ASSET ATTACK', 'from': 'A1 + high', 'to': 'A3 + high', 'vulnerability used': 'CVE-2019-12749', 'Connection': 'remote_access'}, A3 + high, {'Attack type': 'OUT OF ASSET ATTACK', 'from': 'A3 + high', 'to': 'A7 + high', 'vulnerability used': 'CVE-2006-3486', 'Connection': 'network_access'}, A7 + high, {'Attack type': 'IN ASSET ATTACK', 'from': 'A7 + high', 'to': 'A7 + low', 'vulnerability used': 'CVE-2020-13125'}, A7 + low, {'Attack type': 'OUT OF ASSET ATTACK', 'from': 'A7 + low', 'to': 'A12 + high', 'vulnerability used': 'CVE-2012-2319', 'Connection': 'network_access'}, A12 + high, {'Attack type': 'OUT OF ASSET ATTACK', 'from': 'A12 + high', 'to': 'A13 + high', 'vulnerability used': 'CVE-2006-6703', 'Connection': 'remote_access'}, A13 + high, {'Attack type': 'OUT OF ASSET ATTACK', 'from': 'A13 + high', 'to': 'A14 + low', 'vulnerability used': 'CVE-2012-2749', 'Connection': 'remote_access'}, A14 + low, {'Attack type': 'IN ASSET ATTACK', 'from': 'A14 + low', 'to': 'A14 + high', 'vulnerability used': 'CVE-2017-10271'}, A14 + high), (A1 + low, {'Attack type': 'IN ASSET ATTACK', 'from': 'A1 + low', 'to': 'A1 + high', 'vulnerability used': 'CVE-2019-1468'}, A1 + high, {'Attack type': 'OUT OF ASSET ATTACK', 'from': 'A1 + high', 'to': 'A3 + high', 'vulnerability used': 'CVE-2019-12749', 'Connection': 'remote_access'}, A3 + high, {'Attack type': 'OUT OF ASSET ATTACK', 'from': 'A3 + high', 'to': 'A7 + high', 'vulnerability used': 'CVE-2006-3486', 'Connection': 'network_access'}, A7 + high, {'Attack type': 'IN ASSET ATTACK', 'from': 'A7 + high', 'to': 'A7 + low', 'vulnerability used': 'CVE-2020-13125'}, A7 + low, {'Attack type': 'OUT OF ASSET ATTACK', 'from': 'A7 + low', 'to': 'A12 + high', 'vulnerability used': 'CVE-2012-2319', 'Connection': 'network_access'}, A12 + high, {'Attack type': 'OUT OF ASSET ATTACK', 'from': 'A12 + high', 'to': 'A13 + high', 'vulnerability used': 'CVE-2006-6703', 'Connection': 'remote_access'}, A13 + high, {'Attack type': 'OUT OF ASSET ATTACK', 'from': 'A13 + high', 'to': 'A14 + high', 'vulnerability used': 'CVE-2019-1817', 'Connection': 'remote_access'}, A14 + high), (A1 + low, {'Attack type': 'IN ASSET ATTACK', 'from': 'A1 + low', 'to': 'A1 + high', 'vulnerability used': 'CVE-2019-1468'}, A1 + high, {'Attack type': 'OUT OF ASSET ATTACK', 'from': 'A1 + high', 'to': 'A3 + high', 'vulnerability used': 'CVE-2019-12749', 'Connection': 'remote_access'}, A3 + high, {'Attack type': 'OUT OF ASSET ATTACK', 'from': 'A3 + high', 'to': 'A7 + high', 'vulnerability used': 'CVE-2006-3486', 'Connection': 'network_access'}, A7 + high, {'Attack type': 'OUT OF ASSET ATTACK', 'from': 'A7 + high', 'to': 'A12 + high', 'vulnerability used': 'CVE-2012-2319', 'Connection': 'network_access'}, A12 + high, {'Attack type': 'IN ASSET ATTACK', 'from': 'A12 + high', 'to': 'A12 + low', 'vulnerability used': 'CVE-2016-1409'}, A12 + low, {'Attack type': 'OUT OF ASSET ATTACK', 'from': 'A12 + low', 'to': 'A13 + high', 'vulnerability used': 'CVE-2006-6703', 'Connection': 'remote_access'}, A13 + high, {'Attack type': 'IN ASSET ATTACK', 'from': 'A13 + high', 'to': 'A13 + low', 'vulnerability used': 'CVE-2013-5065'}, A13 + low, {'Attack type': 'OUT OF ASSET ATTACK', 'from': 'A13 + low', 'to': 'A14 + low', 'vulnerability used': 'CVE-2012-2749', 'Connection': 'remote_access'}, A14 + low, {'Attack type': 'IN ASSET ATTACK', 'from': 'A14 + low', 'to': 'A14 + high', 'vulnerability used': 'CVE-2009-4030'}, A14 + high), (A1 + low, {'Attack type': 'IN ASSET ATTACK', 'from': 'A1 + low', 'to': 'A1 + high', 'vulnerability used': 'CVE-2019-1468'}, A1 + high, {'Attack type': 'OUT OF ASSET ATTACK', 'from': 'A1 + high', 'to': 'A3 + high', 'vulnerability used': 'CVE-2019-12749', 'Connection': 'remote_access'}, A3 + high, {'Attack type': 'OUT OF ASSET ATTACK', 'from': 'A3 + high', 'to': 'A7 + high', 'vulnerability used': 'CVE-2006-3486', 'Connection': 'network_access'}, A7 + high, {'Attack type': 'OUT OF ASSET ATTACK', 'from': 'A7 + high', 'to': 'A12 + high', 'vulnerability used': 'CVE-2012-2319', 'Connection': 'network_access'}, A12 + high, {'Attack type': 'IN ASSET ATTACK', 'from': 'A12 + high', 'to': 'A12 + low', 'vulnerability used': 'CVE-2016-1409'}, A12 + low, {'Attack type': 'OUT OF ASSET ATTACK', 'from': 'A12 + low', 'to': 'A13 + high', 'vulnerability used': 'CVE-2006-6703', 'Connection': 'remote_access'}, A13 + high, {'Attack type': 'IN ASSET ATTACK', 'from': 'A13 + high', 'to': 'A13 + low', 'vulnerability used': 'CVE-2013-5065'}, A13 + low, {'Attack type': 'OUT OF ASSET ATTACK', 'from': 'A13 + low', 'to': 'A14 + low', 'vulnerability used': 'CVE-2012-2749', 'Connection': 'remote_access'}, A14 + low, {'Attack type': 'IN ASSET ATTACK', 'from': 'A14 + low', 'to': 'A14 + high', 'vulnerability used': 'CVE-2017-10271'}, A14 + high), (A1 + low, {'Attack type': 'IN ASSET ATTACK', 'from': 'A1 + low', 'to': 'A1 + high', 'vulnerability used': 'CVE-2019-1468'}, A1 + high, {'Attack type': 'OUT OF ASSET ATTACK', 'from': 'A1 + high', 'to': 'A3 + high', 'vulnerability used': 'CVE-2019-12749', 'Connection': 'remote_access'}, A3 + high, {'Attack type': 'OUT OF ASSET ATTACK', 'from': 'A3 + high', 'to': 'A7 + high', 'vulnerability used': 'CVE-2006-3486', 'Connection': 'network_access'}, A7 + high, {'Attack type': 'OUT OF ASSET ATTACK', 'from': 'A7 + high', 'to': 'A12 + high', 'vulnerability used': 'CVE-2012-2319', 'Connection': 'network_access'}, A12 + high, {'Attack type': 'IN ASSET ATTACK', 'from': 'A12 + high', 'to': 'A12 + low', 'vulnerability used': 'CVE-2016-1409'}, A12 + low, {'Attack type': 'OUT OF ASSET ATTACK', 'from': 'A12 + low', 'to': 'A13 + high', 'vulnerability used': 'CVE-2006-6703', 'Connection': 'remote_access'}, A13 + high, {'Attack type': 'IN ASSET ATTACK', 'from': 'A13 + high', 'to': 'A13 + low', 'vulnerability used': 'CVE-2013-5065'}, A13 + low, {'Attack type': 'OUT OF ASSET ATTACK', 'from': 'A13 + low', 'to': 'A14 + high', 'vulnerability used': 'CVE-2019-1817', 'Connection': 'remote_access'}, A14 + high), (A1 + low, {'Attack type': 'IN ASSET ATTACK', 'from': 'A1 + low', 'to': 'A1 + high', 'vulnerability used': 'CVE-2019-1468'}, A1 + high, {'Attack type': 'OUT OF ASSET ATTACK', 'from': 'A1 + high', 'to': 'A3 + high', 'vulnerability used': 'CVE-2019-12749', 'Connection': 'remote_access'}, A3 + high, {'Attack type': 'OUT OF ASSET ATTACK', 'from': 'A3 + high', 'to': 'A7 + high', 'vulnerability used': 'CVE-2006-3486', 'Connection': 'network_access'}, A7 + high, {'Attack type': 'OUT OF ASSET ATTACK', 'from': 'A7 + high', 'to': 'A12 + high', 'vulnerability used': 'CVE-2012-2319', 'Connection': 'network_access'}, A12 + high, {'Attack type': 'IN ASSET ATTACK', 'from': 'A12 + high', 'to': 'A12 + low', 'vulnerability used': 'CVE-2016-1409'}, A12 + low, {'Attack type': 'OUT OF ASSET ATTACK', 'from': 'A12 + low', 'to': 'A13 + high', 'vulnerability used': 'CVE-2006-6703', 'Connection': 'remote_access'}, A13 + high, {'Attack type': 'OUT OF ASSET ATTACK', 'from': 'A13 + high', 'to': 'A14 + low', 'vulnerability used': 'CVE-2012-2749', 'Connection': 'remote_access'}, A14 + low, {'Attack type': 'IN ASSET ATTACK', 'from': 'A14 + low', 'to': 'A14 + high', 'vulnerability used': 'CVE-2009-4030'}, A14 + high), (A1 + low, {'Attack type': 'IN ASSET ATTACK', 'from': 'A1 + low', 'to': 'A1 + high', 'vulnerability used': 'CVE-2019-1468'}, A1 + high, {'Attack type': 'OUT OF ASSET ATTACK', 'from': 'A1 + high', 'to': 'A3 + high', 'vulnerability used': 'CVE-2019-12749', 'Connection': 'remote_access'}, A3 + high, {'Attack type': 'OUT OF ASSET ATTACK', 'from': 'A3 + high', 'to': 'A7 + high', 'vulnerability used': 'CVE-2006-3486', 'Connection': 'network_access'}, A7 + high, {'Attack type': 'OUT OF ASSET ATTACK', 'from': 'A7 + high', 'to': 'A12 + high', 'vulnerability used': 'CVE-2012-2319', 'Connection': 'network_access'}, A12 + high, {'Attack type': 'IN ASSET ATTACK', 'from': 'A12 + high', 'to': 'A12 + low', 'vulnerability used': 'CVE-2016-1409'}, A12 + low, {'Attack type': 'OUT OF ASSET ATTACK', 'from': 'A12 + low', 'to': 'A13 + high', 'vulnerability used': 'CVE-2006-6703', 'Connection': 'remote_access'}, A13 + high, {'Attack type': 'OUT OF ASSET ATTACK', 'from': 'A13 + high', 'to': 'A14 + low', 'vulnerability used': 'CVE-2012-2749', 'Connection': 'remote_access'}, A14 + low, {'Attack type': 'IN ASSET ATTACK', 'from': 'A14 + low', 'to': 'A14 + high', 'vulnerability used': 'CVE-2017-10271'}, A14 + high), (A1 + low, {'Attack type': 'IN ASSET ATTACK', 'from': 'A1 + low', 'to': 'A1 + high', 'vulnerability used': 'CVE-2019-1468'}, A1 + high, {'Attack type': 'OUT OF ASSET ATTACK', 'from': 'A1 + high', 'to': 'A3 + high', 'vulnerability used': 'CVE-2019-12749', 'Connection': 'remote_access'}, A3 + high, {'Attack type': 'OUT OF ASSET ATTACK', 'from': 'A3 + high', 'to': 'A7 + high', 'vulnerability used': 'CVE-2006-3486', 'Connection': 'network_access'}, A7 + high, {'Attack type': 'OUT OF ASSET ATTACK', 'from': 'A7 + high', 'to': 'A12 + high', 'vulnerability used': 'CVE-2012-2319', 'Connection': 'network_access'}, A12 + high, {'Attack type': 'IN ASSET ATTACK', 'from': 'A12 + high', 'to': 'A12 + low', 'vulnerability used': 'CVE-2016-1409'}, A12 + low, {'Attack type': 'OUT OF ASSET ATTACK', 'from': 'A12 + low', 'to': 'A13 + high', 'vulnerability used': 'CVE-2006-6703', 'Connection': 'remote_access'}, A13 + high, {'Attack type': 'OUT OF ASSET ATTACK', 'from': 'A13 + high', 'to': 'A14 + high', 'vulnerability used': 'CVE-2019-1817', 'Connection': 'remote_access'}, A14 + high), (A1 + low, {'Attack type': 'IN ASSET ATTACK', 'from': 'A1 + low', 'to': 'A1 + high', 'vulnerability used': 'CVE-2019-1468'}, A1 + high, {'Attack type': 'OUT OF ASSET ATTACK', 'from': 'A1 + high', 'to': 'A3 + high', 'vulnerability used': 'CVE-2019-12749', 'Connection': 'remote_access'}, A3 + high, {'Attack type': 'OUT OF ASSET ATTACK', 'from': 'A3 + high', 'to': 'A7 + high', 'vulnerability used': 'CVE-2006-3486', 'Connection': 'network_access'}, A7 + high, {'Attack type': 'OUT OF ASSET ATTACK', 'from': 'A7 + high', 'to': 'A12 + high', 'vulnerability used': 'CVE-2012-2319', 'Connection': 'network_access'}, A12 + high, {'Attack type': 'OUT OF ASSET ATTACK', 'from': 'A12 + high', 'to': 'A13 + high', 'vulnerability used': 'CVE-2004-1371', 'Connection': 'remote_access'}, A13 + high, {'Attack type': 'IN ASSET ATTACK', 'from': 'A13 + high', 'to': 'A13 + low', 'vulnerability used': 'CVE-2013-5065'}, A13 + low, {'Attack type': 'OUT OF ASSET ATTACK', 'from': 'A13 + low', 'to': 'A14 + low', 'vulnerability used': 'CVE-2012-2749', 'Connection': 'remote_access'}, A14 + low, {'Attack type': 'IN ASSET ATTACK', 'from': 'A14 + low', 'to': 'A14 + high', 'vulnerability used': 'CVE-2009-4030'}, A14 + high), (A1 + low, {'Attack type': 'IN ASSET ATTACK', 'from': 'A1 + low', 'to': 'A1 + high', 'vulnerability used': 'CVE-2019-1468'}, A1 + high, {'Attack type': 'OUT OF ASSET ATTACK', 'from': 'A1 + high', 'to': 'A3 + high', 'vulnerability used': 'CVE-2019-12749', 'Connection': 'remote_access'}, A3 + high, {'Attack type': 'OUT OF ASSET ATTACK', 'from': 'A3 + high', 'to': 'A7 + high', 'vulnerability used': 'CVE-2006-3486', 'Connection': 'network_access'}, A7 + high, {'Attack type': 'OUT OF ASSET ATTACK', 'from': 'A7 + high', 'to': 'A12 + high', 'vulnerability used': 'CVE-2012-2319', 'Connection': 'network_access'}, A12 + high, {'Attack type': 'OUT OF ASSET ATTACK', 'from': 'A12 + high', 'to': 'A13 + high', 'vulnerability used': 'CVE-2004-1371', 'Connection': 'remote_access'}, A13 + high, {'Attack type': 'IN ASSET ATTACK', 'from': 'A13 + high', 'to': 'A13 + low', 'vulnerability used': 'CVE-2013-5065'}, A13 + low, {'Attack type': 'OUT OF ASSET ATTACK', 'from': 'A13 + low', 'to': 'A14 + low', 'vulnerability used': 'CVE-2012-2749', 'Connection': 'remote_access'}, A14 + low, {'Attack type': 'IN ASSET ATTACK', 'from': 'A14 + low', 'to': 'A14 + high', 'vulnerability used': 'CVE-2017-10271'}, A14 + high), (A1 + low, {'Attack type': 'IN ASSET ATTACK', 'from': 'A1 + low', 'to': 'A1 + high', 'vulnerability used': 'CVE-2019-1468'}, A1 + high, {'Attack type': 'OUT OF ASSET ATTACK', 'from': 'A1 + high', 'to': 'A3 + high', 'vulnerability used': 'CVE-2019-12749', 'Connection': 'remote_access'}, A3 + high, {'Attack type': 'OUT OF ASSET ATTACK', 'from': 'A3 + high', 'to': 'A7 + high', 'vulnerability used': 'CVE-2006-3486', 'Connection': 'network_access'}, A7 + high, {'Attack type': 'OUT OF ASSET ATTACK', 'from': 'A7 + high', 'to': 'A12 + high', 'vulnerability used': 'CVE-2012-2319', 'Connection': 'network_access'}, A12 + high, {'Attack type': 'OUT OF ASSET ATTACK', 'from': 'A12 + high', 'to': 'A13 + high', 'vulnerability used': 'CVE-2004-1371', 'Connection': 'remote_access'}, A13 + high, {'Attack type': 'IN ASSET ATTACK', 'from': 'A13 + high', 'to': 'A13 + low', 'vulnerability used': 'CVE-2013-5065'}, A13 + low, {'Attack type': 'OUT OF ASSET ATTACK', 'from': 'A13 + low', 'to': 'A14 + high', 'vulnerability used': 'CVE-2019-1817', 'Connection': 'remote_access'}, A14 + high), (A1 + low, {'Attack type': 'IN ASSET ATTACK', 'from': 'A1 + low', 'to': 'A1 + high', 'vulnerability used': 'CVE-2019-1468'}, A1 + high, {'Attack type': 'OUT OF ASSET ATTACK', 'from': 'A1 + high', 'to': 'A3 + high', 'vulnerability used': 'CVE-2019-12749', 'Connection': 'remote_access'}, A3 + high, {'Attack type': 'OUT OF ASSET ATTACK', 'from': 'A3 + high', 'to': 'A7 + high', 'vulnerability used': 'CVE-2006-3486', 'Connection': 'network_access'}, A7 + high, {'Attack type': 'OUT OF ASSET ATTACK', 'from': 'A7 + high', 'to': 'A12 + high', 'vulnerability used': 'CVE-2012-2319', 'Connection': 'network_access'}, A12 + high, {'Attack type': 'OUT OF ASSET ATTACK', 'from': 'A12 + high', 'to': 'A13 + high', 'vulnerability used': 'CVE-2004-1371', 'Connection': 'remote_access'}, A13 + high, {'Attack type': 'OUT OF ASSET ATTACK', 'from': 'A13 + high', 'to': 'A14 + low', 'vulnerability used': 'CVE-2012-2749', 'Connection': 'remote_access'}, A14 + low, {'Attack type': 'IN ASSET ATTACK', 'from': 'A14 + low', 'to': 'A14 + high', 'vulnerability used': 'CVE-2009-4030'}, A14 + high), (A1 + low, {'Attack type': 'IN ASSET ATTACK', 'from': 'A1 + low', 'to': 'A1 + high', 'vulnerability used': 'CVE-2019-1468'}, A1 + high, {'Attack type': 'OUT OF ASSET ATTACK', 'from': 'A1 + high', 'to': 'A3 + high', 'vulnerability used': 'CVE-2019-12749', 'Connection': 'remote_access'}, A3 + high, {'Attack type': 'OUT OF ASSET ATTACK', 'from': 'A3 + high', 'to': 'A7 + high', 'vulnerability used': 'CVE-2006-3486', 'Connection': 'network_access'}, A7 + high, {'Attack type': 'OUT OF ASSET ATTACK', 'from': 'A7 + high', 'to': 'A12 + high', 'vulnerability used': 'CVE-2012-2319', 'Connection': 'network_access'}, A12 + high, {'Attack type': 'OUT OF ASSET ATTACK', 'from': 'A12 + high', 'to': 'A13 + high', 'vulnerability used': 'CVE-2004-1371', 'Connection': 'remote_access'}, A13 + high, {'Attack type': 'OUT OF ASSET ATTACK', 'from': 'A13 + high', 'to': 'A14 + low', 'vulnerability used': 'CVE-2012-2749', 'Connection': 'remote_access'}, A14 + low, {'Attack type': 'IN ASSET ATTACK', 'from': 'A14 + low', 'to': 'A14 + high', 'vulnerability used': 'CVE-2017-10271'}, A14 + high), (A1 + low, {'Attack type': 'IN ASSET ATTACK', 'from': 'A1 + low', 'to': 'A1 + high', 'vulnerability used': 'CVE-2019-1468'}, A1 + high, {'Attack type': 'OUT OF ASSET ATTACK', 'from': 'A1 + high', 'to': 'A3 + high', 'vulnerability used': 'CVE-2019-12749', 'Connection': 'remote_access'}, A3 + high, {'Attack type': 'OUT OF ASSET ATTACK', 'from': 'A3 + high', 'to': 'A7 + high', 'vulnerability used': 'CVE-2006-3486', 'Connection': 'network_access'}, A7 + high, {'Attack type': 'OUT OF ASSET ATTACK', 'from': 'A7 + high', 'to': 'A12 + high', 'vulnerability used': 'CVE-2012-2319', 'Connection': 'network_access'}, A12 + high, {'Attack type': 'OUT OF ASSET ATTACK', 'from': 'A12 + high', 'to': 'A13 + high', 'vulnerability used': 'CVE-2004-1371', 'Connection': 'remote_access'}, A13 + high, {'Attack type': 'OUT OF ASSET ATTACK', 'from': 'A13 + high', 'to': 'A14 + high', 'vulnerability used': 'CVE-2019-1817', 'Connection': 'remote_access'}, A14 + high), (A1 + low, {'Attack type': 'IN ASSET ATTACK', 'from': 'A1 + low', 'to': 'A1 + high', 'vulnerability used': 'CVE-2019-1468'}, A1 + high, {'Attack type': 'OUT OF ASSET ATTACK', 'from': 'A1 + high', 'to': 'A3 + high', 'vulnerability used': 'CVE-2019-12749', 'Connection': 'remote_access'}, A3 + high, {'Attack type': 'OUT OF ASSET ATTACK', 'from': 'A3 + high', 'to': 'A7 + high', 'vulnerability used': 'CVE-2006-3486', 'Connection': 'network_access'}, A7 + high, {'Attack type': 'OUT OF ASSET ATTACK', 'from': 'A7 + high', 'to': 'A12 + high', 'vulnerability used': 'CVE-2012-2319', 'Connection': 'network_access'}, A12 + high, {'Attack type': 'OUT OF ASSET ATTACK', 'from': 'A12 + high', 'to': 'A13 + high', 'vulnerability used': 'CVE-2006-6703', 'Connection': 'remote_access'}, A13 + high, {'Attack type': 'IN ASSET ATTACK', 'from': 'A13 + high', 'to': 'A13 + low', 'vulnerability used': 'CVE-2013-5065'}, A13 + low, {'Attack type': 'OUT OF ASSET ATTACK', 'from': 'A13 + low', 'to': 'A14 + low', 'vulnerability used': 'CVE-2012-2749', 'Connection': 'remote_access'}, A14 + low, {'Attack type': 'IN ASSET ATTACK', 'from': 'A14 + low', 'to': 'A14 + high', 'vulnerability used': 'CVE-2009-4030'}, A14 + high), (A1 + low, {'Attack type': 'IN ASSET ATTACK', 'from': 'A1 + low', 'to': 'A1 + high', 'vulnerability used': 'CVE-2019-1468'}, A1 + high, {'Attack type': 'OUT OF ASSET ATTACK', 'from': 'A1 + high', 'to': 'A3 + high', 'vulnerability used': 'CVE-2019-12749', 'Connection': 'remote_access'}, A3 + high, {'Attack type': 'OUT OF ASSET ATTACK', 'from': 'A3 + high', 'to': 'A7 + high', 'vulnerability used': 'CVE-2006-3486', 'Connection': 'network_access'}, A7 + high, {'Attack type': 'OUT OF ASSET ATTACK', 'from': 'A7 + high', 'to': 'A12 + high', 'vulnerability used': 'CVE-2012-2319', 'Connection': 'network_access'}, A12 + high, {'Attack type': 'OUT OF ASSET ATTACK', 'from': 'A12 + high', 'to': 'A13 + high', 'vulnerability used': 'CVE-2006-6703', 'Connection': 'remote_access'}, A13 + high, {'Attack type': 'IN ASSET ATTACK', 'from': 'A13 + high', 'to': 'A13 + low', 'vulnerability used': 'CVE-2013-5065'}, A13 + low, {'Attack type': 'OUT OF ASSET ATTACK', 'from': 'A13 + low', 'to': 'A14 + low', 'vulnerability used': 'CVE-2012-2749', 'Connection': 'remote_access'}, A14 + low, {'Attack type': 'IN ASSET ATTACK', 'from': 'A14 + low', 'to': 'A14 + high', 'vulnerability used': 'CVE-2017-10271'}, A14 + high), (A1 + low, {'Attack type': 'IN ASSET ATTACK', 'from': 'A1 + low', 'to': 'A1 + high', 'vulnerability used': 'CVE-2019-1468'}, A1 + high, {'Attack type': 'OUT OF ASSET ATTACK', 'from': 'A1 + high', 'to': 'A3 + high', 'vulnerability used': 'CVE-2019-12749', 'Connection': 'remote_access'}, A3 + high, {'Attack type': 'OUT OF ASSET ATTACK', 'from': 'A3 + high', 'to': 'A7 + high', 'vulnerability used': 'CVE-2006-3486', 'Connection': 'network_access'}, A7 + high, {'Attack type': 'OUT OF ASSET ATTACK', 'from': 'A7 + high', 'to': 'A12 + high', 'vulnerability used': 'CVE-2012-2319', 'Connection': 'network_access'}, A12 + high, {'Attack type': 'OUT OF ASSET ATTACK', 'from': 'A12 + high', 'to': 'A13 + high', 'vulnerability used': 'CVE-2006-6703', 'Connection': 'remote_access'}, A13 + high, {'Attack type': 'IN ASSET ATTACK', 'from': 'A13 + high', 'to': 'A13 + low', 'vulnerability used': 'CVE-2013-5065'}, A13 + low, {'Attack type': 'OUT OF ASSET ATTACK', 'from': 'A13 + low', 'to': 'A14 + high', 'vulnerability used': 'CVE-2019-1817', 'Connection': 'remote_access'}, A14 + high), (A1 + low, {'Attack type': 'IN ASSET ATTACK', 'from': 'A1 + low', 'to': 'A1 + high', 'vulnerability used': 'CVE-2019-1468'}, A1 + high, {'Attack type': 'OUT OF ASSET ATTACK', 'from': 'A1 + high', 'to': 'A3 + high', 'vulnerability used': 'CVE-2019-12749', 'Connection': 'remote_access'}, A3 + high, {'Attack type': 'OUT OF ASSET ATTACK', 'from': 'A3 + high', 'to': 'A7 + high', 'vulnerability used': 'CVE-2006-3486', 'Connection': 'network_access'}, A7 + high, {'Attack type': 'OUT OF ASSET ATTACK', 'from': 'A7 + high', 'to': 'A12 + high', 'vulnerability used': 'CVE-2012-2319', 'Connection': 'network_access'}, A12 + high, {'Attack type': 'OUT OF ASSET ATTACK', 'from': 'A12 + high', 'to': 'A13 + high', 'vulnerability used': 'CVE-2006-6703', 'Connection': 'remote_access'}, A13 + high, {'Attack type': 'OUT OF ASSET ATTACK', 'from': 'A13 + high', 'to': 'A14 + low', 'vulnerability used': 'CVE-2012-2749', 'Connection': 'remote_access'}, A14 + low, {'Attack type': 'IN ASSET ATTACK', 'from': 'A14 + low', 'to': 'A14 + high', 'vulnerability used': 'CVE-2009-4030'}, A14 + high), (A1 + low, {'Attack type': 'IN ASSET ATTACK', 'from': 'A1 + low', 'to': 'A1 + high', 'vulnerability used': 'CVE-2019-1468'}, A1 + high, {'Attack type': 'OUT OF ASSET ATTACK', 'from': 'A1 + high', 'to': 'A3 + high', 'vulnerability used': 'CVE-2019-12749', 'Connection': 'remote_access'}, A3 + high, {'Attack type': 'OUT OF ASSET ATTACK', 'from': 'A3 + high', 'to': 'A7 + high', 'vulnerability used': 'CVE-2006-3486', 'Connection': 'network_access'}, A7 + high, {'Attack type': 'OUT OF ASSET ATTACK', 'from': 'A7 + high', 'to': 'A12 + high', 'vulnerability used': 'CVE-2012-2319', 'Connection': 'network_access'}, A12 + high, {'Attack type': 'OUT OF ASSET ATTACK', 'from': 'A12 + high', 'to': 'A13 + high', 'vulnerability used': 'CVE-2006-6703', 'Connection': 'remote_access'}, A13 + high, {'Attack type': 'OUT OF ASSET ATTACK', 'from': 'A13 + high', 'to': 'A14 + low', 'vulnerability used': 'CVE-2012-2749', 'Connection': 'remote_access'}, A14 + low, {'Attack type': 'IN ASSET ATTACK', 'from': 'A14 + low', 'to': 'A14 + high', 'vulnerability used': 'CVE-2017-10271'}, A14 + high), (A1 + low, {'Attack type': 'IN ASSET ATTACK', 'from': 'A1 + low', 'to': 'A1 + high', 'vulnerability used': 'CVE-2019-1468'}, A1 + high, {'Attack type': 'OUT OF ASSET ATTACK', 'from': 'A1 + high', 'to': 'A3 + high', 'vulnerability used': 'CVE-2019-12749', 'Connection': 'remote_access'}, A3 + high, {'Attack type': 'OUT OF ASSET ATTACK', 'from': 'A3 + high', 'to': 'A7 + high', 'vulnerability used': 'CVE-2006-3486', 'Connection': 'network_access'}, A7 + high, {'Attack type': 'OUT OF ASSET ATTACK', 'from': 'A7 + high', 'to': 'A12 + high', 'vulnerability used': 'CVE-2012-2319', 'Connection': 'network_access'}, A12 + high, {'Attack type': 'OUT OF ASSET ATTACK', 'from': 'A12 + high', 'to': 'A13 + high', 'vulnerability used': 'CVE-2006-6703', 'Connection': 'remote_access'}, A13 + high, {'Attack type': 'OUT OF ASSET ATTACK', 'from': 'A13 + high', 'to': 'A14 + high', 'vulnerability used': 'CVE-2019-1817', 'Connection': 'remote_access'}, A14 + high), (A1 + low, {'Attack type': 'IN ASSET ATTACK', 'from': 'A1 + low', 'to': 'A1 + high', 'vulnerability used': 'CVE-2019-1468'}, A1 + high, {'Attack type': 'OUT OF ASSET ATTACK', 'from': 'A1 + high', 'to': 'A3 + high', 'vulnerability used': 'CVE-2019-12749', 'Connection': 'remote_access'}, A3 + high, {'Attack type': 'OUT OF ASSET ATTACK', 'from': 'A3 + high', 'to': 'A7 + high', 'vulnerability used': 'CVE-2006-3486', 'Connection': 'network_access'}, A7 + high, {'Attack type': 'OUT OF ASSET ATTACK', 'from': 'A7 + high', 'to': 'A12 + low', 'vulnerability used': 'CVE-2019-1484', 'Connection': 'network_access'}, A12 + low, {'Attack type': 'IN ASSET ATTACK', 'from': 'A12 + low', 'to': 'A12 + high', 'vulnerability used': 'CVE-2019-1468'}, A12 + high, {'Attack type': 'OUT OF ASSET ATTACK', 'from': 'A12 + high', 'to': 'A13 + high', 'vulnerability used': 'CVE-2004-1371', 'Connection': 'remote_access'}, A13 + high, {'Attack type': 'IN ASSET ATTACK', 'from': 'A13 + high', 'to': 'A13 + low', 'vulnerability used': 'CVE-2013-5065'}, A13 + low, {'Attack type': 'OUT OF ASSET ATTACK', 'from': 'A13 + low', 'to': 'A14 + low', 'vulnerability used': 'CVE-2012-2749', 'Connection': 'remote_access'}, A14 + low, {'Attack type': 'IN ASSET ATTACK', 'from': 'A14 + low', 'to': 'A14 + high', 'vulnerability used': 'CVE-2009-4030'}, A14 + high), (A1 + low, {'Attack type': 'IN ASSET ATTACK', 'from': 'A1 + low', 'to': 'A1 + high', 'vulnerability used': 'CVE-2019-1468'}, A1 + high, {'Attack type': 'OUT OF ASSET ATTACK', 'from': 'A1 + high', 'to': 'A3 + high', 'vulnerability used': 'CVE-2019-12749', 'Connection': 'remote_access'}, A3 + high, {'Attack type': 'OUT OF ASSET ATTACK', 'from': 'A3 + high', 'to': 'A7 + high', 'vulnerability used': 'CVE-2006-3486', 'Connection': 'network_access'}, A7 + high, {'Attack type': 'OUT OF ASSET ATTACK', 'from': 'A7 + high', 'to': 'A12 + low', 'vulnerability used': 'CVE-2019-1484', 'Connection': 'network_access'}, A12 + low, {'Attack type': 'IN ASSET ATTACK', 'from': 'A12 + low', 'to': 'A12 + high', 'vulnerability used': 'CVE-2019-1468'}, A12 + high, {'Attack type': 'OUT OF ASSET ATTACK', 'from': 'A12 + high', 'to': 'A13 + high', 'vulnerability used': 'CVE-2004-1371', 'Connection': 'remote_access'}, A13 + high, {'Attack type': 'IN ASSET ATTACK', 'from': 'A13 + high', 'to': 'A13 + low', 'vulnerability used': 'CVE-2013-5065'}, A13 + low, {'Attack type': 'OUT OF ASSET ATTACK', 'from': 'A13 + low', 'to': 'A14 + low', 'vulnerability used': 'CVE-2012-2749', 'Connection': 'remote_access'}, A14 + low, {'Attack type': 'IN ASSET ATTACK', 'from': 'A14 + low', 'to': 'A14 + high', 'vulnerability used': 'CVE-2017-10271'}, A14 + high), (A1 + low, {'Attack type': 'IN ASSET ATTACK', 'from': 'A1 + low', 'to': 'A1 + high', 'vulnerability used': 'CVE-2019-1468'}, A1 + high, {'Attack type': 'OUT OF ASSET ATTACK', 'from': 'A1 + high', 'to': 'A3 + high', 'vulnerability used': 'CVE-2019-12749', 'Connection': 'remote_access'}, A3 + high, {'Attack type': 'OUT OF ASSET ATTACK', 'from': 'A3 + high', 'to': 'A7 + high', 'vulnerability used': 'CVE-2006-3486', 'Connection': 'network_access'}, A7 + high, {'Attack type': 'OUT OF ASSET ATTACK', 'from': 'A7 + high', 'to': 'A12 + low', 'vulnerability used': 'CVE-2019-1484', 'Connection': 'network_access'}, A12 + low, {'Attack type': 'IN ASSET ATTACK', 'from': 'A12 + low', 'to': 'A12 + high', 'vulnerability used': 'CVE-2019-1468'}, A12 + high, {'Attack type': 'OUT OF ASSET ATTACK', 'from': 'A12 + high', 'to': 'A13 + high', 'vulnerability used': 'CVE-2004-1371', 'Connection': 'remote_access'}, A13 + high, {'Attack type': 'IN ASSET ATTACK', 'from': 'A13 + high', 'to': 'A13 + low', 'vulnerability used': 'CVE-2013-5065'}, A13 + low, {'Attack type': 'OUT OF ASSET ATTACK', 'from': 'A13 + low', 'to': 'A14 + high', 'vulnerability used': 'CVE-2019-1817', 'Connection': 'remote_access'}, A14 + high), (A1 + low, {'Attack type': 'IN ASSET ATTACK', 'from': 'A1 + low', 'to': 'A1 + high', 'vulnerability used': 'CVE-2019-1468'}, A1 + high, {'Attack type': 'OUT OF ASSET ATTACK', 'from': 'A1 + high', 'to': 'A3 + high', 'vulnerability used': 'CVE-2019-12749', 'Connection': 'remote_access'}, A3 + high, {'Attack type': 'OUT OF ASSET ATTACK', 'from': 'A3 + high', 'to': 'A7 + high', 'vulnerability used': 'CVE-2006-3486', 'Connection': 'network_access'}, A7 + high, {'Attack type': 'OUT OF ASSET ATTACK', 'from': 'A7 + high', 'to': 'A12 + low', 'vulnerability used': 'CVE-2019-1484', 'Connection': 'network_access'}, A12 + low, {'Attack type': 'IN ASSET ATTACK', 'from': 'A12 + low', 'to': 'A12 + high', 'vulnerability used': 'CVE-2019-1468'}, A12 + high, {'Attack type': 'OUT OF ASSET ATTACK', 'from': 'A12 + high', 'to': 'A13 + high', 'vulnerability used': 'CVE-2004-1371', 'Connection': 'remote_access'}, A13 + high, {'Attack type': 'OUT OF ASSET ATTACK', 'from': 'A13 + high', 'to': 'A14 + low', 'vulnerability used': 'CVE-2012-2749', 'Connection': 'remote_access'}, A14 + low, {'Attack type': 'IN ASSET ATTACK', 'from': 'A14 + low', 'to': 'A14 + high', 'vulnerability used': 'CVE-2009-4030'}, A14 + high), (A1 + low, {'Attack type': 'IN ASSET ATTACK', 'from': 'A1 + low', 'to': 'A1 + high', 'vulnerability used': 'CVE-2019-1468'}, A1 + high, {'Attack type': 'OUT OF ASSET ATTACK', 'from': 'A1 + high', 'to': 'A3 + high', 'vulnerability used': 'CVE-2019-12749', 'Connection': 'remote_access'}, A3 + high, {'Attack type': 'OUT OF ASSET ATTACK', 'from': 'A3 + high', 'to': 'A7 + high', 'vulnerability used': 'CVE-2006-3486', 'Connection': 'network_access'}, A7 + high, {'Attack type': 'OUT OF ASSET ATTACK', 'from': 'A7 + high', 'to': 'A12 + low', 'vulnerability used': 'CVE-2019-1484', 'Connection': 'network_access'}, A12 + low, {'Attack type': 'IN ASSET ATTACK', 'from': 'A12 + low', 'to': 'A12 + high', 'vulnerability used': 'CVE-2019-1468'}, A12 + high, {'Attack type': 'OUT OF ASSET ATTACK', 'from': 'A12 + high', 'to': 'A13 + high', 'vulnerability used': 'CVE-2004-1371', 'Connection': 'remote_access'}, A13 + high, {'Attack type': 'OUT OF ASSET ATTACK', 'from': 'A13 + high', 'to': 'A14 + low', 'vulnerability used': 'CVE-2012-2749', 'Connection': 'remote_access'}, A14 + low, {'Attack type': 'IN ASSET ATTACK', 'from': 'A14 + low', 'to': 'A14 + high', 'vulnerability used': 'CVE-2017-10271'}, A14 + high), (A1 + low, {'Attack type': 'IN ASSET ATTACK', 'from': 'A1 + low', 'to': 'A1 + high', 'vulnerability used': 'CVE-2019-1468'}, A1 + high, {'Attack type': 'OUT OF ASSET ATTACK', 'from': 'A1 + high', 'to': 'A3 + high', 'vulnerability used': 'CVE-2019-12749', 'Connection': 'remote_access'}, A3 + high, {'Attack type': 'OUT OF ASSET ATTACK', 'from': 'A3 + high', 'to': 'A7 + high', 'vulnerability used': 'CVE-2006-3486', 'Connection': 'network_access'}, A7 + high, {'Attack type': 'OUT OF ASSET ATTACK', 'from': 'A7 + high', 'to': 'A12 + low', 'vulnerability used': 'CVE-2019-1484', 'Connection': 'network_access'}, A12 + low, {'Attack type': 'IN ASSET ATTACK', 'from': 'A12 + low', 'to': 'A12 + high', 'vulnerability used': 'CVE-2019-1468'}, A12 + high, {'Attack type': 'OUT OF ASSET ATTACK', 'from': 'A12 + high', 'to': 'A13 + high', 'vulnerability used': 'CVE-2004-1371', 'Connection': 'remote_access'}, A13 + high, {'Attack type': 'OUT OF ASSET ATTACK', 'from': 'A13 + high', 'to': 'A14 + high', 'vulnerability used': 'CVE-2019-1817', 'Connection': 'remote_access'}, A14 + high), (A1 + low, {'Attack type': 'IN ASSET ATTACK', 'from': 'A1 + low', 'to': 'A1 + high', 'vulnerability used': 'CVE-2019-1468'}, A1 + high, {'Attack type': 'OUT OF ASSET ATTACK', 'from': 'A1 + high', 'to': 'A3 + high', 'vulnerability used': 'CVE-2019-12749', 'Connection': 'remote_access'}, A3 + high, {'Attack type': 'OUT OF ASSET ATTACK', 'from': 'A3 + high', 'to': 'A7 + high', 'vulnerability used': 'CVE-2006-3486', 'Connection': 'network_access'}, A7 + high, {'Attack type': 'OUT OF ASSET ATTACK', 'from': 'A7 + high', 'to': 'A12 + low', 'vulnerability used': 'CVE-2019-1484', 'Connection': 'network_access'}, A12 + low, {'Attack type': 'IN ASSET ATTACK', 'from': 'A12 + low', 'to': 'A12 + high', 'vulnerability used': 'CVE-2019-1468'}, A12 + high, {'Attack type': 'OUT OF ASSET ATTACK', 'from': 'A12 + high', 'to': 'A13 + high', 'vulnerability used': 'CVE-2006-6703', 'Connection': 'remote_access'}, A13 + high, {'Attack type': 'IN ASSET ATTACK', 'from': 'A13 + high', 'to': 'A13 + low', 'vulnerability used': 'CVE-2013-5065'}, A13 + low, {'Attack type': 'OUT OF ASSET ATTACK', 'from': 'A13 + low', 'to': 'A14 + low', 'vulnerability used': 'CVE-2012-2749', 'Connection': 'remote_access'}, A14 + low, {'Attack type': 'IN ASSET ATTACK', 'from': 'A14 + low', 'to': 'A14 + high', 'vulnerability used': 'CVE-2009-4030'}, A14 + high), (A1 + low, {'Attack type': 'IN ASSET ATTACK', 'from': 'A1 + low', 'to': 'A1 + high', 'vulnerability used': 'CVE-2019-1468'}, A1 + high, {'Attack type': 'OUT OF ASSET ATTACK', 'from': 'A1 + high', 'to': 'A3 + high', 'vulnerability used': 'CVE-2019-12749', 'Connection': 'remote_access'}, A3 + high, {'Attack type': 'OUT OF ASSET ATTACK', 'from': 'A3 + high', 'to': 'A7 + high', 'vulnerability used': 'CVE-2006-3486', 'Connection': 'network_access'}, A7 + high, {'Attack type': 'OUT OF ASSET ATTACK', 'from': 'A7 + high', 'to': 'A12 + low', 'vulnerability used': 'CVE-2019-1484', 'Connection': 'network_access'}, A12 + low, {'Attack type': 'IN ASSET ATTACK', 'from': 'A12 + low', 'to': 'A12 + high', 'vulnerability used': 'CVE-2019-1468'}, A12 + high, {'Attack type': 'OUT OF ASSET ATTACK', 'from': 'A12 + high', 'to': 'A13 + high', 'vulnerability used': 'CVE-2006-6703', 'Connection': 'remote_access'}, A13 + high, {'Attack type': 'IN ASSET ATTACK', 'from': 'A13 + high', 'to': 'A13 + low', 'vulnerability used': 'CVE-2013-5065'}, A13 + low, {'Attack type': 'OUT OF ASSET ATTACK', 'from': 'A13 + low', 'to': 'A14 + low', 'vulnerability used': 'CVE-2012-2749', 'Connection': 'remote_access'}, A14 + low, {'Attack type': 'IN ASSET ATTACK', 'from': 'A14 + low', 'to': 'A14 + high', 'vulnerability used': 'CVE-2017-10271'}, A14 + high), (A1 + low, {'Attack type': 'IN ASSET ATTACK', 'from': 'A1 + low', 'to': 'A1 + high', 'vulnerability used': 'CVE-2019-1468'}, A1 + high, {'Attack type': 'OUT OF ASSET ATTACK', 'from': 'A1 + high', 'to': 'A3 + high', 'vulnerability used': 'CVE-2019-12749', 'Connection': 'remote_access'}, A3 + high, {'Attack type': 'OUT OF ASSET ATTACK', 'from': 'A3 + high', 'to': 'A7 + high', 'vulnerability used': 'CVE-2006-3486', 'Connection': 'network_access'}, A7 + high, {'Attack type': 'OUT OF ASSET ATTACK', 'from': 'A7 + high', 'to': 'A12 + low', 'vulnerability used': 'CVE-2019-1484', 'Connection': 'network_access'}, A12 + low, {'Attack type': 'IN ASSET ATTACK', 'from': 'A12 + low', 'to': 'A12 + high', 'vulnerability used': 'CVE-2019-1468'}, A12 + high, {'Attack type': 'OUT OF ASSET ATTACK', 'from': 'A12 + high', 'to': 'A13 + high', 'vulnerability used': 'CVE-2006-6703', 'Connection': 'remote_access'}, A13 + high, {'Attack type': 'IN ASSET ATTACK', 'from': 'A13 + high', 'to': 'A13 + low', 'vulnerability used': 'CVE-2013-5065'}, A13 + low, {'Attack type': 'OUT OF ASSET ATTACK', 'from': 'A13 + low', 'to': 'A14 + high', 'vulnerability used': 'CVE-2019-1817', 'Connection': 'remote_access'}, A14 + high), (A1 + low, {'Attack type': 'IN ASSET ATTACK', 'from': 'A1 + low', 'to': 'A1 + high', 'vulnerability used': 'CVE-2019-1468'}, A1 + high, {'Attack type': 'OUT OF ASSET ATTACK', 'from': 'A1 + high', 'to': 'A3 + high', 'vulnerability used': 'CVE-2019-12749', 'Connection': 'remote_access'}, A3 + high, {'Attack type': 'OUT OF ASSET ATTACK', 'from': 'A3 + high', 'to': 'A7 + high', 'vulnerability used': 'CVE-2006-3486', 'Connection': 'network_access'}, A7 + high, {'Attack type': 'OUT OF ASSET ATTACK', 'from': 'A7 + high', 'to': 'A12 + low', 'vulnerability used': 'CVE-2019-1484', 'Connection': 'network_access'}, A12 + low, {'Attack type': 'IN ASSET ATTACK', 'from': 'A12 + low', 'to': 'A12 + high', 'vulnerability used': 'CVE-2019-1468'}, A12 + high, {'Attack type': 'OUT OF ASSET ATTACK', 'from': 'A12 + high', 'to': 'A13 + high', 'vulnerability used': 'CVE-2006-6703', 'Connection': 'remote_access'}, A13 + high, {'Attack type': 'OUT OF ASSET ATTACK', 'from': 'A13 + high', 'to': 'A14 + low', 'vulnerability used': 'CVE-2012-2749', 'Connection': 'remote_access'}, A14 + low, {'Attack type': 'IN ASSET ATTACK', 'from': 'A14 + low', 'to': 'A14 + high', 'vulnerability used': 'CVE-2009-4030'}, A14 + high), (A1 + low, {'Attack type': 'IN ASSET ATTACK', 'from': 'A1 + low', 'to': 'A1 + high', 'vulnerability used': 'CVE-2019-1468'}, A1 + high, {'Attack type': 'OUT OF ASSET ATTACK', 'from': 'A1 + high', 'to': 'A3 + high', 'vulnerability used': 'CVE-2019-12749', 'Connection': 'remote_access'}, A3 + high, {'Attack type': 'OUT OF ASSET ATTACK', 'from': 'A3 + high', 'to': 'A7 + high', 'vulnerability used': 'CVE-2006-3486', 'Connection': 'network_access'}, A7 + high, {'Attack type': 'OUT OF ASSET ATTACK', 'from': 'A7 + high', 'to': 'A12 + low', 'vulnerability used': 'CVE-2019-1484', 'Connection': 'network_access'}, A12 + low, {'Attack type': 'IN ASSET ATTACK', 'from': 'A12 + low', 'to': 'A12 + high', 'vulnerability used': 'CVE-2019-1468'}, A12 + high, {'Attack type': 'OUT OF ASSET ATTACK', 'from': 'A12 + high', 'to': 'A13 + high', 'vulnerability used': 'CVE-2006-6703', 'Connection': 'remote_access'}, A13 + high, {'Attack type': 'OUT OF ASSET ATTACK', 'from': 'A13 + high', 'to': 'A14 + low', 'vulnerability used': 'CVE-2012-2749', 'Connection': 'remote_access'}, A14 + low, {'Attack type': 'IN ASSET ATTACK', 'from': 'A14 + low', 'to': 'A14 + high', 'vulnerability used': 'CVE-2017-10271'}, A14 + high), (A1 + low, {'Attack type': 'IN ASSET ATTACK', 'from': 'A1 + low', 'to': 'A1 + high', 'vulnerability used': 'CVE-2019-1468'}, A1 + high, {'Attack type': 'OUT OF ASSET ATTACK', 'from': 'A1 + high', 'to': 'A3 + high', 'vulnerability used': 'CVE-2019-12749', 'Connection': 'remote_access'}, A3 + high, {'Attack type': 'OUT OF ASSET ATTACK', 'from': 'A3 + high', 'to': 'A7 + high', 'vulnerability used': 'CVE-2006-3486', 'Connection': 'network_access'}, A7 + high, {'Attack type': 'OUT OF ASSET ATTACK', 'from': 'A7 + high', 'to': 'A12 + low', 'vulnerability used': 'CVE-2019-1484', 'Connection': 'network_access'}, A12 + low, {'Attack type': 'IN ASSET ATTACK', 'from': 'A12 + low', 'to': 'A12 + high', 'vulnerability used': 'CVE-2019-1468'}, A12 + high, {'Attack type': 'OUT OF ASSET ATTACK', 'from': 'A12 + high', 'to': 'A13 + high', 'vulnerability used': 'CVE-2006-6703', 'Connection': 'remote_access'}, A13 + high, {'Attack type': 'OUT OF ASSET ATTACK', 'from': 'A13 + high', 'to': 'A14 + high', 'vulnerability used': 'CVE-2019-1817', 'Connection': 'remote_access'}, A14 + high), (A1 + low, {'Attack type': 'IN ASSET ATTACK', 'from': 'A1 + low', 'to': 'A1 + high', 'vulnerability used': 'CVE-2019-1468'}, A1 + high, {'Attack type': 'OUT OF ASSET ATTACK', 'from': 'A1 + high', 'to': 'A3 + high', 'vulnerability used': 'CVE-2019-12749', 'Connection': 'remote_access'}, A3 + high, {'Attack type': 'OUT OF ASSET ATTACK', 'from': 'A3 + high', 'to': 'A7 + high', 'vulnerability used': 'CVE-2006-3486', 'Connection': 'network_access'}, A7 + high, {'Attack type': 'OUT OF ASSET ATTACK', 'from': 'A7 + high', 'to': 'A12 + low', 'vulnerability used': 'CVE-2019-1484', 'Connection': 'network_access'}, A12 + low, {'Attack type': 'OUT OF ASSET ATTACK', 'from': 'A12 + low', 'to': 'A13 + high', 'vulnerability used': 'CVE-2006-6703', 'Connection': 'remote_access'}, A13 + high, {'Attack type': 'IN ASSET ATTACK', 'from': 'A13 + high', 'to': 'A13 + low', 'vulnerability used': 'CVE-2013-5065'}, A13 + low, {'Attack type': 'OUT OF ASSET ATTACK', 'from': 'A13 + low', 'to': 'A14 + low', 'vulnerability used': 'CVE-2012-2749', 'Connection': 'remote_access'}, A14 + low, {'Attack type': 'IN ASSET ATTACK', 'from': 'A14 + low', 'to': 'A14 + high', 'vulnerability used': 'CVE-2009-4030'}, A14 + high), (A1 + low, {'Attack type': 'IN ASSET ATTACK', 'from': 'A1 + low', 'to': 'A1 + high', 'vulnerability used': 'CVE-2019-1468'}, A1 + high, {'Attack type': 'OUT OF ASSET ATTACK', 'from': 'A1 + high', 'to': 'A3 + high', 'vulnerability used': 'CVE-2019-12749', 'Connection': 'remote_access'}, A3 + high, {'Attack type': 'OUT OF ASSET ATTACK', 'from': 'A3 + high', 'to': 'A7 + high', 'vulnerability used': 'CVE-2006-3486', 'Connection': 'network_access'}, A7 + high, {'Attack type': 'OUT OF ASSET ATTACK', 'from': 'A7 + high', 'to': 'A12 + low', 'vulnerability used': 'CVE-2019-1484', 'Connection': 'network_access'}, A12 + low, {'Attack type': 'OUT OF ASSET ATTACK', 'from': 'A12 + low', 'to': 'A13 + high', 'vulnerability used': 'CVE-2006-6703', 'Connection': 'remote_access'}, A13 + high, {'Attack type': 'IN ASSET ATTACK', 'from': 'A13 + high', 'to': 'A13 + low', 'vulnerability used': 'CVE-2013-5065'}, A13 + low, {'Attack type': 'OUT OF ASSET ATTACK', 'from': 'A13 + low', 'to': 'A14 + low', 'vulnerability used': 'CVE-2012-2749', 'Connection': 'remote_access'}, A14 + low, {'Attack type': 'IN ASSET ATTACK', 'from': 'A14 + low', 'to': 'A14 + high', 'vulnerability used': 'CVE-2017-10271'}, A14 + high), (A1 + low, {'Attack type': 'IN ASSET ATTACK', 'from': 'A1 + low', 'to': 'A1 + high', 'vulnerability used': 'CVE-2019-1468'}, A1 + high, {'Attack type': 'OUT OF ASSET ATTACK', 'from': 'A1 + high', 'to': 'A3 + high', 'vulnerability used': 'CVE-2019-12749', 'Connection': 'remote_access'}, A3 + high, {'Attack type': 'OUT OF ASSET ATTACK', 'from': 'A3 + high', 'to': 'A7 + high', 'vulnerability used': 'CVE-2006-3486', 'Connection': 'network_access'}, A7 + high, {'Attack type': 'OUT OF ASSET ATTACK', 'from': 'A7 + high', 'to': 'A12 + low', 'vulnerability used': 'CVE-2019-1484', 'Connection': 'network_access'}, A12 + low, {'Attack type': 'OUT OF ASSET ATTACK', 'from': 'A12 + low', 'to': 'A13 + high', 'vulnerability used': 'CVE-2006-6703', 'Connection': 'remote_access'}, A13 + high, {'Attack type': 'IN ASSET ATTACK', 'from': 'A13 + high', 'to': 'A13 + low', 'vulnerability used': 'CVE-2013-5065'}, A13 + low, {'Attack type': 'OUT OF ASSET ATTACK', 'from': 'A13 + low', 'to': 'A14 + high', 'vulnerability used': 'CVE-2019-1817', 'Connection': 'remote_access'}, A14 + high), (A1 + low, {'Attack type': 'IN ASSET ATTACK', 'from': 'A1 + low', 'to': 'A1 + high', 'vulnerability used': 'CVE-2019-1468'}, A1 + high, {'Attack type': 'OUT OF ASSET ATTACK', 'from': 'A1 + high', 'to': 'A3 + high', 'vulnerability used': 'CVE-2019-12749', 'Connection': 'remote_access'}, A3 + high, {'Attack type': 'OUT OF ASSET ATTACK', 'from': 'A3 + high', 'to': 'A7 + high', 'vulnerability used': 'CVE-2006-3486', 'Connection': 'network_access'}, A7 + high, {'Attack type': 'OUT OF ASSET ATTACK', 'from': 'A7 + high', 'to': 'A12 + low', 'vulnerability used': 'CVE-2019-1484', 'Connection': 'network_access'}, A12 + low, {'Attack type': 'OUT OF ASSET ATTACK', 'from': 'A12 + low', 'to': 'A13 + high', 'vulnerability used': 'CVE-2006-6703', 'Connection': 'remote_access'}, A13 + high, {'Attack type': 'OUT OF ASSET ATTACK', 'from': 'A13 + high', 'to': 'A14 + low', 'vulnerability used': 'CVE-2012-2749', 'Connection': 'remote_access'}, A14 + low, {'Attack type': 'IN ASSET ATTACK', 'from': 'A14 + low', 'to': 'A14 + high', 'vulnerability used': 'CVE-2009-4030'}, A14 + high), (A1 + low, {'Attack type': 'IN ASSET ATTACK', 'from': 'A1 + low', 'to': 'A1 + high', 'vulnerability used': 'CVE-2019-1468'}, A1 + high, {'Attack type': 'OUT OF ASSET ATTACK', 'from': 'A1 + high', 'to': 'A3 + high', 'vulnerability used': 'CVE-2019-12749', 'Connection': 'remote_access'}, A3 + high, {'Attack type': 'OUT OF ASSET ATTACK', 'from': 'A3 + high', 'to': 'A7 + high', 'vulnerability used': 'CVE-2006-3486', 'Connection': 'network_access'}, A7 + high, {'Attack type': 'OUT OF ASSET ATTACK', 'from': 'A7 + high', 'to': 'A12 + low', 'vulnerability used': 'CVE-2019-1484', 'Connection': 'network_access'}, A12 + low, {'Attack type': 'OUT OF ASSET ATTACK', 'from': 'A12 + low', 'to': 'A13 + high', 'vulnerability used': 'CVE-2006-6703', 'Connection': 'remote_access'}, A13 + high, {'Attack type': 'OUT OF ASSET ATTACK', 'from': 'A13 + high', 'to': 'A14 + low', 'vulnerability used': 'CVE-2012-2749', 'Connection': 'remote_access'}, A14 + low, {'Attack type': 'IN ASSET ATTACK', 'from': 'A14 + low', 'to': 'A14 + high', 'vulnerability used': 'CVE-2017-10271'}, A14 + high), (A1 + low, {'Attack type': 'IN ASSET ATTACK', 'from': 'A1 + low', 'to': 'A1 + high', 'vulnerability used': 'CVE-2019-1468'}, A1 + high, {'Attack type': 'OUT OF ASSET ATTACK', 'from': 'A1 + high', 'to': 'A3 + high', 'vulnerability used': 'CVE-2019-12749', 'Connection': 'remote_access'}, A3 + high, {'Attack type': 'OUT OF ASSET ATTACK', 'from': 'A3 + high', 'to': 'A7 + high', 'vulnerability used': 'CVE-2006-3486', 'Connection': 'network_access'}, A7 + high, {'Attack type': 'OUT OF ASSET ATTACK', 'from': 'A7 + high', 'to': 'A12 + low', 'vulnerability used': 'CVE-2019-1484', 'Connection': 'network_access'}, A12 + low, {'Attack type': 'OUT OF ASSET ATTACK', 'from': 'A12 + low', 'to': 'A13 + high', 'vulnerability used': 'CVE-2006-6703', 'Connection': 'remote_access'}, A13 + high, {'Attack type': 'OUT OF ASSET ATTACK', 'from': 'A13 + high', 'to': 'A14 + high', 'vulnerability used': 'CVE-2019-1817', 'Connection': 'remote_access'}, A14 + high), (A1 + low, {'Attack type': 'OUT OF ASSET ATTACK', 'from': 'A1 + low', 'to': 'A3 + high', 'vulnerability used': 'CVE-2019-12749', 'Connection': 'remote_access'}, A3 + high, {'Attack type': 'OUT OF ASSET ATTACK', 'from': 'A3 + high', 'to': 'A7 + high', 'vulnerability used': 'CVE-2006-3486', 'Connection': 'network_access'}, A7 + high, {'Attack type': 'IN ASSET ATTACK', 'from': 'A7 + high', 'to': 'A7 + low', 'vulnerability used': 'CVE-2020-13125'}, A7 + low, {'Attack type': 'OUT OF ASSET ATTACK', 'from': 'A7 + low', 'to': 'A12 + high', 'vulnerability used': 'CVE-2012-2319', 'Connection': 'network_access'}, A12 + high, {'Attack type': 'IN ASSET ATTACK', 'from': 'A12 + high', 'to': 'A12 + low', 'vulnerability used': 'CVE-2016-1409'}, A12 + low, {'Attack type': 'OUT OF ASSET ATTACK', 'from': 'A12 + low', 'to': 'A13 + high', 'vulnerability used': 'CVE-2006-6703', 'Connection': 'remote_access'}, A13 + high, {'Attack type': 'IN ASSET ATTACK', 'from': 'A13 + high', 'to': 'A13 + low', 'vulnerability used': 'CVE-2013-5065'}, A13 + low, {'Attack type': 'OUT OF ASSET ATTACK', 'from': 'A13 + low', 'to': 'A14 + low', 'vulnerability used': 'CVE-2012-2749', 'Connection': 'remote_access'}, A14 + low, {'Attack type': 'IN ASSET ATTACK', 'from': 'A14 + low', 'to': 'A14 + high', 'vulnerability used': 'CVE-2009-4030'}, A14 + high), (A1 + low, {'Attack type': 'OUT OF ASSET ATTACK', 'from': 'A1 + low', 'to': 'A3 + high', 'vulnerability used': 'CVE-2019-12749', 'Connection': 'remote_access'}, A3 + high, {'Attack type': 'OUT OF ASSET ATTACK', 'from': 'A3 + high', 'to': 'A7 + high', 'vulnerability used': 'CVE-2006-3486', 'Connection': 'network_access'}, A7 + high, {'Attack type': 'IN ASSET ATTACK', 'from': 'A7 + high', 'to': 'A7 + low', 'vulnerability used': 'CVE-2020-13125'}, A7 + low, {'Attack type': 'OUT OF ASSET ATTACK', 'from': 'A7 + low', 'to': 'A12 + high', 'vulnerability used': 'CVE-2012-2319', 'Connection': 'network_access'}, A12 + high, {'Attack type': 'IN ASSET ATTACK', 'from': 'A12 + high', 'to': 'A12 + low', 'vulnerability used': 'CVE-2016-1409'}, A12 + low, {'Attack type': 'OUT OF ASSET ATTACK', 'from': 'A12 + low', 'to': 'A13 + high', 'vulnerability used': 'CVE-2006-6703', 'Connection': 'remote_access'}, A13 + high, {'Attack type': 'IN ASSET ATTACK', 'from': 'A13 + high', 'to': 'A13 + low', 'vulnerability used': 'CVE-2013-5065'}, A13 + low, {'Attack type': 'OUT OF ASSET ATTACK', 'from': 'A13 + low', 'to': 'A14 + low', 'vulnerability used': 'CVE-2012-2749', 'Connection': 'remote_access'}, A14 + low, {'Attack type': 'IN ASSET ATTACK', 'from': 'A14 + low', 'to': 'A14 + high', 'vulnerability used': 'CVE-2017-10271'}, A14 + high), (A1 + low, {'Attack type': 'OUT OF ASSET ATTACK', 'from': 'A1 + low', 'to': 'A3 + high', 'vulnerability used': 'CVE-2019-12749', 'Connection': 'remote_access'}, A3 + high, {'Attack type': 'OUT OF ASSET ATTACK', 'from': 'A3 + high', 'to': 'A7 + high', 'vulnerability used': 'CVE-2006-3486', 'Connection': 'network_access'}, A7 + high, {'Attack type': 'IN ASSET ATTACK', 'from': 'A7 + high', 'to': 'A7 + low', 'vulnerability used': 'CVE-2020-13125'}, A7 + low, {'Attack type': 'OUT OF ASSET ATTACK', 'from': 'A7 + low', 'to': 'A12 + high', 'vulnerability used': 'CVE-2012-2319', 'Connection': 'network_access'}, A12 + high, {'Attack type': 'IN ASSET ATTACK', 'from': 'A12 + high', 'to': 'A12 + low', 'vulnerability used': 'CVE-2016-1409'}, A12 + low, {'Attack type': 'OUT OF ASSET ATTACK', 'from': 'A12 + low', 'to': 'A13 + high', 'vulnerability used': 'CVE-2006-6703', 'Connection': 'remote_access'}, A13 + high, {'Attack type': 'IN ASSET ATTACK', 'from': 'A13 + high', 'to': 'A13 + low', 'vulnerability used': 'CVE-2013-5065'}, A13 + low, {'Attack type': 'OUT OF ASSET ATTACK', 'from': 'A13 + low', 'to': 'A14 + high', 'vulnerability used': 'CVE-2019-1817', 'Connection': 'remote_access'}, A14 + high), (A1 + low, {'Attack type': 'OUT OF ASSET ATTACK', 'from': 'A1 + low', 'to': 'A3 + high', 'vulnerability used': 'CVE-2019-12749', 'Connection': 'remote_access'}, A3 + high, {'Attack type': 'OUT OF ASSET ATTACK', 'from': 'A3 + high', 'to': 'A7 + high', 'vulnerability used': 'CVE-2006-3486', 'Connection': 'network_access'}, A7 + high, {'Attack type': 'IN ASSET ATTACK', 'from': 'A7 + high', 'to': 'A7 + low', 'vulnerability used': 'CVE-2020-13125'}, A7 + low, {'Attack type': 'OUT OF ASSET ATTACK', 'from': 'A7 + low', 'to': 'A12 + high', 'vulnerability used': 'CVE-2012-2319', 'Connection': 'network_access'}, A12 + high, {'Attack type': 'IN ASSET ATTACK', 'from': 'A12 + high', 'to': 'A12 + low', 'vulnerability used': 'CVE-2016-1409'}, A12 + low, {'Attack type': 'OUT OF ASSET ATTACK', 'from': 'A12 + low', 'to': 'A13 + high', 'vulnerability used': 'CVE-2006-6703', 'Connection': 'remote_access'}, A13 + high, {'Attack type': 'OUT OF ASSET ATTACK', 'from': 'A13 + high', 'to': 'A14 + low', 'vulnerability used': 'CVE-2012-2749', 'Connection': 'remote_access'}, A14 + low, {'Attack type': 'IN ASSET ATTACK', 'from': 'A14 + low', 'to': 'A14 + high', 'vulnerability used': 'CVE-2009-4030'}, A14 + high), (A1 + low, {'Attack type': 'OUT OF ASSET ATTACK', 'from': 'A1 + low', 'to': 'A3 + high', 'vulnerability used': 'CVE-2019-12749', 'Connection': 'remote_access'}, A3 + high, {'Attack type': 'OUT OF ASSET ATTACK', 'from': 'A3 + high', 'to': 'A7 + high', 'vulnerability used': 'CVE-2006-3486', 'Connection': 'network_access'}, A7 + high, {'Attack type': 'IN ASSET ATTACK', 'from': 'A7 + high', 'to': 'A7 + low', 'vulnerability used': 'CVE-2020-13125'}, A7 + low, {'Attack type': 'OUT OF ASSET ATTACK', 'from': 'A7 + low', 'to': 'A12 + high', 'vulnerability used': 'CVE-2012-2319', 'Connection': 'network_access'}, A12 + high, {'Attack type': 'IN ASSET ATTACK', 'from': 'A12 + high', 'to': 'A12 + low', 'vulnerability used': 'CVE-2016-1409'}, A12 + low, {'Attack type': 'OUT OF ASSET ATTACK', 'from': 'A12 + low', 'to': 'A13 + high', 'vulnerability used': 'CVE-2006-6703', 'Connection': 'remote_access'}, A13 + high, {'Attack type': 'OUT OF ASSET ATTACK', 'from': 'A13 + high', 'to': 'A14 + low', 'vulnerability used': 'CVE-2012-2749', 'Connection': 'remote_access'}, A14 + low, {'Attack type': 'IN ASSET ATTACK', 'from': 'A14 + low', 'to': 'A14 + high', 'vulnerability used': 'CVE-2017-10271'}, A14 + high), (A1 + low, {'Attack type': 'OUT OF ASSET ATTACK', 'from': 'A1 + low', 'to': 'A3 + high', 'vulnerability used': 'CVE-2019-12749', 'Connection': 'remote_access'}, A3 + high, {'Attack type': 'OUT OF ASSET ATTACK', 'from': 'A3 + high', 'to': 'A7 + high', 'vulnerability used': 'CVE-2006-3486', 'Connection': 'network_access'}, A7 + high, {'Attack type': 'IN ASSET ATTACK', 'from': 'A7 + high', 'to': 'A7 + low', 'vulnerability used': 'CVE-2020-13125'}, A7 + low, {'Attack type': 'OUT OF ASSET ATTACK', 'from': 'A7 + low', 'to': 'A12 + high', 'vulnerability used': 'CVE-2012-2319', 'Connection': 'network_access'}, A12 + high, {'Attack type': 'IN ASSET ATTACK', 'from': 'A12 + high', 'to': 'A12 + low', 'vulnerability used': 'CVE-2016-1409'}, A12 + low, {'Attack type': 'OUT OF ASSET ATTACK', 'from': 'A12 + low', 'to': 'A13 + high', 'vulnerability used': 'CVE-2006-6703', 'Connection': 'remote_access'}, A13 + high, {'Attack type': 'OUT OF ASSET ATTACK', 'from': 'A13 + high', 'to': 'A14 + high', 'vulnerability used': 'CVE-2019-1817', 'Connection': 'remote_access'}, A14 + high), (A1 + low, {'Attack type': 'OUT OF ASSET ATTACK', 'from': 'A1 + low', 'to': 'A3 + high', 'vulnerability used': 'CVE-2019-12749', 'Connection': 'remote_access'}, A3 + high, {'Attack type': 'OUT OF ASSET ATTACK', 'from': 'A3 + high', 'to': 'A7 + high', 'vulnerability used': 'CVE-2006-3486', 'Connection': 'network_access'}, A7 + high, {'Attack type': 'IN ASSET ATTACK', 'from': 'A7 + high', 'to': 'A7 + low', 'vulnerability used': 'CVE-2020-13125'}, A7 + low, {'Attack type': 'OUT OF ASSET ATTACK', 'from': 'A7 + low', 'to': 'A12 + high', 'vulnerability used': 'CVE-2012-2319', 'Connection': 'network_access'}, A12 + high, {'Attack type': 'OUT OF ASSET ATTACK', 'from': 'A12 + high', 'to': 'A13 + high', 'vulnerability used': 'CVE-2004-1371', 'Connection': 'remote_access'}, A13 + high, {'Attack type': 'IN ASSET ATTACK', 'from': 'A13 + high', 'to': 'A13 + low', 'vulnerability used': 'CVE-2013-5065'}, A13 + low, {'Attack type': 'OUT OF ASSET ATTACK', 'from': 'A13 + low', 'to': 'A14 + low', 'vulnerability used': 'CVE-2012-2749', 'Connection': 'remote_access'}, A14 + low, {'Attack type': 'IN ASSET ATTACK', 'from': 'A14 + low', 'to': 'A14 + high', 'vulnerability used': 'CVE-2009-4030'}, A14 + high), (A1 + low, {'Attack type': 'OUT OF ASSET ATTACK', 'from': 'A1 + low', 'to': 'A3 + high', 'vulnerability used': 'CVE-2019-12749', 'Connection': 'remote_access'}, A3 + high, {'Attack type': 'OUT OF ASSET ATTACK', 'from': 'A3 + high', 'to': 'A7 + high', 'vulnerability used': 'CVE-2006-3486', 'Connection': 'network_access'}, A7 + high, {'Attack type': 'IN ASSET ATTACK', 'from': 'A7 + high', 'to': 'A7 + low', 'vulnerability used': 'CVE-2020-13125'}, A7 + low, {'Attack type': 'OUT OF ASSET ATTACK', 'from': 'A7 + low', 'to': 'A12 + high', 'vulnerability used': 'CVE-2012-2319', 'Connection': 'network_access'}, A12 + high, {'Attack type': 'OUT OF ASSET ATTACK', 'from': 'A12 + high', 'to': 'A13 + high', 'vulnerability used': 'CVE-2004-1371', 'Connection': 'remote_access'}, A13 + high, {'Attack type': 'IN ASSET ATTACK', 'from': 'A13 + high', 'to': 'A13 + low', 'vulnerability used': 'CVE-2013-5065'}, A13 + low, {'Attack type': 'OUT OF ASSET ATTACK', 'from': 'A13 + low', 'to': 'A14 + low', 'vulnerability used': 'CVE-2012-2749', 'Connection': 'remote_access'}, A14 + low, {'Attack type': 'IN ASSET ATTACK', 'from': 'A14 + low', 'to': 'A14 + high', 'vulnerability used': 'CVE-2017-10271'}, A14 + high), (A1 + low, {'Attack type': 'OUT OF ASSET ATTACK', 'from': 'A1 + low', 'to': 'A3 + high', 'vulnerability used': 'CVE-2019-12749', 'Connection': 'remote_access'}, A3 + high, {'Attack type': 'OUT OF ASSET ATTACK', 'from': 'A3 + high', 'to': 'A7 + high', 'vulnerability used': 'CVE-2006-3486', 'Connection': 'network_access'}, A7 + high, {'Attack type': 'IN ASSET ATTACK', 'from': 'A7 + high', 'to': 'A7 + low', 'vulnerability used': 'CVE-2020-13125'}, A7 + low, {'Attack type': 'OUT OF ASSET ATTACK', 'from': 'A7 + low', 'to': 'A12 + high', 'vulnerability used': 'CVE-2012-2319', 'Connection': 'network_access'}, A12 + high, {'Attack type': 'OUT OF ASSET ATTACK', 'from': 'A12 + high', 'to': 'A13 + high', 'vulnerability used': 'CVE-2004-1371', 'Connection': 'remote_access'}, A13 + high, {'Attack type': 'IN ASSET ATTACK', 'from': 'A13 + high', 'to': 'A13 + low', 'vulnerability used': 'CVE-2013-5065'}, A13 + low, {'Attack type': 'OUT OF ASSET ATTACK', 'from': 'A13 + low', 'to': 'A14 + high', 'vulnerability used': 'CVE-2019-1817', 'Connection': 'remote_access'}, A14 + high), (A1 + low, {'Attack type': 'OUT OF ASSET ATTACK', 'from': 'A1 + low', 'to': 'A3 + high', 'vulnerability used': 'CVE-2019-12749', 'Connection': 'remote_access'}, A3 + high, {'Attack type': 'OUT OF ASSET ATTACK', 'from': 'A3 + high', 'to': 'A7 + high', 'vulnerability used': 'CVE-2006-3486', 'Connection': 'network_access'}, A7 + high, {'Attack type': 'IN ASSET ATTACK', 'from': 'A7 + high', 'to': 'A7 + low', 'vulnerability used': 'CVE-2020-13125'}, A7 + low, {'Attack type': 'OUT OF ASSET ATTACK', 'from': 'A7 + low', 'to': 'A12 + high', 'vulnerability used': 'CVE-2012-2319', 'Connection': 'network_access'}, A12 + high, {'Attack type': 'OUT OF ASSET ATTACK', 'from': 'A12 + high', 'to': 'A13 + high', 'vulnerability used': 'CVE-2004-1371', 'Connection': 'remote_access'}, A13 + high, {'Attack type': 'OUT OF ASSET ATTACK', 'from': 'A13 + high', 'to': 'A14 + low', 'vulnerability used': 'CVE-2012-2749', 'Connection': 'remote_access'}, A14 + low, {'Attack type': 'IN ASSET ATTACK', 'from': 'A14 + low', 'to': 'A14 + high', 'vulnerability used': 'CVE-2009-4030'}, A14 + high), (A1 + low, {'Attack type': 'OUT OF ASSET ATTACK', 'from': 'A1 + low', 'to': 'A3 + high', 'vulnerability used': 'CVE-2019-12749', 'Connection': 'remote_access'}, A3 + high, {'Attack type': 'OUT OF ASSET ATTACK', 'from': 'A3 + high', 'to': 'A7 + high', 'vulnerability used': 'CVE-2006-3486', 'Connection': 'network_access'}, A7 + high, {'Attack type': 'IN ASSET ATTACK', 'from': 'A7 + high', 'to': 'A7 + low', 'vulnerability used': 'CVE-2020-13125'}, A7 + low, {'Attack type': 'OUT OF ASSET ATTACK', 'from': 'A7 + low', 'to': 'A12 + high', 'vulnerability used': 'CVE-2012-2319', 'Connection': 'network_access'}, A12 + high, {'Attack type': 'OUT OF ASSET ATTACK', 'from': 'A12 + high', 'to': 'A13 + high', 'vulnerability used': 'CVE-2004-1371', 'Connection': 'remote_access'}, A13 + high, {'Attack type': 'OUT OF ASSET ATTACK', 'from': 'A13 + high', 'to': 'A14 + low', 'vulnerability used': 'CVE-2012-2749', 'Connection': 'remote_access'}, A14 + low, {'Attack type': 'IN ASSET ATTACK', 'from': 'A14 + low', 'to': 'A14 + high', 'vulnerability used': 'CVE-2017-10271'}, A14 + high), (A1 + low, {'Attack type': 'OUT OF ASSET ATTACK', 'from': 'A1 + low', 'to': 'A3 + high', 'vulnerability used': 'CVE-2019-12749', 'Connection': 'remote_access'}, A3 + high, {'Attack type': 'OUT OF ASSET ATTACK', 'from': 'A3 + high', 'to': 'A7 + high', 'vulnerability used': 'CVE-2006-3486', 'Connection': 'network_access'}, A7 + high, {'Attack type': 'IN ASSET ATTACK', 'from': 'A7 + high', 'to': 'A7 + low', 'vulnerability used': 'CVE-2020-13125'}, A7 + low, {'Attack type': 'OUT OF ASSET ATTACK', 'from': 'A7 + low', 'to': 'A12 + high', 'vulnerability used': 'CVE-2012-2319', 'Connection': 'network_access'}, A12 + high, {'Attack type': 'OUT OF ASSET ATTACK', 'from': 'A12 + high', 'to': 'A13 + high', 'vulnerability used': 'CVE-2004-1371', 'Connection': 'remote_access'}, A13 + high, {'Attack type': 'OUT OF ASSET ATTACK', 'from': 'A13 + high', 'to': 'A14 + high', 'vulnerability used': 'CVE-2019-1817', 'Connection': 'remote_access'}, A14 + high), (A1 + low, {'Attack type': 'OUT OF ASSET ATTACK', 'from': 'A1 + low', 'to': 'A3 + high', 'vulnerability used': 'CVE-2019-12749', 'Connection': 'remote_access'}, A3 + high, {'Attack type': 'OUT OF ASSET ATTACK', 'from': 'A3 + high', 'to': 'A7 + high', 'vulnerability used': 'CVE-2006-3486', 'Connection': 'network_access'}, A7 + high, {'Attack type': 'IN ASSET ATTACK', 'from': 'A7 + high', 'to': 'A7 + low', 'vulnerability used': 'CVE-2020-13125'}, A7 + low, {'Attack type': 'OUT OF ASSET ATTACK', 'from': 'A7 + low', 'to': 'A12 + high', 'vulnerability used': 'CVE-2012-2319', 'Connection': 'network_access'}, A12 + high, {'Attack type': 'OUT OF ASSET ATTACK', 'from': 'A12 + high', 'to': 'A13 + high', 'vulnerability used': 'CVE-2006-6703', 'Connection': 'remote_access'}, A13 + high, {'Attack type': 'IN ASSET ATTACK', 'from': 'A13 + high', 'to': 'A13 + low', 'vulnerability used': 'CVE-2013-5065'}, A13 + low, {'Attack type': 'OUT OF ASSET ATTACK', 'from': 'A13 + low', 'to': 'A14 + low', 'vulnerability used': 'CVE-2012-2749', 'Connection': 'remote_access'}, A14 + low, {'Attack type': 'IN ASSET ATTACK', 'from': 'A14 + low', 'to': 'A14 + high', 'vulnerability used': 'CVE-2009-4030'}, A14 + high), (A1 + low, {'Attack type': 'OUT OF ASSET ATTACK', 'from': 'A1 + low', 'to': 'A3 + high', 'vulnerability used': 'CVE-2019-12749', 'Connection': 'remote_access'}, A3 + high, {'Attack type': 'OUT OF ASSET ATTACK', 'from': 'A3 + high', 'to': 'A7 + high', 'vulnerability used': 'CVE-2006-3486', 'Connection': 'network_access'}, A7 + high, {'Attack type': 'IN ASSET ATTACK', 'from': 'A7 + high', 'to': 'A7 + low', 'vulnerability used': 'CVE-2020-13125'}, A7 + low, {'Attack type': 'OUT OF ASSET ATTACK', 'from': 'A7 + low', 'to': 'A12 + high', 'vulnerability used': 'CVE-2012-2319', 'Connection': 'network_access'}, A12 + high, {'Attack type': 'OUT OF ASSET ATTACK', 'from': 'A12 + high', 'to': 'A13 + high', 'vulnerability used': 'CVE-2006-6703', 'Connection': 'remote_access'}, A13 + high, {'Attack type': 'IN ASSET ATTACK', 'from': 'A13 + high', 'to': 'A13 + low', 'vulnerability used': 'CVE-2013-5065'}, A13 + low, {'Attack type': 'OUT OF ASSET ATTACK', 'from': 'A13 + low', 'to': 'A14 + low', 'vulnerability used': 'CVE-2012-2749', 'Connection': 'remote_access'}, A14 + low, {'Attack type': 'IN ASSET ATTACK', 'from': 'A14 + low', 'to': 'A14 + high', 'vulnerability used': 'CVE-2017-10271'}, A14 + high), (A1 + low, {'Attack type': 'OUT OF ASSET ATTACK', 'from': 'A1 + low', 'to': 'A3 + high', 'vulnerability used': 'CVE-2019-12749', 'Connection': 'remote_access'}, A3 + high, {'Attack type': 'OUT OF ASSET ATTACK', 'from': 'A3 + high', 'to': 'A7 + high', 'vulnerability used': 'CVE-2006-3486', 'Connection': 'network_access'}, A7 + high, {'Attack type': 'IN ASSET ATTACK', 'from': 'A7 + high', 'to': 'A7 + low', 'vulnerability used': 'CVE-2020-13125'}, A7 + low, {'Attack type': 'OUT OF ASSET ATTACK', 'from': 'A7 + low', 'to': 'A12 + high', 'vulnerability used': 'CVE-2012-2319', 'Connection': 'network_access'}, A12 + high, {'Attack type': 'OUT OF ASSET ATTACK', 'from': 'A12 + high', 'to': 'A13 + high', 'vulnerability used': 'CVE-2006-6703', 'Connection': 'remote_access'}, A13 + high, {'Attack type': 'IN ASSET ATTACK', 'from': 'A13 + high', 'to': 'A13 + low', 'vulnerability used': 'CVE-2013-5065'}, A13 + low, {'Attack type': 'OUT OF ASSET ATTACK', 'from': 'A13 + low', 'to': 'A14 + high', 'vulnerability used': 'CVE-2019-1817', 'Connection': 'remote_access'}, A14 + high), (A1 + low, {'Attack type': 'OUT OF ASSET ATTACK', 'from': 'A1 + low', 'to': 'A3 + high', 'vulnerability used': 'CVE-2019-12749', 'Connection': 'remote_access'}, A3 + high, {'Attack type': 'OUT OF ASSET ATTACK', 'from': 'A3 + high', 'to': 'A7 + high', 'vulnerability used': 'CVE-2006-3486', 'Connection': 'network_access'}, A7 + high, {'Attack type': 'IN ASSET ATTACK', 'from': 'A7 + high', 'to': 'A7 + low', 'vulnerability used': 'CVE-2020-13125'}, A7 + low, {'Attack type': 'OUT OF ASSET ATTACK', 'from': 'A7 + low', 'to': 'A12 + high', 'vulnerability used': 'CVE-2012-2319', 'Connection': 'network_access'}, A12 + high, {'Attack type': 'OUT OF ASSET ATTACK', 'from': 'A12 + high', 'to': 'A13 + high', 'vulnerability used': 'CVE-2006-6703', 'Connection': 'remote_access'}, A13 + high, {'Attack type': 'OUT OF ASSET ATTACK', 'from': 'A13 + high', 'to': 'A14 + low', 'vulnerability used': 'CVE-2012-2749', 'Connection': 'remote_access'}, A14 + low, {'Attack type': 'IN ASSET ATTACK', 'from': 'A14 + low', 'to': 'A14 + high', 'vulnerability used': 'CVE-2009-4030'}, A14 + high), (A1 + low, {'Attack type': 'OUT OF ASSET ATTACK', 'from': 'A1 + low', 'to': 'A3 + high', 'vulnerability used': 'CVE-2019-12749', 'Connection': 'remote_access'}, A3 + high, {'Attack type': 'OUT OF ASSET ATTACK', 'from': 'A3 + high', 'to': 'A7 + high', 'vulnerability used': 'CVE-2006-3486', 'Connection': 'network_access'}, A7 + high, {'Attack type': 'IN ASSET ATTACK', 'from': 'A7 + high', 'to': 'A7 + low', 'vulnerability used': 'CVE-2020-13125'}, A7 + low, {'Attack type': 'OUT OF ASSET ATTACK', 'from': 'A7 + low', 'to': 'A12 + high', 'vulnerability used': 'CVE-2012-2319', 'Connection': 'network_access'}, A12 + high, {'Attack type': 'OUT OF ASSET ATTACK', 'from': 'A12 + high', 'to': 'A13 + high', 'vulnerability used': 'CVE-2006-6703', 'Connection': 'remote_access'}, A13 + high, {'Attack type': 'OUT OF ASSET ATTACK', 'from': 'A13 + high', 'to': 'A14 + low', 'vulnerability used': 'CVE-2012-2749', 'Connection': 'remote_access'}, A14 + low, {'Attack type': 'IN ASSET ATTACK', 'from': 'A14 + low', 'to': 'A14 + high', 'vulnerability used': 'CVE-2017-10271'}, A14 + high), (A1 + low, {'Attack type': 'OUT OF ASSET ATTACK', 'from': 'A1 + low', 'to': 'A3 + high', 'vulnerability used': 'CVE-2019-12749', 'Connection': 'remote_access'}, A3 + high, {'Attack type': 'OUT OF ASSET ATTACK', 'from': 'A3 + high', 'to': 'A7 + high', 'vulnerability used': 'CVE-2006-3486', 'Connection': 'network_access'}, A7 + high, {'Attack type': 'IN ASSET ATTACK', 'from': 'A7 + high', 'to': 'A7 + low', 'vulnerability used': 'CVE-2020-13125'}, A7 + low, {'Attack type': 'OUT OF ASSET ATTACK', 'from': 'A7 + low', 'to': 'A12 + high', 'vulnerability used': 'CVE-2012-2319', 'Connection': 'network_access'}, A12 + high, {'Attack type': 'OUT OF ASSET ATTACK', 'from': 'A12 + high', 'to': 'A13 + high', 'vulnerability used': 'CVE-2006-6703', 'Connection': 'remote_access'}, A13 + high, {'Attack type': 'OUT OF ASSET ATTACK', 'from': 'A13 + high', 'to': 'A14 + high', 'vulnerability used': 'CVE-2019-1817', 'Connection': 'remote_access'}, A14 + high), (A1 + low, {'Attack type': 'OUT OF ASSET ATTACK', 'from': 'A1 + low', 'to': 'A3 + high', 'vulnerability used': 'CVE-2019-12749', 'Connection': 'remote_access'}, A3 + high, {'Attack type': 'OUT OF ASSET ATTACK', 'from': 'A3 + high', 'to': 'A7 + high', 'vulnerability used': 'CVE-2006-3486', 'Connection': 'network_access'}, A7 + high, {'Attack type': 'OUT OF ASSET ATTACK', 'from': 'A7 + high', 'to': 'A12 + high', 'vulnerability used': 'CVE-2012-2319', 'Connection': 'network_access'}, A12 + high, {'Attack type': 'IN ASSET ATTACK', 'from': 'A12 + high', 'to': 'A12 + low', 'vulnerability used': 'CVE-2016-1409'}, A12 + low, {'Attack type': 'OUT OF ASSET ATTACK', 'from': 'A12 + low', 'to': 'A13 + high', 'vulnerability used': 'CVE-2006-6703', 'Connection': 'remote_access'}, A13 + high, {'Attack type': 'IN ASSET ATTACK', 'from': 'A13 + high', 'to': 'A13 + low', 'vulnerability used': 'CVE-2013-5065'}, A13 + low, {'Attack type': 'OUT OF ASSET ATTACK', 'from': 'A13 + low', 'to': 'A14 + low', 'vulnerability used': 'CVE-2012-2749', 'Connection': 'remote_access'}, A14 + low, {'Attack type': 'IN ASSET ATTACK', 'from': 'A14 + low', 'to': 'A14 + high', 'vulnerability used': 'CVE-2009-4030'}, A14 + high), (A1 + low, {'Attack type': 'OUT OF ASSET ATTACK', 'from': 'A1 + low', 'to': 'A3 + high', 'vulnerability used': 'CVE-2019-12749', 'Connection': 'remote_access'}, A3 + high, {'Attack type': 'OUT OF ASSET ATTACK', 'from': 'A3 + high', 'to': 'A7 + high', 'vulnerability used': 'CVE-2006-3486', 'Connection': 'network_access'}, A7 + high, {'Attack type': 'OUT OF ASSET ATTACK', 'from': 'A7 + high', 'to': 'A12 + high', 'vulnerability used': 'CVE-2012-2319', 'Connection': 'network_access'}, A12 + high, {'Attack type': 'IN ASSET ATTACK', 'from': 'A12 + high', 'to': 'A12 + low', 'vulnerability used': 'CVE-2016-1409'}, A12 + low, {'Attack type': 'OUT OF ASSET ATTACK', 'from': 'A12 + low', 'to': 'A13 + high', 'vulnerability used': 'CVE-2006-6703', 'Connection': 'remote_access'}, A13 + high, {'Attack type': 'IN ASSET ATTACK', 'from': 'A13 + high', 'to': 'A13 + low', 'vulnerability used': 'CVE-2013-5065'}, A13 + low, {'Attack type': 'OUT OF ASSET ATTACK', 'from': 'A13 + low', 'to': 'A14 + low', 'vulnerability used': 'CVE-2012-2749', 'Connection': 'remote_access'}, A14 + low, {'Attack type': 'IN ASSET ATTACK', 'from': 'A14 + low', 'to': 'A14 + high', 'vulnerability used': 'CVE-2017-10271'}, A14 + high), (A1 + low, {'Attack type': 'OUT OF ASSET ATTACK', 'from': 'A1 + low', 'to': 'A3 + high', 'vulnerability used': 'CVE-2019-12749', 'Connection': 'remote_access'}, A3 + high, {'Attack type': 'OUT OF ASSET ATTACK', 'from': 'A3 + high', 'to': 'A7 + high', 'vulnerability used': 'CVE-2006-3486', 'Connection': 'network_access'}, A7 + high, {'Attack type': 'OUT OF ASSET ATTACK', 'from': 'A7 + high', 'to': 'A12 + high', 'vulnerability used': 'CVE-2012-2319', 'Connection': 'network_access'}, A12 + high, {'Attack type': 'IN ASSET ATTACK', 'from': 'A12 + high', 'to': 'A12 + low', 'vulnerability used': 'CVE-2016-1409'}, A12 + low, {'Attack type': 'OUT OF ASSET ATTACK', 'from': 'A12 + low', 'to': 'A13 + high', 'vulnerability used': 'CVE-2006-6703', 'Connection': 'remote_access'}, A13 + high, {'Attack type': 'IN ASSET ATTACK', 'from': 'A13 + high', 'to': 'A13 + low', 'vulnerability used': 'CVE-2013-5065'}, A13 + low, {'Attack type': 'OUT OF ASSET ATTACK', 'from': 'A13 + low', 'to': 'A14 + high', 'vulnerability used': 'CVE-2019-1817', 'Connection': 'remote_access'}, A14 + high), (A1 + low, {'Attack type': 'OUT OF ASSET ATTACK', 'from': 'A1 + low', 'to': 'A3 + high', 'vulnerability used': 'CVE-2019-12749', 'Connection': 'remote_access'}, A3 + high, {'Attack type': 'OUT OF ASSET ATTACK', 'from': 'A3 + high', 'to': 'A7 + high', 'vulnerability used': 'CVE-2006-3486', 'Connection': 'network_access'}, A7 + high, {'Attack type': 'OUT OF ASSET ATTACK', 'from': 'A7 + high', 'to': 'A12 + high', 'vulnerability used': 'CVE-2012-2319', 'Connection': 'network_access'}, A12 + high, {'Attack type': 'IN ASSET ATTACK', 'from': 'A12 + high', 'to': 'A12 + low', 'vulnerability used': 'CVE-2016-1409'}, A12 + low, {'Attack type': 'OUT OF ASSET ATTACK', 'from': 'A12 + low', 'to': 'A13 + high', 'vulnerability used': 'CVE-2006-6703', 'Connection': 'remote_access'}, A13 + high, {'Attack type': 'OUT OF ASSET ATTACK', 'from': 'A13 + high', 'to': 'A14 + low', 'vulnerability used': 'CVE-2012-2749', 'Connection': 'remote_access'}, A14 + low, {'Attack type': 'IN ASSET ATTACK', 'from': 'A14 + low', 'to': 'A14 + high', 'vulnerability used': 'CVE-2009-4030'}, A14 + high), (A1 + low, {'Attack type': 'OUT OF ASSET ATTACK', 'from': 'A1 + low', 'to': 'A3 + high', 'vulnerability used': 'CVE-2019-12749', 'Connection': 'remote_access'}, A3 + high, {'Attack type': 'OUT OF ASSET ATTACK', 'from': 'A3 + high', 'to': 'A7 + high', 'vulnerability used': 'CVE-2006-3486', 'Connection': 'network_access'}, A7 + high, {'Attack type': 'OUT OF ASSET ATTACK', 'from': 'A7 + high', 'to': 'A12 + high', 'vulnerability used': 'CVE-2012-2319', 'Connection': 'network_access'}, A12 + high, {'Attack type': 'IN ASSET ATTACK', 'from': 'A12 + high', 'to': 'A12 + low', 'vulnerability used': 'CVE-2016-1409'}, A12 + low, {'Attack type': 'OUT OF ASSET ATTACK', 'from': 'A12 + low', 'to': 'A13 + high', 'vulnerability used': 'CVE-2006-6703', 'Connection': 'remote_access'}, A13 + high, {'Attack type': 'OUT OF ASSET ATTACK', 'from': 'A13 + high', 'to': 'A14 + low', 'vulnerability used': 'CVE-2012-2749', 'Connection': 'remote_access'}, A14 + low, {'Attack type': 'IN ASSET ATTACK', 'from': 'A14 + low', 'to': 'A14 + high', 'vulnerability used': 'CVE-2017-10271'}, A14 + high), (A1 + low, {'Attack type': 'OUT OF ASSET ATTACK', 'from': 'A1 + low', 'to': 'A3 + high', 'vulnerability used': 'CVE-2019-12749', 'Connection': 'remote_access'}, A3 + high, {'Attack type': 'OUT OF ASSET ATTACK', 'from': 'A3 + high', 'to': 'A7 + high', 'vulnerability used': 'CVE-2006-3486', 'Connection': 'network_access'}, A7 + high, {'Attack type': 'OUT OF ASSET ATTACK', 'from': 'A7 + high', 'to': 'A12 + high', 'vulnerability used': 'CVE-2012-2319', 'Connection': 'network_access'}, A12 + high, {'Attack type': 'IN ASSET ATTACK', 'from': 'A12 + high', 'to': 'A12 + low', 'vulnerability used': 'CVE-2016-1409'}, A12 + low, {'Attack type': 'OUT OF ASSET ATTACK', 'from': 'A12 + low', 'to': 'A13 + high', 'vulnerability used': 'CVE-2006-6703', 'Connection': 'remote_access'}, A13 + high, {'Attack type': 'OUT OF ASSET ATTACK', 'from': 'A13 + high', 'to': 'A14 + high', 'vulnerability used': 'CVE-2019-1817', 'Connection': 'remote_access'}, A14 + high), (A1 + low, {'Attack type': 'OUT OF ASSET ATTACK', 'from': 'A1 + low', 'to': 'A3 + high', 'vulnerability used': 'CVE-2019-12749', 'Connection': 'remote_access'}, A3 + high, {'Attack type': 'OUT OF ASSET ATTACK', 'from': 'A3 + high', 'to': 'A7 + high', 'vulnerability used': 'CVE-2006-3486', 'Connection': 'network_access'}, A7 + high, {'Attack type': 'OUT OF ASSET ATTACK', 'from': 'A7 + high', 'to': 'A12 + high', 'vulnerability used': 'CVE-2012-2319', 'Connection': 'network_access'}, A12 + high, {'Attack type': 'OUT OF ASSET ATTACK', 'from': 'A12 + high', 'to': 'A13 + high', 'vulnerability used': 'CVE-2004-1371', 'Connection': 'remote_access'}, A13 + high, {'Attack type': 'IN ASSET ATTACK', 'from': 'A13 + high', 'to': 'A13 + low', 'vulnerability used': 'CVE-2013-5065'}, A13 + low, {'Attack type': 'OUT OF ASSET ATTACK', 'from': 'A13 + low', 'to': 'A14 + low', 'vulnerability used': 'CVE-2012-2749', 'Connection': 'remote_access'}, A14 + low, {'Attack type': 'IN ASSET ATTACK', 'from': 'A14 + low', 'to': 'A14 + high', 'vulnerability used': 'CVE-2009-4030'}, A14 + high), (A1 + low, {'Attack type': 'OUT OF ASSET ATTACK', 'from': 'A1 + low', 'to': 'A3 + high', 'vulnerability used': 'CVE-2019-12749', 'Connection': 'remote_access'}, A3 + high, {'Attack type': 'OUT OF ASSET ATTACK', 'from': 'A3 + high', 'to': 'A7 + high', 'vulnerability used': 'CVE-2006-3486', 'Connection': 'network_access'}, A7 + high, {'Attack type': 'OUT OF ASSET ATTACK', 'from': 'A7 + high', 'to': 'A12 + high', 'vulnerability used': 'CVE-2012-2319', 'Connection': 'network_access'}, A12 + high, {'Attack type': 'OUT OF ASSET ATTACK', 'from': 'A12 + high', 'to': 'A13 + high', 'vulnerability used': 'CVE-2004-1371', 'Connection': 'remote_access'}, A13 + high, {'Attack type': 'IN ASSET ATTACK', 'from': 'A13 + high', 'to': 'A13 + low', 'vulnerability used': 'CVE-2013-5065'}, A13 + low, {'Attack type': 'OUT OF ASSET ATTACK', 'from': 'A13 + low', 'to': 'A14 + low', 'vulnerability used': 'CVE-2012-2749', 'Connection': 'remote_access'}, A14 + low, {'Attack type': 'IN ASSET ATTACK', 'from': 'A14 + low', 'to': 'A14 + high', 'vulnerability used': 'CVE-2017-10271'}, A14 + high), (A1 + low, {'Attack type': 'OUT OF ASSET ATTACK', 'from': 'A1 + low', 'to': 'A3 + high', 'vulnerability used': 'CVE-2019-12749', 'Connection': 'remote_access'}, A3 + high, {'Attack type': 'OUT OF ASSET ATTACK', 'from': 'A3 + high', 'to': 'A7 + high', 'vulnerability used': 'CVE-2006-3486', 'Connection': 'network_access'}, A7 + high, {'Attack type': 'OUT OF ASSET ATTACK', 'from': 'A7 + high', 'to': 'A12 + high', 'vulnerability used': 'CVE-2012-2319', 'Connection': 'network_access'}, A12 + high, {'Attack type': 'OUT OF ASSET ATTACK', 'from': 'A12 + high', 'to': 'A13 + high', 'vulnerability used': 'CVE-2004-1371', 'Connection': 'remote_access'}, A13 + high, {'Attack type': 'IN ASSET ATTACK', 'from': 'A13 + high', 'to': 'A13 + low', 'vulnerability used': 'CVE-2013-5065'}, A13 + low, {'Attack type': 'OUT OF ASSET ATTACK', 'from': 'A13 + low', 'to': 'A14 + high', 'vulnerability used': 'CVE-2019-1817', 'Connection': 'remote_access'}, A14 + high), (A1 + low, {'Attack type': 'OUT OF ASSET ATTACK', 'from': 'A1 + low', 'to': 'A3 + high', 'vulnerability used': 'CVE-2019-12749', 'Connection': 'remote_access'}, A3 + high, {'Attack type': 'OUT OF ASSET ATTACK', 'from': 'A3 + high', 'to': 'A7 + high', 'vulnerability used': 'CVE-2006-3486', 'Connection': 'network_access'}, A7 + high, {'Attack type': 'OUT OF ASSET ATTACK', 'from': 'A7 + high', 'to': 'A12 + high', 'vulnerability used': 'CVE-2012-2319', 'Connection': 'network_access'}, A12 + high, {'Attack type': 'OUT OF ASSET ATTACK', 'from': 'A12 + high', 'to': 'A13 + high', 'vulnerability used': 'CVE-2004-1371', 'Connection': 'remote_access'}, A13 + high, {'Attack type': 'OUT OF ASSET ATTACK', 'from': 'A13 + high', 'to': 'A14 + low', 'vulnerability used': 'CVE-2012-2749', 'Connection': 'remote_access'}, A14 + low, {'Attack type': 'IN ASSET ATTACK', 'from': 'A14 + low', 'to': 'A14 + high', 'vulnerability used': 'CVE-2009-4030'}, A14 + high), (A1 + low, {'Attack type': 'OUT OF ASSET ATTACK', 'from': 'A1 + low', 'to': 'A3 + high', 'vulnerability used': 'CVE-2019-12749', 'Connection': 'remote_access'}, A3 + high, {'Attack type': 'OUT OF ASSET ATTACK', 'from': 'A3 + high', 'to': 'A7 + high', 'vulnerability used': 'CVE-2006-3486', 'Connection': 'network_access'}, A7 + high, {'Attack type': 'OUT OF ASSET ATTACK', 'from': 'A7 + high', 'to': 'A12 + high', 'vulnerability used': 'CVE-2012-2319', 'Connection': 'network_access'}, A12 + high, {'Attack type': 'OUT OF ASSET ATTACK', 'from': 'A12 + high', 'to': 'A13 + high', 'vulnerability used': 'CVE-2004-1371', 'Connection': 'remote_access'}, A13 + high, {'Attack type': 'OUT OF ASSET ATTACK', 'from': 'A13 + high', 'to': 'A14 + low', 'vulnerability used': 'CVE-2012-2749', 'Connection': 'remote_access'}, A14 + low, {'Attack type': 'IN ASSET ATTACK', 'from': 'A14 + low', 'to': 'A14 + high', 'vulnerability used': 'CVE-2017-10271'}, A14 + high), (A1 + low, {'Attack type': 'OUT OF ASSET ATTACK', 'from': 'A1 + low', 'to': 'A3 + high', 'vulnerability used': 'CVE-2019-12749', 'Connection': 'remote_access'}, A3 + high, {'Attack type': 'OUT OF ASSET ATTACK', 'from': 'A3 + high', 'to': 'A7 + high', 'vulnerability used': 'CVE-2006-3486', 'Connection': 'network_access'}, A7 + high, {'Attack type': 'OUT OF ASSET ATTACK', 'from': 'A7 + high', 'to': 'A12 + high', 'vulnerability used': 'CVE-2012-2319', 'Connection': 'network_access'}, A12 + high, {'Attack type': 'OUT OF ASSET ATTACK', 'from': 'A12 + high', 'to': 'A13 + high', 'vulnerability used': 'CVE-2004-1371', 'Connection': 'remote_access'}, A13 + high, {'Attack type': 'OUT OF ASSET ATTACK', 'from': 'A13 + high', 'to': 'A14 + high', 'vulnerability used': 'CVE-2019-1817', 'Connection': 'remote_access'}, A14 + high), (A1 + low, {'Attack type': 'OUT OF ASSET ATTACK', 'from': 'A1 + low', 'to': 'A3 + high', 'vulnerability used': 'CVE-2019-12749', 'Connection': 'remote_access'}, A3 + high, {'Attack type': 'OUT OF ASSET ATTACK', 'from': 'A3 + high', 'to': 'A7 + high', 'vulnerability used': 'CVE-2006-3486', 'Connection': 'network_access'}, A7 + high, {'Attack type': 'OUT OF ASSET ATTACK', 'from': 'A7 + high', 'to': 'A12 + high', 'vulnerability used': 'CVE-2012-2319', 'Connection': 'network_access'}, A12 + high, {'Attack type': 'OUT OF ASSET ATTACK', 'from': 'A12 + high', 'to': 'A13 + high', 'vulnerability used': 'CVE-2006-6703', 'Connection': 'remote_access'}, A13 + high, {'Attack type': 'IN ASSET ATTACK', 'from': 'A13 + high', 'to': 'A13 + low', 'vulnerability used': 'CVE-2013-5065'}, A13 + low, {'Attack type': 'OUT OF ASSET ATTACK', 'from': 'A13 + low', 'to': 'A14 + low', 'vulnerability used': 'CVE-2012-2749', 'Connection': 'remote_access'}, A14 + low, {'Attack type': 'IN ASSET ATTACK', 'from': 'A14 + low', 'to': 'A14 + high', 'vulnerability used': 'CVE-2009-4030'}, A14 + high), (A1 + low, {'Attack type': 'OUT OF ASSET ATTACK', 'from': 'A1 + low', 'to': 'A3 + high', 'vulnerability used': 'CVE-2019-12749', 'Connection': 'remote_access'}, A3 + high, {'Attack type': 'OUT OF ASSET ATTACK', 'from': 'A3 + high', 'to': 'A7 + high', 'vulnerability used': 'CVE-2006-3486', 'Connection': 'network_access'}, A7 + high, {'Attack type': 'OUT OF ASSET ATTACK', 'from': 'A7 + high', 'to': 'A12 + high', 'vulnerability used': 'CVE-2012-2319', 'Connection': 'network_access'}, A12 + high, {'Attack type': 'OUT OF ASSET ATTACK', 'from': 'A12 + high', 'to': 'A13 + high', 'vulnerability used': 'CVE-2006-6703', 'Connection': 'remote_access'}, A13 + high, {'Attack type': 'IN ASSET ATTACK', 'from': 'A13 + high', 'to': 'A13 + low', 'vulnerability used': 'CVE-2013-5065'}, A13 + low, {'Attack type': 'OUT OF ASSET ATTACK', 'from': 'A13 + low', 'to': 'A14 + low', 'vulnerability used': 'CVE-2012-2749', 'Connection': 'remote_access'}, A14 + low, {'Attack type': 'IN ASSET ATTACK', 'from': 'A14 + low', 'to': 'A14 + high', 'vulnerability used': 'CVE-2017-10271'}, A14 + high), (A1 + low, {'Attack type': 'OUT OF ASSET ATTACK', 'from': 'A1 + low', 'to': 'A3 + high', 'vulnerability used': 'CVE-2019-12749', 'Connection': 'remote_access'}, A3 + high, {'Attack type': 'OUT OF ASSET ATTACK', 'from': 'A3 + high', 'to': 'A7 + high', 'vulnerability used': 'CVE-2006-3486', 'Connection': 'network_access'}, A7 + high, {'Attack type': 'OUT OF ASSET ATTACK', 'from': 'A7 + high', 'to': 'A12 + high', 'vulnerability used': 'CVE-2012-2319', 'Connection': 'network_access'}, A12 + high, {'Attack type': 'OUT OF ASSET ATTACK', 'from': 'A12 + high', 'to': 'A13 + high', 'vulnerability used': 'CVE-2006-6703', 'Connection': 'remote_access'}, A13 + high, {'Attack type': 'IN ASSET ATTACK', 'from': 'A13 + high', 'to': 'A13 + low', 'vulnerability used': 'CVE-2013-5065'}, A13 + low, {'Attack type': 'OUT OF ASSET ATTACK', 'from': 'A13 + low', 'to': 'A14 + high', 'vulnerability used': 'CVE-2019-1817', 'Connection': 'remote_access'}, A14 + high), (A1 + low, {'Attack type': 'OUT OF ASSET ATTACK', 'from': 'A1 + low', 'to': 'A3 + high', 'vulnerability used': 'CVE-2019-12749', 'Connection': 'remote_access'}, A3 + high, {'Attack type': 'OUT OF ASSET ATTACK', 'from': 'A3 + high', 'to': 'A7 + high', 'vulnerability used': 'CVE-2006-3486', 'Connection': 'network_access'}, A7 + high, {'Attack type': 'OUT OF ASSET ATTACK', 'from': 'A7 + high', 'to': 'A12 + high', 'vulnerability used': 'CVE-2012-2319', 'Connection': 'network_access'}, A12 + high, {'Attack type': 'OUT OF ASSET ATTACK', 'from': 'A12 + high', 'to': 'A13 + high', 'vulnerability used': 'CVE-2006-6703', 'Connection': 'remote_access'}, A13 + high, {'Attack type': 'OUT OF ASSET ATTACK', 'from': 'A13 + high', 'to': 'A14 + low', 'vulnerability used': 'CVE-2012-2749', 'Connection': 'remote_access'}, A14 + low, {'Attack type': 'IN ASSET ATTACK', 'from': 'A14 + low', 'to': 'A14 + high', 'vulnerability used': 'CVE-2009-4030'}, A14 + high), (A1 + low, {'Attack type': 'OUT OF ASSET ATTACK', 'from': 'A1 + low', 'to': 'A3 + high', 'vulnerability used': 'CVE-2019-12749', 'Connection': 'remote_access'}, A3 + high, {'Attack type': 'OUT OF ASSET ATTACK', 'from': 'A3 + high', 'to': 'A7 + high', 'vulnerability used': 'CVE-2006-3486', 'Connection': 'network_access'}, A7 + high, {'Attack type': 'OUT OF ASSET ATTACK', 'from': 'A7 + high', 'to': 'A12 + high', 'vulnerability used': 'CVE-2012-2319', 'Connection': 'network_access'}, A12 + high, {'Attack type': 'OUT OF ASSET ATTACK', 'from': 'A12 + high', 'to': 'A13 + high', 'vulnerability used': 'CVE-2006-6703', 'Connection': 'remote_access'}, A13 + high, {'Attack type': 'OUT OF ASSET ATTACK', 'from': 'A13 + high', 'to': 'A14 + low', 'vulnerability used': 'CVE-2012-2749', 'Connection': 'remote_access'}, A14 + low, {'Attack type': 'IN ASSET ATTACK', 'from': 'A14 + low', 'to': 'A14 + high', 'vulnerability used': 'CVE-2017-10271'}, A14 + high), (A1 + low, {'Attack type': 'OUT OF ASSET ATTACK', 'from': 'A1 + low', 'to': 'A3 + high', 'vulnerability used': 'CVE-2019-12749', 'Connection': 'remote_access'}, A3 + high, {'Attack type': 'OUT OF ASSET ATTACK', 'from': 'A3 + high', 'to': 'A7 + high', 'vulnerability used': 'CVE-2006-3486', 'Connection': 'network_access'}, A7 + high, {'Attack type': 'OUT OF ASSET ATTACK', 'from': 'A7 + high', 'to': 'A12 + high', 'vulnerability used': 'CVE-2012-2319', 'Connection': 'network_access'}, A12 + high, {'Attack type': 'OUT OF ASSET ATTACK', 'from': 'A12 + high', 'to': 'A13 + high', 'vulnerability used': 'CVE-2006-6703', 'Connection': 'remote_access'}, A13 + high, {'Attack type': 'OUT OF ASSET ATTACK', 'from': 'A13 + high', 'to': 'A14 + high', 'vulnerability used': 'CVE-2019-1817', 'Connection': 'remote_access'}, A14 + high), (A1 + low, {'Attack type': 'OUT OF ASSET ATTACK', 'from': 'A1 + low', 'to': 'A3 + high', 'vulnerability used': 'CVE-2019-12749', 'Connection': 'remote_access'}, A3 + high, {'Attack type': 'OUT OF ASSET ATTACK', 'from': 'A3 + high', 'to': 'A7 + high', 'vulnerability used': 'CVE-2006-3486', 'Connection': 'network_access'}, A7 + high, {'Attack type': 'OUT OF ASSET ATTACK', 'from': 'A7 + high', 'to': 'A12 + low', 'vulnerability used': 'CVE-2019-1484', 'Connection': 'network_access'}, A12 + low, {'Attack type': 'IN ASSET ATTACK', 'from': 'A12 + low', 'to': 'A12 + high', 'vulnerability used': 'CVE-2019-1468'}, A12 + high, {'Attack type': 'OUT OF ASSET ATTACK', 'from': 'A12 + high', 'to': 'A13 + high', 'vulnerability used': 'CVE-2004-1371', 'Connection': 'remote_access'}, A13 + high, {'Attack type': 'IN ASSET ATTACK', 'from': 'A13 + high', 'to': 'A13 + low', 'vulnerability used': 'CVE-2013-5065'}, A13 + low, {'Attack type': 'OUT OF ASSET ATTACK', 'from': 'A13 + low', 'to': 'A14 + low', 'vulnerability used': 'CVE-2012-2749', 'Connection': 'remote_access'}, A14 + low, {'Attack type': 'IN ASSET ATTACK', 'from': 'A14 + low', 'to': 'A14 + high', 'vulnerability used': 'CVE-2009-4030'}, A14 + high), (A1 + low, {'Attack type': 'OUT OF ASSET ATTACK', 'from': 'A1 + low', 'to': 'A3 + high', 'vulnerability used': 'CVE-2019-12749', 'Connection': 'remote_access'}, A3 + high, {'Attack type': 'OUT OF ASSET ATTACK', 'from': 'A3 + high', 'to': 'A7 + high', 'vulnerability used': 'CVE-2006-3486', 'Connection': 'network_access'}, A7 + high, {'Attack type': 'OUT OF ASSET ATTACK', 'from': 'A7 + high', 'to': 'A12 + low', 'vulnerability used': 'CVE-2019-1484', 'Connection': 'network_access'}, A12 + low, {'Attack type': 'IN ASSET ATTACK', 'from': 'A12 + low', 'to': 'A12 + high', 'vulnerability used': 'CVE-2019-1468'}, A12 + high, {'Attack type': 'OUT OF ASSET ATTACK', 'from': 'A12 + high', 'to': 'A13 + high', 'vulnerability used': 'CVE-2004-1371', 'Connection': 'remote_access'}, A13 + high, {'Attack type': 'IN ASSET ATTACK', 'from': 'A13 + high', 'to': 'A13 + low', 'vulnerability used': 'CVE-2013-5065'}, A13 + low, {'Attack type': 'OUT OF ASSET ATTACK', 'from': 'A13 + low', 'to': 'A14 + low', 'vulnerability used': 'CVE-2012-2749', 'Connection': 'remote_access'}, A14 + low, {'Attack type': 'IN ASSET ATTACK', 'from': 'A14 + low', 'to': 'A14 + high', 'vulnerability used': 'CVE-2017-10271'}, A14 + high), (A1 + low, {'Attack type': 'OUT OF ASSET ATTACK', 'from': 'A1 + low', 'to': 'A3 + high', 'vulnerability used': 'CVE-2019-12749', 'Connection': 'remote_access'}, A3 + high, {'Attack type': 'OUT OF ASSET ATTACK', 'from': 'A3 + high', 'to': 'A7 + high', 'vulnerability used': 'CVE-2006-3486', 'Connection': 'network_access'}, A7 + high, {'Attack type': 'OUT OF ASSET ATTACK', 'from': 'A7 + high', 'to': 'A12 + low', 'vulnerability used': 'CVE-2019-1484', 'Connection': 'network_access'}, A12 + low, {'Attack type': 'IN ASSET ATTACK', 'from': 'A12 + low', 'to': 'A12 + high', 'vulnerability used': 'CVE-2019-1468'}, A12 + high, {'Attack type': 'OUT OF ASSET ATTACK', 'from': 'A12 + high', 'to': 'A13 + high', 'vulnerability used': 'CVE-2004-1371', 'Connection': 'remote_access'}, A13 + high, {'Attack type': 'IN ASSET ATTACK', 'from': 'A13 + high', 'to': 'A13 + low', 'vulnerability used': 'CVE-2013-5065'}, A13 + low, {'Attack type': 'OUT OF ASSET ATTACK', 'from': 'A13 + low', 'to': 'A14 + high', 'vulnerability used': 'CVE-2019-1817', 'Connection': 'remote_access'}, A14 + high), (A1 + low, {'Attack type': 'OUT OF ASSET ATTACK', 'from': 'A1 + low', 'to': 'A3 + high', 'vulnerability used': 'CVE-2019-12749', 'Connection': 'remote_access'}, A3 + high, {'Attack type': 'OUT OF ASSET ATTACK', 'from': 'A3 + high', 'to': 'A7 + high', 'vulnerability used': 'CVE-2006-3486', 'Connection': 'network_access'}, A7 + high, {'Attack type': 'OUT OF ASSET ATTACK', 'from': 'A7 + high', 'to': 'A12 + low', 'vulnerability used': 'CVE-2019-1484', 'Connection': 'network_access'}, A12 + low, {'Attack type': 'IN ASSET ATTACK', 'from': 'A12 + low', 'to': 'A12 + high', 'vulnerability used': 'CVE-2019-1468'}, A12 + high, {'Attack type': 'OUT OF ASSET ATTACK', 'from': 'A12 + high', 'to': 'A13 + high', 'vulnerability used': 'CVE-2004-1371', 'Connection': 'remote_access'}, A13 + high, {'Attack type': 'OUT OF ASSET ATTACK', 'from': 'A13 + high', 'to': 'A14 + low', 'vulnerability used': 'CVE-2012-2749', 'Connection': 'remote_access'}, A14 + low, {'Attack type': 'IN ASSET ATTACK', 'from': 'A14 + low', 'to': 'A14 + high', 'vulnerability used': 'CVE-2009-4030'}, A14 + high), (A1 + low, {'Attack type': 'OUT OF ASSET ATTACK', 'from': 'A1 + low', 'to': 'A3 + high', 'vulnerability used': 'CVE-2019-12749', 'Connection': 'remote_access'}, A3 + high, {'Attack type': 'OUT OF ASSET ATTACK', 'from': 'A3 + high', 'to': 'A7 + high', 'vulnerability used': 'CVE-2006-3486', 'Connection': 'network_access'}, A7 + high, {'Attack type': 'OUT OF ASSET ATTACK', 'from': 'A7 + high', 'to': 'A12 + low', 'vulnerability used': 'CVE-2019-1484', 'Connection': 'network_access'}, A12 + low, {'Attack type': 'IN ASSET ATTACK', 'from': 'A12 + low', 'to': 'A12 + high', 'vulnerability used': 'CVE-2019-1468'}, A12 + high, {'Attack type': 'OUT OF ASSET ATTACK', 'from': 'A12 + high', 'to': 'A13 + high', 'vulnerability used': 'CVE-2004-1371', 'Connection': 'remote_access'}, A13 + high, {'Attack type': 'OUT OF ASSET ATTACK', 'from': 'A13 + high', 'to': 'A14 + low', 'vulnerability used': 'CVE-2012-2749', 'Connection': 'remote_access'}, A14 + low, {'Attack type': 'IN ASSET ATTACK', 'from': 'A14 + low', 'to': 'A14 + high', 'vulnerability used': 'CVE-2017-10271'}, A14 + high), (A1 + low, {'Attack type': 'OUT OF ASSET ATTACK', 'from': 'A1 + low', 'to': 'A3 + high', 'vulnerability used': 'CVE-2019-12749', 'Connection': 'remote_access'}, A3 + high, {'Attack type': 'OUT OF ASSET ATTACK', 'from': 'A3 + high', 'to': 'A7 + high', 'vulnerability used': 'CVE-2006-3486', 'Connection': 'network_access'}, A7 + high, {'Attack type': 'OUT OF ASSET ATTACK', 'from': 'A7 + high', 'to': 'A12 + low', 'vulnerability used': 'CVE-2019-1484', 'Connection': 'network_access'}, A12 + low, {'Attack type': 'IN ASSET ATTACK', 'from': 'A12 + low', 'to': 'A12 + high', 'vulnerability used': 'CVE-2019-1468'}, A12 + high, {'Attack type': 'OUT OF ASSET ATTACK', 'from': 'A12 + high', 'to': 'A13 + high', 'vulnerability used': 'CVE-2004-1371', 'Connection': 'remote_access'}, A13 + high, {'Attack type': 'OUT OF ASSET ATTACK', 'from': 'A13 + high', 'to': 'A14 + high', 'vulnerability used': 'CVE-2019-1817', 'Connection': 'remote_access'}, A14 + high), (A1 + low, {'Attack type': 'OUT OF ASSET ATTACK', 'from': 'A1 + low', 'to': 'A3 + high', 'vulnerability used': 'CVE-2019-12749', 'Connection': 'remote_access'}, A3 + high, {'Attack type': 'OUT OF ASSET ATTACK', 'from': 'A3 + high', 'to': 'A7 + high', 'vulnerability used': 'CVE-2006-3486', 'Connection': 'network_access'}, A7 + high, {'Attack type': 'OUT OF ASSET ATTACK', 'from': 'A7 + high', 'to': 'A12 + low', 'vulnerability used': 'CVE-2019-1484', 'Connection': 'network_access'}, A12 + low, {'Attack type': 'IN ASSET ATTACK', 'from': 'A12 + low', 'to': 'A12 + high', 'vulnerability used': 'CVE-2019-1468'}, A12 + high, {'Attack type': 'OUT OF ASSET ATTACK', 'from': 'A12 + high', 'to': 'A13 + high', 'vulnerability used': 'CVE-2006-6703', 'Connection': 'remote_access'}, A13 + high, {'Attack type': 'IN ASSET ATTACK', 'from': 'A13 + high', 'to': 'A13 + low', 'vulnerability used': 'CVE-2013-5065'}, A13 + low, {'Attack type': 'OUT OF ASSET ATTACK', 'from': 'A13 + low', 'to': 'A14 + low', 'vulnerability used': 'CVE-2012-2749', 'Connection': 'remote_access'}, A14 + low, {'Attack type': 'IN ASSET ATTACK', 'from': 'A14 + low', 'to': 'A14 + high', 'vulnerability used': 'CVE-2009-4030'}, A14 + high), (A1 + low, {'Attack type': 'OUT OF ASSET ATTACK', 'from': 'A1 + low', 'to': 'A3 + high', 'vulnerability used': 'CVE-2019-12749', 'Connection': 'remote_access'}, A3 + high, {'Attack type': 'OUT OF ASSET ATTACK', 'from': 'A3 + high', 'to': 'A7 + high', 'vulnerability used': 'CVE-2006-3486', 'Connection': 'network_access'}, A7 + high, {'Attack type': 'OUT OF ASSET ATTACK', 'from': 'A7 + high', 'to': 'A12 + low', 'vulnerability used': 'CVE-2019-1484', 'Connection': 'network_access'}, A12 + low, {'Attack type': 'IN ASSET ATTACK', 'from': 'A12 + low', 'to': 'A12 + high', 'vulnerability used': 'CVE-2019-1468'}, A12 + high, {'Attack type': 'OUT OF ASSET ATTACK', 'from': 'A12 + high', 'to': 'A13 + high', 'vulnerability used': 'CVE-2006-6703', 'Connection': 'remote_access'}, A13 + high, {'Attack type': 'IN ASSET ATTACK', 'from': 'A13 + high', 'to': 'A13 + low', 'vulnerability used': 'CVE-2013-5065'}, A13 + low, {'Attack type': 'OUT OF ASSET ATTACK', 'from': 'A13 + low', 'to': 'A14 + low', 'vulnerability used': 'CVE-2012-2749', 'Connection': 'remote_access'}, A14 + low, {'Attack type': 'IN ASSET ATTACK', 'from': 'A14 + low', 'to': 'A14 + high', 'vulnerability used': 'CVE-2017-10271'}, A14 + high), (A1 + low, {'Attack type': 'OUT OF ASSET ATTACK', 'from': 'A1 + low', 'to': 'A3 + high', 'vulnerability used': 'CVE-2019-12749', 'Connection': 'remote_access'}, A3 + high, {'Attack type': 'OUT OF ASSET ATTACK', 'from': 'A3 + high', 'to': 'A7 + high', 'vulnerability used': 'CVE-2006-3486', 'Connection': 'network_access'}, A7 + high, {'Attack type': 'OUT OF ASSET ATTACK', 'from': 'A7 + high', 'to': 'A12 + low', 'vulnerability used': 'CVE-2019-1484', 'Connection': 'network_access'}, A12 + low, {'Attack type': 'IN ASSET ATTACK', 'from': 'A12 + low', 'to': 'A12 + high', 'vulnerability used': 'CVE-2019-1468'}, A12 + high, {'Attack type': 'OUT OF ASSET ATTACK', 'from': 'A12 + high', 'to': 'A13 + high', 'vulnerability used': 'CVE-2006-6703', 'Connection': 'remote_access'}, A13 + high, {'Attack type': 'IN ASSET ATTACK', 'from': 'A13 + high', 'to': 'A13 + low', 'vulnerability used': 'CVE-2013-5065'}, A13 + low, {'Attack type': 'OUT OF ASSET ATTACK', 'from': 'A13 + low', 'to': 'A14 + high', 'vulnerability used': 'CVE-2019-1817', 'Connection': 'remote_access'}, A14 + high), (A1 + low, {'Attack type': 'OUT OF ASSET ATTACK', 'from': 'A1 + low', 'to': 'A3 + high', 'vulnerability used': 'CVE-2019-12749', 'Connection': 'remote_access'}, A3 + high, {'Attack type': 'OUT OF ASSET ATTACK', 'from': 'A3 + high', 'to': 'A7 + high', 'vulnerability used': 'CVE-2006-3486', 'Connection': 'network_access'}, A7 + high, {'Attack type': 'OUT OF ASSET ATTACK', 'from': 'A7 + high', 'to': 'A12 + low', 'vulnerability used': 'CVE-2019-1484', 'Connection': 'network_access'}, A12 + low, {'Attack type': 'IN ASSET ATTACK', 'from': 'A12 + low', 'to': 'A12 + high', 'vulnerability used': 'CVE-2019-1468'}, A12 + high, {'Attack type': 'OUT OF ASSET ATTACK', 'from': 'A12 + high', 'to': 'A13 + high', 'vulnerability used': 'CVE-2006-6703', 'Connection': 'remote_access'}, A13 + high, {'Attack type': 'OUT OF ASSET ATTACK', 'from': 'A13 + high', 'to': 'A14 + low', 'vulnerability used': 'CVE-2012-2749', 'Connection': 'remote_access'}, A14 + low, {'Attack type': 'IN ASSET ATTACK', 'from': 'A14 + low', 'to': 'A14 + high', 'vulnerability used': 'CVE-2009-4030'}, A14 + high), (A1 + low, {'Attack type': 'OUT OF ASSET ATTACK', 'from': 'A1 + low', 'to': 'A3 + high', 'vulnerability used': 'CVE-2019-12749', 'Connection': 'remote_access'}, A3 + high, {'Attack type': 'OUT OF ASSET ATTACK', 'from': 'A3 + high', 'to': 'A7 + high', 'vulnerability used': 'CVE-2006-3486', 'Connection': 'network_access'}, A7 + high, {'Attack type': 'OUT OF ASSET ATTACK', 'from': 'A7 + high', 'to': 'A12 + low', 'vulnerability used': 'CVE-2019-1484', 'Connection': 'network_access'}, A12 + low, {'Attack type': 'IN ASSET ATTACK', 'from': 'A12 + low', 'to': 'A12 + high', 'vulnerability used': 'CVE-2019-1468'}, A12 + high, {'Attack type': 'OUT OF ASSET ATTACK', 'from': 'A12 + high', 'to': 'A13 + high', 'vulnerability used': 'CVE-2006-6703', 'Connection': 'remote_access'}, A13 + high, {'Attack type': 'OUT OF ASSET ATTACK', 'from': 'A13 + high', 'to': 'A14 + low', 'vulnerability used': 'CVE-2012-2749', 'Connection': 'remote_access'}, A14 + low, {'Attack type': 'IN ASSET ATTACK', 'from': 'A14 + low', 'to': 'A14 + high', 'vulnerability used': 'CVE-2017-10271'}, A14 + high), (A1 + low, {'Attack type': 'OUT OF ASSET ATTACK', 'from': 'A1 + low', 'to': 'A3 + high', 'vulnerability used': 'CVE-2019-12749', 'Connection': 'remote_access'}, A3 + high, {'Attack type': 'OUT OF ASSET ATTACK', 'from': 'A3 + high', 'to': 'A7 + high', 'vulnerability used': 'CVE-2006-3486', 'Connection': 'network_access'}, A7 + high, {'Attack type': 'OUT OF ASSET ATTACK', 'from': 'A7 + high', 'to': 'A12 + low', 'vulnerability used': 'CVE-2019-1484', 'Connection': 'network_access'}, A12 + low, {'Attack type': 'IN ASSET ATTACK', 'from': 'A12 + low', 'to': 'A12 + high', 'vulnerability used': 'CVE-2019-1468'}, A12 + high, {'Attack type': 'OUT OF ASSET ATTACK', 'from': 'A12 + high', 'to': 'A13 + high', 'vulnerability used': 'CVE-2006-6703', 'Connection': 'remote_access'}, A13 + high, {'Attack type': 'OUT OF ASSET ATTACK', 'from': 'A13 + high', 'to': 'A14 + high', 'vulnerability used': 'CVE-2019-1817', 'Connection': 'remote_access'}, A14 + high), (A1 + low, {'Attack type': 'OUT OF ASSET ATTACK', 'from': 'A1 + low', 'to': 'A3 + high', 'vulnerability used': 'CVE-2019-12749', 'Connection': 'remote_access'}, A3 + high, {'Attack type': 'OUT OF ASSET ATTACK', 'from': 'A3 + high', 'to': 'A7 + high', 'vulnerability used': 'CVE-2006-3486', 'Connection': 'network_access'}, A7 + high, {'Attack type': 'OUT OF ASSET ATTACK', 'from': 'A7 + high', 'to': 'A12 + low', 'vulnerability used': 'CVE-2019-1484', 'Connection': 'network_access'}, A12 + low, {'Attack type': 'OUT OF ASSET ATTACK', 'from': 'A12 + low', 'to': 'A13 + high', 'vulnerability used': 'CVE-2006-6703', 'Connection': 'remote_access'}, A13 + high, {'Attack type': 'IN ASSET ATTACK', 'from': 'A13 + high', 'to': 'A13 + low', 'vulnerability used': 'CVE-2013-5065'}, A13 + low, {'Attack type': 'OUT OF ASSET ATTACK', 'from': 'A13 + low', 'to': 'A14 + low', 'vulnerability used': 'CVE-2012-2749', 'Connection': 'remote_access'}, A14 + low, {'Attack type': 'IN ASSET ATTACK', 'from': 'A14 + low', 'to': 'A14 + high', 'vulnerability used': 'CVE-2009-4030'}, A14 + high), (A1 + low, {'Attack type': 'OUT OF ASSET ATTACK', 'from': 'A1 + low', 'to': 'A3 + high', 'vulnerability used': 'CVE-2019-12749', 'Connection': 'remote_access'}, A3 + high, {'Attack type': 'OUT OF ASSET ATTACK', 'from': 'A3 + high', 'to': 'A7 + high', 'vulnerability used': 'CVE-2006-3486', 'Connection': 'network_access'}, A7 + high, {'Attack type': 'OUT OF ASSET ATTACK', 'from': 'A7 + high', 'to': 'A12 + low', 'vulnerability used': 'CVE-2019-1484', 'Connection': 'network_access'}, A12 + low, {'Attack type': 'OUT OF ASSET ATTACK', 'from': 'A12 + low', 'to': 'A13 + high', 'vulnerability used': 'CVE-2006-6703', 'Connection': 'remote_access'}, A13 + high, {'Attack type': 'IN ASSET ATTACK', 'from': 'A13 + high', 'to': 'A13 + low', 'vulnerability used': 'CVE-2013-5065'}, A13 + low, {'Attack type': 'OUT OF ASSET ATTACK', 'from': 'A13 + low', 'to': 'A14 + low', 'vulnerability used': 'CVE-2012-2749', 'Connection': 'remote_access'}, A14 + low, {'Attack type': 'IN ASSET ATTACK', 'from': 'A14 + low', 'to': 'A14 + high', 'vulnerability used': 'CVE-2017-10271'}, A14 + high), (A1 + low, {'Attack type': 'OUT OF ASSET ATTACK', 'from': 'A1 + low', 'to': 'A3 + high', 'vulnerability used': 'CVE-2019-12749', 'Connection': 'remote_access'}, A3 + high, {'Attack type': 'OUT OF ASSET ATTACK', 'from': 'A3 + high', 'to': 'A7 + high', 'vulnerability used': 'CVE-2006-3486', 'Connection': 'network_access'}, A7 + high, {'Attack type': 'OUT OF ASSET ATTACK', 'from': 'A7 + high', 'to': 'A12 + low', 'vulnerability used': 'CVE-2019-1484', 'Connection': 'network_access'}, A12 + low, {'Attack type': 'OUT OF ASSET ATTACK', 'from': 'A12 + low', 'to': 'A13 + high', 'vulnerability used': 'CVE-2006-6703', 'Connection': 'remote_access'}, A13 + high, {'Attack type': 'IN ASSET ATTACK', 'from': 'A13 + high', 'to': 'A13 + low', 'vulnerability used': 'CVE-2013-5065'}, A13 + low, {'Attack type': 'OUT OF ASSET ATTACK', 'from': 'A13 + low', 'to': 'A14 + high', 'vulnerability used': 'CVE-2019-1817', 'Connection': 'remote_access'}, A14 + high), (A1 + low, {'Attack type': 'OUT OF ASSET ATTACK', 'from': 'A1 + low', 'to': 'A3 + high', 'vulnerability used': 'CVE-2019-12749', 'Connection': 'remote_access'}, A3 + high, {'Attack type': 'OUT OF ASSET ATTACK', 'from': 'A3 + high', 'to': 'A7 + high', 'vulnerability used': 'CVE-2006-3486', 'Connection': 'network_access'}, A7 + high, {'Attack type': 'OUT OF ASSET ATTACK', 'from': 'A7 + high', 'to': 'A12 + low', 'vulnerability used': 'CVE-2019-1484', 'Connection': 'network_access'}, A12 + low, {'Attack type': 'OUT OF ASSET ATTACK', 'from': 'A12 + low', 'to': 'A13 + high', 'vulnerability used': 'CVE-2006-6703', 'Connection': 'remote_access'}, A13 + high, {'Attack type': 'OUT OF ASSET ATTACK', 'from': 'A13 + high', 'to': 'A14 + low', 'vulnerability used': 'CVE-2012-2749', 'Connection': 'remote_access'}, A14 + low, {'Attack type': 'IN ASSET ATTACK', 'from': 'A14 + low', 'to': 'A14 + high', 'vulnerability used': 'CVE-2009-4030'}, A14 + high), (A1 + low, {'Attack type': 'OUT OF ASSET ATTACK', 'from': 'A1 + low', 'to': 'A3 + high', 'vulnerability used': 'CVE-2019-12749', 'Connection': 'remote_access'}, A3 + high, {'Attack type': 'OUT OF ASSET ATTACK', 'from': 'A3 + high', 'to': 'A7 + high', 'vulnerability used': 'CVE-2006-3486', 'Connection': 'network_access'}, A7 + high, {'Attack type': 'OUT OF ASSET ATTACK', 'from': 'A7 + high', 'to': 'A12 + low', 'vulnerability used': 'CVE-2019-1484', 'Connection': 'network_access'}, A12 + low, {'Attack type': 'OUT OF ASSET ATTACK', 'from': 'A12 + low', 'to': 'A13 + high', 'vulnerability used': 'CVE-2006-6703', 'Connection': 'remote_access'}, A13 + high, {'Attack type': 'OUT OF ASSET ATTACK', 'from': 'A13 + high', 'to': 'A14 + low', 'vulnerability used': 'CVE-2012-2749', 'Connection': 'remote_access'}, A14 + low, {'Attack type': 'IN ASSET ATTACK', 'from': 'A14 + low', 'to': 'A14 + high', 'vulnerability used': 'CVE-2017-10271'}, A14 + high), (A1 + low, {'Attack type': 'OUT OF ASSET ATTACK', 'from': 'A1 + low', 'to': 'A3 + high', 'vulnerability used': 'CVE-2019-12749', 'Connection': 'remote_access'}, A3 + high, {'Attack type': 'OUT OF ASSET ATTACK', 'from': 'A3 + high', 'to': 'A7 + high', 'vulnerability used': 'CVE-2006-3486', 'Connection': 'network_access'}, A7 + high, {'Attack type': 'OUT OF ASSET ATTACK', 'from': 'A7 + high', 'to': 'A12 + low', 'vulnerability used': 'CVE-2019-1484', 'Connection': 'network_access'}, A12 + low, {'Attack type': 'OUT OF ASSET ATTACK', 'from': 'A12 + low', 'to': 'A13 + high', 'vulnerability used': 'CVE-2006-6703', 'Connection': 'remote_access'}, A13 + high, {'Attack type': 'OUT OF ASSET ATTACK', 'from': 'A13 + high', 'to': 'A14 + high', 'vulnerability used': 'CVE-2019-1817', 'Connection': 'remote_access'}, A14 + high)]\n",
      "time taken  682\n"
     ]
    },
    {
     "ename": "TypeError",
     "evalue": "calculate_shortest_path_to_target() got an unexpected keyword argument 'goal_node'",
     "output_type": "error",
     "traceback": [
      "\u001b[0;31m---------------------------------------------------------------------------\u001b[0m",
      "\u001b[0;31mTypeError\u001b[0m                                 Traceback (most recent call last)",
      "Cell \u001b[0;32mIn[1], line 3\u001b[0m\n\u001b[1;32m      1\u001b[0m \u001b[39mimport\u001b[39;00m \u001b[39mcriticality_path_finder\u001b[39;00m\n\u001b[1;32m      2\u001b[0m x \u001b[39m=\u001b[39m criticality_path_finder\u001b[39m.\u001b[39mFind_ciritical_path()\n\u001b[0;32m----> 3\u001b[0m json_return \u001b[39m=\u001b[39m x\u001b[39m.\u001b[39;49mget_critical_path(\u001b[39m'\u001b[39;49m\u001b[39mA1\u001b[39;49m\u001b[39m'\u001b[39;49m,\u001b[39m'\u001b[39;49m\u001b[39mlow\u001b[39;49m\u001b[39m'\u001b[39;49m,\u001b[39m'\u001b[39;49m\u001b[39mA14\u001b[39;49m\u001b[39m'\u001b[39;49m,\u001b[39m'\u001b[39;49m\u001b[39mhigh\u001b[39;49m\u001b[39m'\u001b[39;49m)\n",
      "File \u001b[0;32m~/SECONDARY_SSD/python pycharm/Mini Project/flask server build/criticality_path_finder.py:308\u001b[0m, in \u001b[0;36mFind_ciritical_path.get_critical_path\u001b[0;34m(self, asset_id, current_access, goal_asset_id, goal_access_level)\u001b[0m\n\u001b[1;32m    304\u001b[0m \u001b[39mself\u001b[39m\u001b[39m.\u001b[39mlist_to_adjacency_matrix()\n\u001b[1;32m    306\u001b[0m \u001b[39m# 3. calculate shortest distance to goal\u001b[39;00m\n\u001b[0;32m--> 308\u001b[0m \u001b[39mself\u001b[39;49m\u001b[39m.\u001b[39;49mcalculate_shortest_path_to_target(goal_node\u001b[39m=\u001b[39;49mgoal_node)\n\u001b[1;32m    310\u001b[0m \u001b[39m# 4. now calculate the criticality score and impact score \u001b[39;00m\n\u001b[1;32m    311\u001b[0m \u001b[39mfor\u001b[39;00m i \u001b[39min\u001b[39;00m \u001b[39mself\u001b[39m\u001b[39m.\u001b[39mnode\u001b[39m.\u001b[39mvulnerability_nodes:\n",
      "\u001b[0;31mTypeError\u001b[0m: calculate_shortest_path_to_target() got an unexpected keyword argument 'goal_node'"
     ]
    }
   ],
   "source": [
    "import criticality_path_finder\n",
    "x = criticality_path_finder.Find_ciritical_path()\n",
    "json_return = x.get_critical_path('A1','low','A14','high')"
   ]
  },
  {
   "cell_type": "code",
   "execution_count": 3,
   "metadata": {},
   "outputs": [
    {
     "data": {
      "text/plain": [
       "{A1 + low: [{'Attack type': 'IN ASSET ATTACK', 'from': 'A1 + low', 'to': 'A1 + high', 'vulnerability used': 'CVE-2019-1468'},\n",
       "  {'Attack type': 'OUT OF ASSET ATTACK', 'from': 'A1 + low', 'to': 'A3 + high', 'vulnerability used': 'CVE-2019-12749', 'Connection': 'remote_access'}],\n",
       " A14 + high: [],\n",
       " A1 + high: [{'Attack type': 'OUT OF ASSET ATTACK', 'from': 'A1 + high', 'to': 'A3 + high', 'vulnerability used': 'CVE-2019-12749', 'Connection': 'remote_access'}],\n",
       " A3 + high: [{'Attack type': 'OUT OF ASSET ATTACK', 'from': 'A3 + high', 'to': 'A7 + high', 'vulnerability used': 'CVE-2006-3486', 'Connection': 'network_access'}],\n",
       " A7 + high: [{'Attack type': 'IN ASSET ATTACK', 'from': 'A7 + high', 'to': 'A7 + low', 'vulnerability used': 'CVE-2020-13125'},\n",
       "  {'Attack type': 'OUT OF ASSET ATTACK', 'from': 'A7 + high', 'to': 'A12 + high', 'vulnerability used': 'CVE-2012-2319', 'Connection': 'network_access'},\n",
       "  {'Attack type': 'OUT OF ASSET ATTACK', 'from': 'A7 + high', 'to': 'A12 + low', 'vulnerability used': 'CVE-2019-1484', 'Connection': 'network_access'}],\n",
       " A7 + low: [{'Attack type': 'OUT OF ASSET ATTACK', 'from': 'A7 + low', 'to': 'A12 + high', 'vulnerability used': 'CVE-2012-2319', 'Connection': 'network_access'}],\n",
       " A12 + high: [{'Attack type': 'IN ASSET ATTACK', 'from': 'A12 + high', 'to': 'A12 + low', 'vulnerability used': 'CVE-2016-1409'},\n",
       "  {'Attack type': 'OUT OF ASSET ATTACK', 'from': 'A12 + high', 'to': 'A13 + high', 'vulnerability used': 'CVE-2004-1371', 'Connection': 'remote_access'},\n",
       "  {'Attack type': 'OUT OF ASSET ATTACK', 'from': 'A12 + high', 'to': 'A13 + high', 'vulnerability used': 'CVE-2006-6703', 'Connection': 'remote_access'}],\n",
       " A12 + low: [{'Attack type': 'OUT OF ASSET ATTACK', 'from': 'A12 + low', 'to': 'A13 + high', 'vulnerability used': 'CVE-2006-6703', 'Connection': 'remote_access'},\n",
       "  {'Attack type': 'IN ASSET ATTACK', 'from': 'A12 + low', 'to': 'A12 + high', 'vulnerability used': 'CVE-2019-1468'}],\n",
       " A13 + high: [{'Attack type': 'IN ASSET ATTACK', 'from': 'A13 + high', 'to': 'A13 + low', 'vulnerability used': 'CVE-2013-5065'},\n",
       "  {'Attack type': 'OUT OF ASSET ATTACK', 'from': 'A13 + high', 'to': 'A14 + low', 'vulnerability used': 'CVE-2012-2749', 'Connection': 'remote_access'},\n",
       "  {'Attack type': 'OUT OF ASSET ATTACK', 'from': 'A13 + high', 'to': 'A14 + high', 'vulnerability used': 'CVE-2019-1817', 'Connection': 'remote_access'}],\n",
       " A13 + low: [{'Attack type': 'OUT OF ASSET ATTACK', 'from': 'A13 + low', 'to': 'A14 + low', 'vulnerability used': 'CVE-2012-2749', 'Connection': 'remote_access'},\n",
       "  {'Attack type': 'OUT OF ASSET ATTACK', 'from': 'A13 + low', 'to': 'A14 + high', 'vulnerability used': 'CVE-2019-1817', 'Connection': 'remote_access'}],\n",
       " A14 + low: [{'Attack type': 'IN ASSET ATTACK', 'from': 'A14 + low', 'to': 'A14 + high', 'vulnerability used': 'CVE-2009-4030'},\n",
       "  {'Attack type': 'IN ASSET ATTACK', 'from': 'A14 + low', 'to': 'A14 + high', 'vulnerability used': 'CVE-2017-10271'}],\n",
       " {'Attack type': 'IN ASSET ATTACK', 'from': 'A1 + low', 'to': 'A1 + high', 'vulnerability used': 'CVE-2019-1468'}: [A1 + high],\n",
       " {'Attack type': 'OUT OF ASSET ATTACK', 'from': 'A1 + high', 'to': 'A3 + high', 'vulnerability used': 'CVE-2019-12749', 'Connection': 'remote_access'}: [A3 + high],\n",
       " {'Attack type': 'OUT OF ASSET ATTACK', 'from': 'A3 + high', 'to': 'A7 + high', 'vulnerability used': 'CVE-2006-3486', 'Connection': 'network_access'}: [A7 + high],\n",
       " {'Attack type': 'IN ASSET ATTACK', 'from': 'A7 + high', 'to': 'A7 + low', 'vulnerability used': 'CVE-2020-13125'}: [A7 + low],\n",
       " {'Attack type': 'OUT OF ASSET ATTACK', 'from': 'A7 + low', 'to': 'A12 + high', 'vulnerability used': 'CVE-2012-2319', 'Connection': 'network_access'}: [A12 + high],\n",
       " {'Attack type': 'IN ASSET ATTACK', 'from': 'A12 + high', 'to': 'A12 + low', 'vulnerability used': 'CVE-2016-1409'}: [A12 + low],\n",
       " {'Attack type': 'IN ASSET ATTACK', 'from': 'A12 + low', 'to': 'A12 + high', 'vulnerability used': 'CVE-2019-1468'}: [A12 + high],\n",
       " {'Attack type': 'OUT OF ASSET ATTACK', 'from': 'A12 + low', 'to': 'A13 + high', 'vulnerability used': 'CVE-2006-6703', 'Connection': 'remote_access'}: [A13 + high],\n",
       " {'Attack type': 'IN ASSET ATTACK', 'from': 'A13 + high', 'to': 'A13 + low', 'vulnerability used': 'CVE-2013-5065'}: [A13 + low],\n",
       " {'Attack type': 'OUT OF ASSET ATTACK', 'from': 'A13 + low', 'to': 'A14 + low', 'vulnerability used': 'CVE-2012-2749', 'Connection': 'remote_access'}: [A14 + low],\n",
       " {'Attack type': 'IN ASSET ATTACK', 'from': 'A14 + low', 'to': 'A14 + high', 'vulnerability used': 'CVE-2009-4030'}: [A14 + high],\n",
       " {'Attack type': 'IN ASSET ATTACK', 'from': 'A14 + low', 'to': 'A14 + high', 'vulnerability used': 'CVE-2017-10271'}: [A14 + high],\n",
       " {'Attack type': 'OUT OF ASSET ATTACK', 'from': 'A13 + low', 'to': 'A14 + high', 'vulnerability used': 'CVE-2019-1817', 'Connection': 'remote_access'}: [A14 + high],\n",
       " {'Attack type': 'OUT OF ASSET ATTACK', 'from': 'A13 + high', 'to': 'A14 + low', 'vulnerability used': 'CVE-2012-2749', 'Connection': 'remote_access'}: [A14 + low],\n",
       " {'Attack type': 'OUT OF ASSET ATTACK', 'from': 'A13 + high', 'to': 'A14 + high', 'vulnerability used': 'CVE-2019-1817', 'Connection': 'remote_access'}: [A14 + high],\n",
       " {'Attack type': 'OUT OF ASSET ATTACK', 'from': 'A12 + high', 'to': 'A13 + high', 'vulnerability used': 'CVE-2004-1371', 'Connection': 'remote_access'}: [A13 + high],\n",
       " {'Attack type': 'OUT OF ASSET ATTACK', 'from': 'A12 + high', 'to': 'A13 + high', 'vulnerability used': 'CVE-2006-6703', 'Connection': 'remote_access'}: [A13 + high],\n",
       " {'Attack type': 'OUT OF ASSET ATTACK', 'from': 'A7 + high', 'to': 'A12 + high', 'vulnerability used': 'CVE-2012-2319', 'Connection': 'network_access'}: [A12 + high],\n",
       " {'Attack type': 'OUT OF ASSET ATTACK', 'from': 'A7 + high', 'to': 'A12 + low', 'vulnerability used': 'CVE-2019-1484', 'Connection': 'network_access'}: [A12 + low],\n",
       " {'Attack type': 'OUT OF ASSET ATTACK', 'from': 'A1 + low', 'to': 'A3 + high', 'vulnerability used': 'CVE-2019-12749', 'Connection': 'remote_access'}: [A3 + high]}"
      ]
     },
     "execution_count": 3,
     "metadata": {},
     "output_type": "execute_result"
    }
   ],
   "source": [
    "x.adjacency_dictionary"
   ]
  },
  {
   "cell_type": "code",
   "execution_count": 5,
   "metadata": {},
   "outputs": [
    {
     "name": "stdout",
     "output_type": "stream",
     "text": [
      "Shortest path =  A1 + low {'Attack type': 'OUT OF ASSET ATTACK', 'from': 'A1 + low', 'to': 'A3 + high', 'vulnerability used': 'CVE-2019-12749', 'Connection': 'remote_access'} A3 + high {'Attack type': 'OUT OF ASSET ATTACK', 'from': 'A3 + high', 'to': 'A7 + high', 'vulnerability used': 'CVE-2006-3486', 'Connection': 'network_access'} A7 + high {'Attack type': 'OUT OF ASSET ATTACK', 'from': 'A7 + high', 'to': 'A12 + high', 'vulnerability used': 'CVE-2012-2319', 'Connection': 'network_access'} A12 + high {'Attack type': 'OUT OF ASSET ATTACK', 'from': 'A12 + high', 'to': 'A13 + high', 'vulnerability used': 'CVE-2004-1371', 'Connection': 'remote_access'} A13 + high {'Attack type': 'OUT OF ASSET ATTACK', 'from': 'A13 + high', 'to': 'A14 + high', 'vulnerability used': 'CVE-2019-1817', 'Connection': 'remote_access'} A14 + high\n"
     ]
    }
   ],
   "source": [
    "from shortest_path_finding import BFS_SP\n",
    "\n",
    "starting_node = x.node.create_asset_node('A1','low')\n",
    "ending_node = x.node.create_asset_node('A14','high')\n",
    "\n",
    "variable = BFS_SP(x.adjacency_dictionary,starting_node,ending_node)"
   ]
  },
  {
   "cell_type": "code",
   "execution_count": 8,
   "metadata": {},
   "outputs": [
    {
     "data": {
      "text/plain": [
       "([A1 + low,\n",
       "  {'Attack type': 'OUT OF ASSET ATTACK', 'from': 'A1 + low', 'to': 'A3 + high', 'vulnerability used': 'CVE-2019-12749', 'Connection': 'remote_access'},\n",
       "  A3 + high,\n",
       "  {'Attack type': 'OUT OF ASSET ATTACK', 'from': 'A3 + high', 'to': 'A7 + high', 'vulnerability used': 'CVE-2006-3486', 'Connection': 'network_access'},\n",
       "  A7 + high,\n",
       "  {'Attack type': 'OUT OF ASSET ATTACK', 'from': 'A7 + high', 'to': 'A12 + high', 'vulnerability used': 'CVE-2012-2319', 'Connection': 'network_access'},\n",
       "  A12 + high,\n",
       "  {'Attack type': 'OUT OF ASSET ATTACK', 'from': 'A12 + high', 'to': 'A13 + high', 'vulnerability used': 'CVE-2004-1371', 'Connection': 'remote_access'},\n",
       "  A13 + high,\n",
       "  {'Attack type': 'OUT OF ASSET ATTACK', 'from': 'A13 + high', 'to': 'A14 + high', 'vulnerability used': 'CVE-2019-1817', 'Connection': 'remote_access'},\n",
       "  A14 + high],\n",
       " [{'data': {'id': 'A1.low',\n",
       "    'name': 'A1.low',\n",
       "    'description': 'Node ID = A1Node_type = Windows 7Node Importance Score in the Network = 3Node distance from start = 1',\n",
       "    'table_data': {'Asset Type': 'Windows 7', 'Access Level': 'low'}},\n",
       "   'css': {'shape': 'circle', 'background-color': 'yellow'}},\n",
       "  {'data': {'id': 'A14.high',\n",
       "    'name': 'A14.high',\n",
       "    'description': 'Node ID = A14Node_type = MySQL 5.3Node Importance Score in the Network = 9Node distance from start = 11',\n",
       "    'table_data': {'Asset Type': 'MySQL 5.3', 'Access Level': 'high'}},\n",
       "   'css': {'shape': 'circle', 'background-color': 'yellow'}},\n",
       "  {'data': {'id': 'A1.high',\n",
       "    'name': 'A1.high',\n",
       "    'description': 'Node ID = A1Node_type = Windows 7Node Importance Score in the Network = 3Node distance from start = 3',\n",
       "    'table_data': {'Asset Type': 'Windows 7', 'Access Level': 'high'}},\n",
       "   'css': {'shape': 'circle', 'background-color': 'yellow'}},\n",
       "  {'data': {'id': 'A3.high',\n",
       "    'name': 'A3.high',\n",
       "    'description': 'Node ID = A3Node_type = Ubuntu 14Node Importance Score in the Network = 7Node distance from start = 3',\n",
       "    'table_data': {'Asset Type': 'Ubuntu 14', 'Access Level': 'high'}},\n",
       "   'css': {'shape': 'circle', 'background-color': 'yellow'}},\n",
       "  {'data': {'id': 'A7.high',\n",
       "    'name': 'A7.high',\n",
       "    'description': 'Node ID = A7Node_type = MySQL 5.3Node Importance Score in the Network = 9Node distance from start = 5',\n",
       "    'table_data': {'Asset Type': 'MySQL 5.3', 'Access Level': 'high'}},\n",
       "   'css': {'shape': 'circle', 'background-color': 'yellow'}},\n",
       "  {'data': {'id': 'A7.low',\n",
       "    'name': 'A7.low',\n",
       "    'description': 'Node ID = A7Node_type = MySQL 5.3Node Importance Score in the Network = 9Node distance from start = 7',\n",
       "    'table_data': {'Asset Type': 'MySQL 5.3', 'Access Level': 'low'}},\n",
       "   'css': {'shape': 'circle', 'background-color': 'yellow'}},\n",
       "  {'data': {'id': 'A12.high',\n",
       "    'name': 'A12.high',\n",
       "    'description': 'Node ID = A12Node_type = Windows 7Node Importance Score in the Network = 7Node distance from start = 7',\n",
       "    'table_data': {'Asset Type': 'Windows 7', 'Access Level': 'high'}},\n",
       "   'css': {'shape': 'circle', 'background-color': 'yellow'}},\n",
       "  {'data': {'id': 'A12.low',\n",
       "    'name': 'A12.low',\n",
       "    'description': 'Node ID = A12Node_type = Windows 7Node Importance Score in the Network = 7Node distance from start = 7',\n",
       "    'table_data': {'Asset Type': 'Windows 7', 'Access Level': 'low'}},\n",
       "   'css': {'shape': 'circle', 'background-color': 'yellow'}},\n",
       "  {'data': {'id': 'A13.high',\n",
       "    'name': 'A13.high',\n",
       "    'description': 'Node ID = A13Node_type = Oracle 10gNode Importance Score in the Network = 1Node distance from start = 9',\n",
       "    'table_data': {'Asset Type': 'Oracle 10g', 'Access Level': 'high'}},\n",
       "   'css': {'shape': 'circle', 'background-color': 'yellow'}},\n",
       "  {'data': {'id': 'A13.low',\n",
       "    'name': 'A13.low',\n",
       "    'description': 'Node ID = A13Node_type = Oracle 10gNode Importance Score in the Network = 1Node distance from start = 11',\n",
       "    'table_data': {'Asset Type': 'Oracle 10g', 'Access Level': 'low'}},\n",
       "   'css': {'shape': 'circle', 'background-color': 'yellow'}},\n",
       "  {'data': {'id': 'A14.low',\n",
       "    'name': 'A14.low',\n",
       "    'description': 'Node ID = A14Node_type = MySQL 5.3Node Importance Score in the Network = 9Node distance from start = 11',\n",
       "    'table_data': {'Asset Type': 'MySQL 5.3', 'Access Level': 'low'}},\n",
       "   'css': {'shape': 'circle', 'background-color': 'yellow'}},\n",
       "  {'data': {'id': 'A1.low.A1.high.CVE-2019-1468',\n",
       "    'name': 'CVE-2019-1468',\n",
       "    'description': 'From asset = A1 <br>TO asset = A1 <br>Node distance from start = 2 <br>Node Distance to Goal = 12<br>Node vulnerability score = 3.9<br>Node Ciricality score = 0.75<br>Node impact score = 0.375',\n",
       "    'table_data': {'CVE ID': 'CVE-2019-1468',\n",
       "     'CVSS Score': 3.9,\n",
       "     'Mitre Attack ID': 'T1068',\n",
       "     'Mitre Defend ID': 'D3-EAL'}},\n",
       "   'css': {'shape': 'rectangle', 'background-color': '#87CEEB'}},\n",
       "  {'data': {'id': 'A1.high.A3.high.CVE-2019-12749',\n",
       "    'name': 'CVE-2019-12749',\n",
       "    'description': 'From asset = A1 <br>TO asset = A3 <br>Node distance from start = 4 <br>Node Distance to Goal = 10<br>Node vulnerability score = 4.7<br>Node Ciricality score = 0.9<br>Node impact score = 0.225',\n",
       "    'table_data': {'CVE ID': 'CVE-2019-12749',\n",
       "     'CVSS Score': 4.7,\n",
       "     'Mitre Attack ID': 'T1021',\n",
       "     'Mitre Defend ID': 'D3-MFA'}},\n",
       "   'css': {'shape': 'rectangle', 'background-color': '#87CEEB'}},\n",
       "  {'data': {'id': 'A3.high.A7.high.CVE-2006-3486',\n",
       "    'name': 'CVE-2006-3486',\n",
       "    'description': 'From asset = A3 <br>TO asset = A7 <br>Node distance from start = 4 <br>Node Distance to Goal = 8<br>Node vulnerability score = 9.5<br>Node Ciricality score = 1.125<br>Node impact score = 0.28125',\n",
       "    'table_data': {'CVE ID': 'CVE-2006-3486',\n",
       "     'CVSS Score': 9.5,\n",
       "     'Mitre Attack ID': 'T1203',\n",
       "     'Mitre Defend ID': 'D3-ITF'}},\n",
       "   'css': {'shape': 'rectangle', 'background-color': '#FF0000'}},\n",
       "  {'data': {'id': 'A7.high.A7.low.CVE-2020-13125',\n",
       "    'name': 'CVE-2020-13125',\n",
       "    'description': 'From asset = A7 <br>TO asset = A7 <br>Node distance from start = 6 <br>Node Distance to Goal = 8<br>Node vulnerability score = 8.5<br>Node Ciricality score = 1.125<br>Node impact score = 0.1875',\n",
       "    'table_data': {'CVE ID': 'CVE-2020-13125',\n",
       "     'CVSS Score': 8.5,\n",
       "     'Mitre Attack ID': 'T1021',\n",
       "     'Mitre Defend ID': 'D3-MFA'}},\n",
       "   'css': {'shape': 'rectangle', 'background-color': '#87CEEB'}},\n",
       "  {'data': {'id': 'A7.low.A12.high.CVE-2012-2319',\n",
       "    'name': 'CVE-2012-2319',\n",
       "    'description': 'From asset = A7 <br>TO asset = A12 <br>Node distance from start = 8 <br>Node Distance to Goal = 6<br>Node vulnerability score = 6.6<br>Node Ciricality score = 1.5<br>Node impact score = 0.1875',\n",
       "    'table_data': {'CVE ID': 'CVE-2012-2319',\n",
       "     'CVSS Score': 6.6,\n",
       "     'Mitre Attack ID': 'T1498',\n",
       "     'Mitre Defend ID': 'D3-NI'}},\n",
       "   'css': {'shape': 'rectangle', 'background-color': '#FF5733'}},\n",
       "  {'data': {'id': 'A12.high.A12.low.CVE-2016-1409',\n",
       "    'name': 'CVE-2016-1409',\n",
       "    'description': 'From asset = A12 <br>TO asset = A12 <br>Node distance from start = 8 <br>Node Distance to Goal = 6<br>Node vulnerability score = 1.6<br>Node Ciricality score = 1.5<br>Node impact score = 0.1875',\n",
       "    'table_data': {'CVE ID': 'CVE-2016-1409',\n",
       "     'CVSS Score': 1.6,\n",
       "     'Mitre Attack ID': 'T1203',\n",
       "     'Mitre Defend ID': 'D3-ITF'}},\n",
       "   'css': {'shape': 'rectangle', 'background-color': '#87CEEB'}},\n",
       "  {'data': {'id': 'A12.low.A12.high.CVE-2019-1468',\n",
       "    'name': 'CVE-2019-1468',\n",
       "    'description': 'From asset = A12 <br>TO asset = A12 <br>Node distance from start = 8 <br>Node Distance to Goal = 6<br>Node vulnerability score = 3.9<br>Node Ciricality score = 1.5<br>Node impact score = 0.1875',\n",
       "    'table_data': {'CVE ID': 'CVE-2019-1468',\n",
       "     'CVSS Score': 3.9,\n",
       "     'Mitre Attack ID': 'T1068',\n",
       "     'Mitre Defend ID': 'D3-EAL'}},\n",
       "   'css': {'shape': 'rectangle', 'background-color': '#87CEEB'}},\n",
       "  {'data': {'id': 'A12.low.A13.high.CVE-2006-6703',\n",
       "    'name': 'CVE-2006-6703',\n",
       "    'description': 'From asset = A12 <br>TO asset = A13 <br>Node distance from start = 8 <br>Node Distance to Goal = 4<br>Node vulnerability score = 1.2<br>Node Ciricality score = 2.25<br>Node impact score = 0.28125',\n",
       "    'table_data': {'CVE ID': 'CVE-2006-6703',\n",
       "     'CVSS Score': 1.2,\n",
       "     'Mitre Attack ID': 'T1021',\n",
       "     'Mitre Defend ID': 'D3-MFA'}},\n",
       "   'css': {'shape': 'rectangle', 'background-color': '#87CEEB'}},\n",
       "  {'data': {'id': 'A13.high.A13.low.CVE-2013-5065',\n",
       "    'name': 'CVE-2013-5065',\n",
       "    'description': 'From asset = A13 <br>TO asset = A13 <br>Node distance from start = 10 <br>Node Distance to Goal = 4<br>Node vulnerability score = 1.5<br>Node Ciricality score = 2.25<br>Node impact score = 0.225',\n",
       "    'table_data': {'CVE ID': 'CVE-2013-5065',\n",
       "     'CVSS Score': 1.5,\n",
       "     'Mitre Attack ID': 'T1189',\n",
       "     'Mitre Defend ID': 'D3-SCF'}},\n",
       "   'css': {'shape': 'rectangle', 'background-color': '#87CEEB'}},\n",
       "  {'data': {'id': 'A13.low.A14.low.CVE-2012-2749',\n",
       "    'name': 'CVE-2012-2749',\n",
       "    'description': 'From asset = A13 <br>TO asset = A14 <br>Node distance from start = 12 <br>Node Distance to Goal = 4<br>Node vulnerability score = 5.6<br>Node Ciricality score = 2.25<br>Node impact score = 0.1875',\n",
       "    'table_data': {'CVE ID': 'CVE-2012-2749',\n",
       "     'CVSS Score': 5.6,\n",
       "     'Mitre Attack ID': 'T1499',\n",
       "     'Mitre Defend ID': 'D3-NI'}},\n",
       "   'css': {'shape': 'rectangle', 'background-color': '#87CEEB'}},\n",
       "  {'data': {'id': 'A14.low.A14.high.CVE-2009-4030',\n",
       "    'name': 'CVE-2009-4030',\n",
       "    'description': 'From asset = A14 <br>TO asset = A14 <br>Node distance from start = 12 <br>Node Distance to Goal = 2<br>Node vulnerability score = 1.6<br>Node Ciricality score = 4.5<br>Node impact score = 0.375',\n",
       "    'table_data': {'CVE ID': 'CVE-2009-4030',\n",
       "     'CVSS Score': 1.6,\n",
       "     'Mitre Attack ID': 'T1203',\n",
       "     'Mitre Defend ID': 'D3-ITF'}},\n",
       "   'css': {'shape': 'rectangle', 'background-color': '#87CEEB'}},\n",
       "  {'data': {'id': 'A14.low.A14.high.CVE-2017-10271',\n",
       "    'name': 'CVE-2017-10271',\n",
       "    'description': 'From asset = A14 <br>TO asset = A14 <br>Node distance from start = 12 <br>Node Distance to Goal = 2<br>Node vulnerability score = 9.9<br>Node Ciricality score = 4.5<br>Node impact score = 0.375',\n",
       "    'table_data': {'CVE ID': 'CVE-2017-10271',\n",
       "     'CVSS Score': 9.9,\n",
       "     'Mitre Attack ID': 'T1021',\n",
       "     'Mitre Defend ID': 'D3-MFA'}},\n",
       "   'css': {'shape': 'rectangle', 'background-color': '#87CEEB'}},\n",
       "  {'data': {'id': 'A13.low.A14.high.CVE-2019-1817',\n",
       "    'name': 'CVE-2019-1817',\n",
       "    'description': 'From asset = A13 <br>TO asset = A14 <br>Node distance from start = 12 <br>Node Distance to Goal = 2<br>Node vulnerability score = 1.7<br>Node Ciricality score = 4.5<br>Node impact score = 0.375',\n",
       "    'table_data': {'CVE ID': 'CVE-2019-1817',\n",
       "     'CVSS Score': 1.7,\n",
       "     'Mitre Attack ID': 'T1021',\n",
       "     'Mitre Defend ID': 'D3-MFA'}},\n",
       "   'css': {'shape': 'rectangle', 'background-color': '#87CEEB'}},\n",
       "  {'data': {'id': 'A13.high.A14.low.CVE-2012-2749',\n",
       "    'name': 'CVE-2012-2749',\n",
       "    'description': 'From asset = A13 <br>TO asset = A14 <br>Node distance from start = 10 <br>Node Distance to Goal = 4<br>Node vulnerability score = 5.6<br>Node Ciricality score = 2.25<br>Node impact score = 0.225',\n",
       "    'table_data': {'CVE ID': 'CVE-2012-2749',\n",
       "     'CVSS Score': 5.6,\n",
       "     'Mitre Attack ID': 'T1499',\n",
       "     'Mitre Defend ID': 'D3-NI'}},\n",
       "   'css': {'shape': 'rectangle', 'background-color': '#87CEEB'}},\n",
       "  {'data': {'id': 'A13.high.A14.high.CVE-2019-1817',\n",
       "    'name': 'CVE-2019-1817',\n",
       "    'description': 'From asset = A13 <br>TO asset = A14 <br>Node distance from start = 10 <br>Node Distance to Goal = 2<br>Node vulnerability score = 1.7<br>Node Ciricality score = 4.5<br>Node impact score = 0.45',\n",
       "    'table_data': {'CVE ID': 'CVE-2019-1817',\n",
       "     'CVSS Score': 1.7,\n",
       "     'Mitre Attack ID': 'T1021',\n",
       "     'Mitre Defend ID': 'D3-MFA'}},\n",
       "   'css': {'shape': 'rectangle', 'background-color': '#87CEEB'}},\n",
       "  {'data': {'id': 'A12.high.A13.high.CVE-2004-1371',\n",
       "    'name': 'CVE-2004-1371',\n",
       "    'description': 'From asset = A12 <br>TO asset = A13 <br>Node distance from start = 8 <br>Node Distance to Goal = 4<br>Node vulnerability score = 0.8<br>Node Ciricality score = 2.25<br>Node impact score = 0.28125',\n",
       "    'table_data': {'CVE ID': 'CVE-2004-1371',\n",
       "     'CVSS Score': 0.8,\n",
       "     'Mitre Attack ID': 'T1189',\n",
       "     'Mitre Defend ID': 'D3-SCF'}},\n",
       "   'css': {'shape': 'rectangle', 'background-color': '#87CEEB'}},\n",
       "  {'data': {'id': 'A12.high.A13.high.CVE-2006-6703',\n",
       "    'name': 'CVE-2006-6703',\n",
       "    'description': 'From asset = A12 <br>TO asset = A13 <br>Node distance from start = 8 <br>Node Distance to Goal = 4<br>Node vulnerability score = 1.2<br>Node Ciricality score = 2.25<br>Node impact score = 0.28125',\n",
       "    'table_data': {'CVE ID': 'CVE-2006-6703',\n",
       "     'CVSS Score': 1.2,\n",
       "     'Mitre Attack ID': 'T1021',\n",
       "     'Mitre Defend ID': 'D3-MFA'}},\n",
       "   'css': {'shape': 'rectangle', 'background-color': '#87CEEB'}},\n",
       "  {'data': {'id': 'A7.high.A12.high.CVE-2012-2319',\n",
       "    'name': 'CVE-2012-2319',\n",
       "    'description': 'From asset = A7 <br>TO asset = A12 <br>Node distance from start = 6 <br>Node Distance to Goal = 6<br>Node vulnerability score = 6.6<br>Node Ciricality score = 1.5<br>Node impact score = 0.25',\n",
       "    'table_data': {'CVE ID': 'CVE-2012-2319',\n",
       "     'CVSS Score': 6.6,\n",
       "     'Mitre Attack ID': 'T1498',\n",
       "     'Mitre Defend ID': 'D3-NI'}},\n",
       "   'css': {'shape': 'rectangle', 'background-color': '#FFA07A'}},\n",
       "  {'data': {'id': 'A7.high.A12.low.CVE-2019-1484',\n",
       "    'name': 'CVE-2019-1484',\n",
       "    'description': 'From asset = A7 <br>TO asset = A12 <br>Node distance from start = 6 <br>Node Distance to Goal = 6<br>Node vulnerability score = 5.1<br>Node Ciricality score = 1.5<br>Node impact score = 0.25',\n",
       "    'table_data': {'CVE ID': 'CVE-2019-1484',\n",
       "     'CVSS Score': 5.1,\n",
       "     'Mitre Attack ID': 'T1203',\n",
       "     'Mitre Defend ID': 'D3-ITF'}},\n",
       "   'css': {'shape': 'rectangle', 'background-color': '#87CEEB'}},\n",
       "  {'data': {'id': 'A1.low.A3.high.CVE-2019-12749',\n",
       "    'name': 'CVE-2019-12749',\n",
       "    'description': 'From asset = A1 <br>TO asset = A3 <br>Node distance from start = 2 <br>Node Distance to Goal = 10<br>Node vulnerability score = 4.7<br>Node Ciricality score = 0.9<br>Node impact score = 0.45',\n",
       "    'table_data': {'CVE ID': 'CVE-2019-12749',\n",
       "     'CVSS Score': 4.7,\n",
       "     'Mitre Attack ID': 'T1021',\n",
       "     'Mitre Defend ID': 'D3-MFA'}},\n",
       "   'css': {'shape': 'rectangle', 'background-color': '#87CEEB'}},\n",
       "  {'data': {'id': 'X0',\n",
       "    'source': 'A1.low',\n",
       "    'target': 'A1.low.A1.high.CVE-2019-1468',\n",
       "    'directed': 'true'}},\n",
       "  {'data': {'id': 'X1',\n",
       "    'source': 'A1.low',\n",
       "    'target': 'A1.low.A3.high.CVE-2019-12749',\n",
       "    'directed': 'true'}},\n",
       "  {'data': {'id': 'X2',\n",
       "    'source': 'A1.high',\n",
       "    'target': 'A1.high.A3.high.CVE-2019-12749',\n",
       "    'directed': 'true'}},\n",
       "  {'data': {'id': 'X3',\n",
       "    'source': 'A3.high',\n",
       "    'target': 'A3.high.A7.high.CVE-2006-3486',\n",
       "    'directed': 'true'}},\n",
       "  {'data': {'id': 'X4',\n",
       "    'source': 'A7.high',\n",
       "    'target': 'A7.high.A7.low.CVE-2020-13125',\n",
       "    'directed': 'true'}},\n",
       "  {'data': {'id': 'X5',\n",
       "    'source': 'A7.high',\n",
       "    'target': 'A7.high.A12.high.CVE-2012-2319',\n",
       "    'directed': 'true'}},\n",
       "  {'data': {'id': 'X6',\n",
       "    'source': 'A7.high',\n",
       "    'target': 'A7.high.A12.low.CVE-2019-1484',\n",
       "    'directed': 'true'}},\n",
       "  {'data': {'id': 'X7',\n",
       "    'source': 'A7.low',\n",
       "    'target': 'A7.low.A12.high.CVE-2012-2319',\n",
       "    'directed': 'true'}},\n",
       "  {'data': {'id': 'X8',\n",
       "    'source': 'A12.high',\n",
       "    'target': 'A12.high.A12.low.CVE-2016-1409',\n",
       "    'directed': 'true'}},\n",
       "  {'data': {'id': 'X9',\n",
       "    'source': 'A12.high',\n",
       "    'target': 'A12.high.A13.high.CVE-2004-1371',\n",
       "    'directed': 'true'}},\n",
       "  {'data': {'id': 'X10',\n",
       "    'source': 'A12.high',\n",
       "    'target': 'A12.high.A13.high.CVE-2006-6703',\n",
       "    'directed': 'true'}},\n",
       "  {'data': {'id': 'X11',\n",
       "    'source': 'A12.low',\n",
       "    'target': 'A12.low.A13.high.CVE-2006-6703',\n",
       "    'directed': 'true'}},\n",
       "  {'data': {'id': 'X12',\n",
       "    'source': 'A12.low',\n",
       "    'target': 'A12.low.A12.high.CVE-2019-1468',\n",
       "    'directed': 'true'}},\n",
       "  {'data': {'id': 'X13',\n",
       "    'source': 'A13.high',\n",
       "    'target': 'A13.high.A13.low.CVE-2013-5065',\n",
       "    'directed': 'true'}},\n",
       "  {'data': {'id': 'X14',\n",
       "    'source': 'A13.high',\n",
       "    'target': 'A13.high.A14.low.CVE-2012-2749',\n",
       "    'directed': 'true'}},\n",
       "  {'data': {'id': 'X15',\n",
       "    'source': 'A13.high',\n",
       "    'target': 'A13.high.A14.high.CVE-2019-1817',\n",
       "    'directed': 'true'}},\n",
       "  {'data': {'id': 'X16',\n",
       "    'source': 'A13.low',\n",
       "    'target': 'A13.low.A14.low.CVE-2012-2749',\n",
       "    'directed': 'true'}},\n",
       "  {'data': {'id': 'X17',\n",
       "    'source': 'A13.low',\n",
       "    'target': 'A13.low.A14.high.CVE-2019-1817',\n",
       "    'directed': 'true'}},\n",
       "  {'data': {'id': 'X18',\n",
       "    'source': 'A14.low',\n",
       "    'target': 'A14.low.A14.high.CVE-2009-4030',\n",
       "    'directed': 'true'}},\n",
       "  {'data': {'id': 'X19',\n",
       "    'source': 'A14.low',\n",
       "    'target': 'A14.low.A14.high.CVE-2017-10271',\n",
       "    'directed': 'true'}},\n",
       "  {'data': {'id': 'X20',\n",
       "    'source': 'A1.low.A1.high.CVE-2019-1468',\n",
       "    'target': 'A1.high',\n",
       "    'directed': 'true'}},\n",
       "  {'data': {'id': 'X21',\n",
       "    'source': 'A1.high.A3.high.CVE-2019-12749',\n",
       "    'target': 'A3.high',\n",
       "    'directed': 'true'}},\n",
       "  {'data': {'id': 'X22',\n",
       "    'source': 'A3.high.A7.high.CVE-2006-3486',\n",
       "    'target': 'A7.high',\n",
       "    'directed': 'true'}},\n",
       "  {'data': {'id': 'X23',\n",
       "    'source': 'A7.high.A7.low.CVE-2020-13125',\n",
       "    'target': 'A7.low',\n",
       "    'directed': 'true'}},\n",
       "  {'data': {'id': 'X24',\n",
       "    'source': 'A7.low.A12.high.CVE-2012-2319',\n",
       "    'target': 'A12.high',\n",
       "    'directed': 'true'}},\n",
       "  {'data': {'id': 'X25',\n",
       "    'source': 'A12.high.A12.low.CVE-2016-1409',\n",
       "    'target': 'A12.low',\n",
       "    'directed': 'true'}},\n",
       "  {'data': {'id': 'X26',\n",
       "    'source': 'A12.low.A12.high.CVE-2019-1468',\n",
       "    'target': 'A12.high',\n",
       "    'directed': 'true'}},\n",
       "  {'data': {'id': 'X27',\n",
       "    'source': 'A12.low.A13.high.CVE-2006-6703',\n",
       "    'target': 'A13.high',\n",
       "    'directed': 'true'}},\n",
       "  {'data': {'id': 'X28',\n",
       "    'source': 'A13.high.A13.low.CVE-2013-5065',\n",
       "    'target': 'A13.low',\n",
       "    'directed': 'true'}},\n",
       "  {'data': {'id': 'X29',\n",
       "    'source': 'A13.low.A14.low.CVE-2012-2749',\n",
       "    'target': 'A14.low',\n",
       "    'directed': 'true'}},\n",
       "  {'data': {'id': 'X30',\n",
       "    'source': 'A14.low.A14.high.CVE-2009-4030',\n",
       "    'target': 'A14.high',\n",
       "    'directed': 'true'}},\n",
       "  {'data': {'id': 'X31',\n",
       "    'source': 'A14.low.A14.high.CVE-2017-10271',\n",
       "    'target': 'A14.high',\n",
       "    'directed': 'true'}},\n",
       "  {'data': {'id': 'X32',\n",
       "    'source': 'A13.low.A14.high.CVE-2019-1817',\n",
       "    'target': 'A14.high',\n",
       "    'directed': 'true'}},\n",
       "  {'data': {'id': 'X33',\n",
       "    'source': 'A13.high.A14.low.CVE-2012-2749',\n",
       "    'target': 'A14.low',\n",
       "    'directed': 'true'}},\n",
       "  {'data': {'id': 'X34',\n",
       "    'source': 'A13.high.A14.high.CVE-2019-1817',\n",
       "    'target': 'A14.high',\n",
       "    'directed': 'true'}},\n",
       "  {'data': {'id': 'X35',\n",
       "    'source': 'A12.high.A13.high.CVE-2004-1371',\n",
       "    'target': 'A13.high',\n",
       "    'directed': 'true'}},\n",
       "  {'data': {'id': 'X36',\n",
       "    'source': 'A12.high.A13.high.CVE-2006-6703',\n",
       "    'target': 'A13.high',\n",
       "    'directed': 'true'}},\n",
       "  {'data': {'id': 'X37',\n",
       "    'source': 'A7.high.A12.high.CVE-2012-2319',\n",
       "    'target': 'A12.high',\n",
       "    'directed': 'true'}},\n",
       "  {'data': {'id': 'X38',\n",
       "    'source': 'A7.high.A12.low.CVE-2019-1484',\n",
       "    'target': 'A12.low',\n",
       "    'directed': 'true'}},\n",
       "  {'data': {'id': 'X39',\n",
       "    'source': 'A1.low.A3.high.CVE-2019-12749',\n",
       "    'target': 'A3.high',\n",
       "    'directed': 'true'}}])"
      ]
     },
     "execution_count": 8,
     "metadata": {},
     "output_type": "execute_result"
    }
   ],
   "source": [
    "variable,json_return"
   ]
  },
  {
   "cell_type": "code",
   "execution_count": 12,
   "metadata": {},
   "outputs": [
    {
     "data": {
      "text/plain": [
       "[{'data': {'id': 'A1.low',\n",
       "   'name': 'A1.low',\n",
       "   'description': 'Node ID = A1Node_type = Windows 7Node Importance Score in the Network = 3Node distance from start = 1',\n",
       "   'table_data': {'Asset Type': 'Windows 7', 'Access Level': 'low'}},\n",
       "  'css': {'shape': 'circle', 'background-color': 'yellow'}},\n",
       " {'data': {'id': 'A14.high',\n",
       "   'name': 'A14.high',\n",
       "   'description': 'Node ID = A14Node_type = MySQL 5.3Node Importance Score in the Network = 9Node distance from start = 11',\n",
       "   'table_data': {'Asset Type': 'MySQL 5.3', 'Access Level': 'high'}},\n",
       "  'css': {'shape': 'circle', 'background-color': 'yellow'}},\n",
       " {'data': {'id': 'A1.high',\n",
       "   'name': 'A1.high',\n",
       "   'description': 'Node ID = A1Node_type = Windows 7Node Importance Score in the Network = 3Node distance from start = 3',\n",
       "   'table_data': {'Asset Type': 'Windows 7', 'Access Level': 'high'}},\n",
       "  'css': {'shape': 'circle', 'background-color': 'yellow'}},\n",
       " {'data': {'id': 'A3.high',\n",
       "   'name': 'A3.high',\n",
       "   'description': 'Node ID = A3Node_type = Ubuntu 14Node Importance Score in the Network = 7Node distance from start = 3',\n",
       "   'table_data': {'Asset Type': 'Ubuntu 14', 'Access Level': 'high'}},\n",
       "  'css': {'shape': 'circle', 'background-color': 'yellow'}},\n",
       " {'data': {'id': 'A7.high',\n",
       "   'name': 'A7.high',\n",
       "   'description': 'Node ID = A7Node_type = MySQL 5.3Node Importance Score in the Network = 9Node distance from start = 5',\n",
       "   'table_data': {'Asset Type': 'MySQL 5.3', 'Access Level': 'high'}},\n",
       "  'css': {'shape': 'circle', 'background-color': 'yellow'}},\n",
       " {'data': {'id': 'A7.low',\n",
       "   'name': 'A7.low',\n",
       "   'description': 'Node ID = A7Node_type = MySQL 5.3Node Importance Score in the Network = 9Node distance from start = 7',\n",
       "   'table_data': {'Asset Type': 'MySQL 5.3', 'Access Level': 'low'}},\n",
       "  'css': {'shape': 'circle', 'background-color': 'yellow'}},\n",
       " {'data': {'id': 'A12.high',\n",
       "   'name': 'A12.high',\n",
       "   'description': 'Node ID = A12Node_type = Windows 7Node Importance Score in the Network = 7Node distance from start = 7',\n",
       "   'table_data': {'Asset Type': 'Windows 7', 'Access Level': 'high'}},\n",
       "  'css': {'shape': 'circle', 'background-color': 'yellow'}},\n",
       " {'data': {'id': 'A12.low',\n",
       "   'name': 'A12.low',\n",
       "   'description': 'Node ID = A12Node_type = Windows 7Node Importance Score in the Network = 7Node distance from start = 7',\n",
       "   'table_data': {'Asset Type': 'Windows 7', 'Access Level': 'low'}},\n",
       "  'css': {'shape': 'circle', 'background-color': 'yellow'}},\n",
       " {'data': {'id': 'A13.high',\n",
       "   'name': 'A13.high',\n",
       "   'description': 'Node ID = A13Node_type = Oracle 10gNode Importance Score in the Network = 1Node distance from start = 9',\n",
       "   'table_data': {'Asset Type': 'Oracle 10g', 'Access Level': 'high'}},\n",
       "  'css': {'shape': 'circle', 'background-color': 'yellow'}},\n",
       " {'data': {'id': 'A13.low',\n",
       "   'name': 'A13.low',\n",
       "   'description': 'Node ID = A13Node_type = Oracle 10gNode Importance Score in the Network = 1Node distance from start = 11',\n",
       "   'table_data': {'Asset Type': 'Oracle 10g', 'Access Level': 'low'}},\n",
       "  'css': {'shape': 'circle', 'background-color': 'yellow'}},\n",
       " {'data': {'id': 'A14.low',\n",
       "   'name': 'A14.low',\n",
       "   'description': 'Node ID = A14Node_type = MySQL 5.3Node Importance Score in the Network = 9Node distance from start = 11',\n",
       "   'table_data': {'Asset Type': 'MySQL 5.3', 'Access Level': 'low'}},\n",
       "  'css': {'shape': 'circle', 'background-color': 'yellow'}},\n",
       " {'data': {'id': 'A1.low.A1.high.CVE-2019-1468',\n",
       "   'name': 'CVE-2019-1468',\n",
       "   'description': 'From asset = A1 <br>TO asset = A1 <br>Node distance from start = 2 <br>Node Distance to Goal = 12<br>Node vulnerability score = 3.9<br>Node Ciricality score = 0.75<br>Node impact score = 0.375',\n",
       "   'table_data': {'CVE ID': 'CVE-2019-1468',\n",
       "    'CVSS Score': 3.9,\n",
       "    'Mitre Attack ID': 'T1068',\n",
       "    'Mitre Defend ID': 'D3-EAL'}},\n",
       "  'css': {'shape': 'rectangle', 'background-color': '#87CEEB'}},\n",
       " {'data': {'id': 'A1.high.A3.high.CVE-2019-12749',\n",
       "   'name': 'CVE-2019-12749',\n",
       "   'description': 'From asset = A1 <br>TO asset = A3 <br>Node distance from start = 4 <br>Node Distance to Goal = 10<br>Node vulnerability score = 4.7<br>Node Ciricality score = 0.9<br>Node impact score = 0.225',\n",
       "   'table_data': {'CVE ID': 'CVE-2019-12749',\n",
       "    'CVSS Score': 4.7,\n",
       "    'Mitre Attack ID': 'T1021',\n",
       "    'Mitre Defend ID': 'D3-MFA'}},\n",
       "  'css': {'shape': 'rectangle', 'background-color': '#87CEEB'}},\n",
       " {'data': {'id': 'A3.high.A7.high.CVE-2006-3486',\n",
       "   'name': 'CVE-2006-3486',\n",
       "   'description': 'From asset = A3 <br>TO asset = A7 <br>Node distance from start = 4 <br>Node Distance to Goal = 8<br>Node vulnerability score = 9.5<br>Node Ciricality score = 1.125<br>Node impact score = 0.28125',\n",
       "   'table_data': {'CVE ID': 'CVE-2006-3486',\n",
       "    'CVSS Score': 9.5,\n",
       "    'Mitre Attack ID': 'T1203',\n",
       "    'Mitre Defend ID': 'D3-ITF'}},\n",
       "  'css': {'shape': 'rectangle', 'background-color': '#FF0000'}},\n",
       " {'data': {'id': 'A7.high.A7.low.CVE-2020-13125',\n",
       "   'name': 'CVE-2020-13125',\n",
       "   'description': 'From asset = A7 <br>TO asset = A7 <br>Node distance from start = 6 <br>Node Distance to Goal = 8<br>Node vulnerability score = 8.5<br>Node Ciricality score = 1.125<br>Node impact score = 0.1875',\n",
       "   'table_data': {'CVE ID': 'CVE-2020-13125',\n",
       "    'CVSS Score': 8.5,\n",
       "    'Mitre Attack ID': 'T1021',\n",
       "    'Mitre Defend ID': 'D3-MFA'}},\n",
       "  'css': {'shape': 'rectangle', 'background-color': '#87CEEB'}},\n",
       " {'data': {'id': 'A7.low.A12.high.CVE-2012-2319',\n",
       "   'name': 'CVE-2012-2319',\n",
       "   'description': 'From asset = A7 <br>TO asset = A12 <br>Node distance from start = 8 <br>Node Distance to Goal = 6<br>Node vulnerability score = 6.6<br>Node Ciricality score = 1.5<br>Node impact score = 0.1875',\n",
       "   'table_data': {'CVE ID': 'CVE-2012-2319',\n",
       "    'CVSS Score': 6.6,\n",
       "    'Mitre Attack ID': 'T1498',\n",
       "    'Mitre Defend ID': 'D3-NI'}},\n",
       "  'css': {'shape': 'rectangle', 'background-color': '#FF5733'}},\n",
       " {'data': {'id': 'A12.high.A12.low.CVE-2016-1409',\n",
       "   'name': 'CVE-2016-1409',\n",
       "   'description': 'From asset = A12 <br>TO asset = A12 <br>Node distance from start = 8 <br>Node Distance to Goal = 6<br>Node vulnerability score = 1.6<br>Node Ciricality score = 1.5<br>Node impact score = 0.1875',\n",
       "   'table_data': {'CVE ID': 'CVE-2016-1409',\n",
       "    'CVSS Score': 1.6,\n",
       "    'Mitre Attack ID': 'T1203',\n",
       "    'Mitre Defend ID': 'D3-ITF'}},\n",
       "  'css': {'shape': 'rectangle', 'background-color': '#87CEEB'}},\n",
       " {'data': {'id': 'A12.low.A12.high.CVE-2019-1468',\n",
       "   'name': 'CVE-2019-1468',\n",
       "   'description': 'From asset = A12 <br>TO asset = A12 <br>Node distance from start = 8 <br>Node Distance to Goal = 6<br>Node vulnerability score = 3.9<br>Node Ciricality score = 1.5<br>Node impact score = 0.1875',\n",
       "   'table_data': {'CVE ID': 'CVE-2019-1468',\n",
       "    'CVSS Score': 3.9,\n",
       "    'Mitre Attack ID': 'T1068',\n",
       "    'Mitre Defend ID': 'D3-EAL'}},\n",
       "  'css': {'shape': 'rectangle', 'background-color': '#87CEEB'}},\n",
       " {'data': {'id': 'A12.low.A13.high.CVE-2006-6703',\n",
       "   'name': 'CVE-2006-6703',\n",
       "   'description': 'From asset = A12 <br>TO asset = A13 <br>Node distance from start = 8 <br>Node Distance to Goal = 4<br>Node vulnerability score = 1.2<br>Node Ciricality score = 2.25<br>Node impact score = 0.28125',\n",
       "   'table_data': {'CVE ID': 'CVE-2006-6703',\n",
       "    'CVSS Score': 1.2,\n",
       "    'Mitre Attack ID': 'T1021',\n",
       "    'Mitre Defend ID': 'D3-MFA'}},\n",
       "  'css': {'shape': 'rectangle', 'background-color': '#87CEEB'}},\n",
       " {'data': {'id': 'A13.high.A13.low.CVE-2013-5065',\n",
       "   'name': 'CVE-2013-5065',\n",
       "   'description': 'From asset = A13 <br>TO asset = A13 <br>Node distance from start = 10 <br>Node Distance to Goal = 4<br>Node vulnerability score = 1.5<br>Node Ciricality score = 2.25<br>Node impact score = 0.225',\n",
       "   'table_data': {'CVE ID': 'CVE-2013-5065',\n",
       "    'CVSS Score': 1.5,\n",
       "    'Mitre Attack ID': 'T1189',\n",
       "    'Mitre Defend ID': 'D3-SCF'}},\n",
       "  'css': {'shape': 'rectangle', 'background-color': '#87CEEB'}},\n",
       " {'data': {'id': 'A13.low.A14.low.CVE-2012-2749',\n",
       "   'name': 'CVE-2012-2749',\n",
       "   'description': 'From asset = A13 <br>TO asset = A14 <br>Node distance from start = 12 <br>Node Distance to Goal = 4<br>Node vulnerability score = 5.6<br>Node Ciricality score = 2.25<br>Node impact score = 0.1875',\n",
       "   'table_data': {'CVE ID': 'CVE-2012-2749',\n",
       "    'CVSS Score': 5.6,\n",
       "    'Mitre Attack ID': 'T1499',\n",
       "    'Mitre Defend ID': 'D3-NI'}},\n",
       "  'css': {'shape': 'rectangle', 'background-color': '#87CEEB'}},\n",
       " {'data': {'id': 'A14.low.A14.high.CVE-2009-4030',\n",
       "   'name': 'CVE-2009-4030',\n",
       "   'description': 'From asset = A14 <br>TO asset = A14 <br>Node distance from start = 12 <br>Node Distance to Goal = 2<br>Node vulnerability score = 1.6<br>Node Ciricality score = 4.5<br>Node impact score = 0.375',\n",
       "   'table_data': {'CVE ID': 'CVE-2009-4030',\n",
       "    'CVSS Score': 1.6,\n",
       "    'Mitre Attack ID': 'T1203',\n",
       "    'Mitre Defend ID': 'D3-ITF'}},\n",
       "  'css': {'shape': 'rectangle', 'background-color': '#87CEEB'}},\n",
       " {'data': {'id': 'A14.low.A14.high.CVE-2017-10271',\n",
       "   'name': 'CVE-2017-10271',\n",
       "   'description': 'From asset = A14 <br>TO asset = A14 <br>Node distance from start = 12 <br>Node Distance to Goal = 2<br>Node vulnerability score = 9.9<br>Node Ciricality score = 4.5<br>Node impact score = 0.375',\n",
       "   'table_data': {'CVE ID': 'CVE-2017-10271',\n",
       "    'CVSS Score': 9.9,\n",
       "    'Mitre Attack ID': 'T1021',\n",
       "    'Mitre Defend ID': 'D3-MFA'}},\n",
       "  'css': {'shape': 'rectangle', 'background-color': '#87CEEB'}},\n",
       " {'data': {'id': 'A13.low.A14.high.CVE-2019-1817',\n",
       "   'name': 'CVE-2019-1817',\n",
       "   'description': 'From asset = A13 <br>TO asset = A14 <br>Node distance from start = 12 <br>Node Distance to Goal = 2<br>Node vulnerability score = 1.7<br>Node Ciricality score = 4.5<br>Node impact score = 0.375',\n",
       "   'table_data': {'CVE ID': 'CVE-2019-1817',\n",
       "    'CVSS Score': 1.7,\n",
       "    'Mitre Attack ID': 'T1021',\n",
       "    'Mitre Defend ID': 'D3-MFA'}},\n",
       "  'css': {'shape': 'rectangle', 'background-color': '#87CEEB'}},\n",
       " {'data': {'id': 'A13.high.A14.low.CVE-2012-2749',\n",
       "   'name': 'CVE-2012-2749',\n",
       "   'description': 'From asset = A13 <br>TO asset = A14 <br>Node distance from start = 10 <br>Node Distance to Goal = 4<br>Node vulnerability score = 5.6<br>Node Ciricality score = 2.25<br>Node impact score = 0.225',\n",
       "   'table_data': {'CVE ID': 'CVE-2012-2749',\n",
       "    'CVSS Score': 5.6,\n",
       "    'Mitre Attack ID': 'T1499',\n",
       "    'Mitre Defend ID': 'D3-NI'}},\n",
       "  'css': {'shape': 'rectangle', 'background-color': '#87CEEB'}},\n",
       " {'data': {'id': 'A13.high.A14.high.CVE-2019-1817',\n",
       "   'name': 'CVE-2019-1817',\n",
       "   'description': 'From asset = A13 <br>TO asset = A14 <br>Node distance from start = 10 <br>Node Distance to Goal = 2<br>Node vulnerability score = 1.7<br>Node Ciricality score = 4.5<br>Node impact score = 0.45',\n",
       "   'table_data': {'CVE ID': 'CVE-2019-1817',\n",
       "    'CVSS Score': 1.7,\n",
       "    'Mitre Attack ID': 'T1021',\n",
       "    'Mitre Defend ID': 'D3-MFA'}},\n",
       "  'css': {'shape': 'rectangle', 'background-color': '#87CEEB'}},\n",
       " {'data': {'id': 'A12.high.A13.high.CVE-2004-1371',\n",
       "   'name': 'CVE-2004-1371',\n",
       "   'description': 'From asset = A12 <br>TO asset = A13 <br>Node distance from start = 8 <br>Node Distance to Goal = 4<br>Node vulnerability score = 0.8<br>Node Ciricality score = 2.25<br>Node impact score = 0.28125',\n",
       "   'table_data': {'CVE ID': 'CVE-2004-1371',\n",
       "    'CVSS Score': 0.8,\n",
       "    'Mitre Attack ID': 'T1189',\n",
       "    'Mitre Defend ID': 'D3-SCF'}},\n",
       "  'css': {'shape': 'rectangle', 'background-color': '#87CEEB'}},\n",
       " {'data': {'id': 'A12.high.A13.high.CVE-2006-6703',\n",
       "   'name': 'CVE-2006-6703',\n",
       "   'description': 'From asset = A12 <br>TO asset = A13 <br>Node distance from start = 8 <br>Node Distance to Goal = 4<br>Node vulnerability score = 1.2<br>Node Ciricality score = 2.25<br>Node impact score = 0.28125',\n",
       "   'table_data': {'CVE ID': 'CVE-2006-6703',\n",
       "    'CVSS Score': 1.2,\n",
       "    'Mitre Attack ID': 'T1021',\n",
       "    'Mitre Defend ID': 'D3-MFA'}},\n",
       "  'css': {'shape': 'rectangle', 'background-color': '#87CEEB'}},\n",
       " {'data': {'id': 'A7.high.A12.high.CVE-2012-2319',\n",
       "   'name': 'CVE-2012-2319',\n",
       "   'description': 'From asset = A7 <br>TO asset = A12 <br>Node distance from start = 6 <br>Node Distance to Goal = 6<br>Node vulnerability score = 6.6<br>Node Ciricality score = 1.5<br>Node impact score = 0.25',\n",
       "   'table_data': {'CVE ID': 'CVE-2012-2319',\n",
       "    'CVSS Score': 6.6,\n",
       "    'Mitre Attack ID': 'T1498',\n",
       "    'Mitre Defend ID': 'D3-NI'}},\n",
       "  'css': {'shape': 'rectangle', 'background-color': '#FFA07A'}},\n",
       " {'data': {'id': 'A7.high.A12.low.CVE-2019-1484',\n",
       "   'name': 'CVE-2019-1484',\n",
       "   'description': 'From asset = A7 <br>TO asset = A12 <br>Node distance from start = 6 <br>Node Distance to Goal = 6<br>Node vulnerability score = 5.1<br>Node Ciricality score = 1.5<br>Node impact score = 0.25',\n",
       "   'table_data': {'CVE ID': 'CVE-2019-1484',\n",
       "    'CVSS Score': 5.1,\n",
       "    'Mitre Attack ID': 'T1203',\n",
       "    'Mitre Defend ID': 'D3-ITF'}},\n",
       "  'css': {'shape': 'rectangle', 'background-color': '#87CEEB'}},\n",
       " {'data': {'id': 'A1.low.A3.high.CVE-2019-12749',\n",
       "   'name': 'CVE-2019-12749',\n",
       "   'description': 'From asset = A1 <br>TO asset = A3 <br>Node distance from start = 2 <br>Node Distance to Goal = 10<br>Node vulnerability score = 4.7<br>Node Ciricality score = 0.9<br>Node impact score = 0.45',\n",
       "   'table_data': {'CVE ID': 'CVE-2019-12749',\n",
       "    'CVSS Score': 4.7,\n",
       "    'Mitre Attack ID': 'T1021',\n",
       "    'Mitre Defend ID': 'D3-MFA'}},\n",
       "  'css': {'shape': 'rectangle', 'background-color': '#87CEEB'}},\n",
       " {'data': {'id': 'X0',\n",
       "   'source': 'A1.low',\n",
       "   'target': 'A1.low.A1.high.CVE-2019-1468',\n",
       "   'directed': 'true'}},\n",
       " {'data': {'id': 'X1',\n",
       "   'source': 'A1.low',\n",
       "   'target': 'A1.low.A3.high.CVE-2019-12749',\n",
       "   'directed': 'true'},\n",
       "  'css': {'line-color': 'red'}},\n",
       " {'data': {'id': 'X2',\n",
       "   'source': 'A1.high',\n",
       "   'target': 'A1.high.A3.high.CVE-2019-12749',\n",
       "   'directed': 'true'}},\n",
       " {'data': {'id': 'X3',\n",
       "   'source': 'A3.high',\n",
       "   'target': 'A3.high.A7.high.CVE-2006-3486',\n",
       "   'directed': 'true'},\n",
       "  'css': {'line-color': 'red'}},\n",
       " {'data': {'id': 'X4',\n",
       "   'source': 'A7.high',\n",
       "   'target': 'A7.high.A7.low.CVE-2020-13125',\n",
       "   'directed': 'true'}},\n",
       " {'data': {'id': 'X5',\n",
       "   'source': 'A7.high',\n",
       "   'target': 'A7.high.A12.high.CVE-2012-2319',\n",
       "   'directed': 'true'},\n",
       "  'css': {'line-color': 'red'}},\n",
       " {'data': {'id': 'X6',\n",
       "   'source': 'A7.high',\n",
       "   'target': 'A7.high.A12.low.CVE-2019-1484',\n",
       "   'directed': 'true'}},\n",
       " {'data': {'id': 'X7',\n",
       "   'source': 'A7.low',\n",
       "   'target': 'A7.low.A12.high.CVE-2012-2319',\n",
       "   'directed': 'true'}},\n",
       " {'data': {'id': 'X8',\n",
       "   'source': 'A12.high',\n",
       "   'target': 'A12.high.A12.low.CVE-2016-1409',\n",
       "   'directed': 'true'}},\n",
       " {'data': {'id': 'X9',\n",
       "   'source': 'A12.high',\n",
       "   'target': 'A12.high.A13.high.CVE-2004-1371',\n",
       "   'directed': 'true'},\n",
       "  'css': {'line-color': 'red'}},\n",
       " {'data': {'id': 'X10',\n",
       "   'source': 'A12.high',\n",
       "   'target': 'A12.high.A13.high.CVE-2006-6703',\n",
       "   'directed': 'true'}},\n",
       " {'data': {'id': 'X11',\n",
       "   'source': 'A12.low',\n",
       "   'target': 'A12.low.A13.high.CVE-2006-6703',\n",
       "   'directed': 'true'}},\n",
       " {'data': {'id': 'X12',\n",
       "   'source': 'A12.low',\n",
       "   'target': 'A12.low.A12.high.CVE-2019-1468',\n",
       "   'directed': 'true'}},\n",
       " {'data': {'id': 'X13',\n",
       "   'source': 'A13.high',\n",
       "   'target': 'A13.high.A13.low.CVE-2013-5065',\n",
       "   'directed': 'true'}},\n",
       " {'data': {'id': 'X14',\n",
       "   'source': 'A13.high',\n",
       "   'target': 'A13.high.A14.low.CVE-2012-2749',\n",
       "   'directed': 'true'}},\n",
       " {'data': {'id': 'X15',\n",
       "   'source': 'A13.high',\n",
       "   'target': 'A13.high.A14.high.CVE-2019-1817',\n",
       "   'directed': 'true'},\n",
       "  'css': {'line-color': 'red'}},\n",
       " {'data': {'id': 'X16',\n",
       "   'source': 'A13.low',\n",
       "   'target': 'A13.low.A14.low.CVE-2012-2749',\n",
       "   'directed': 'true'}},\n",
       " {'data': {'id': 'X17',\n",
       "   'source': 'A13.low',\n",
       "   'target': 'A13.low.A14.high.CVE-2019-1817',\n",
       "   'directed': 'true'}},\n",
       " {'data': {'id': 'X18',\n",
       "   'source': 'A14.low',\n",
       "   'target': 'A14.low.A14.high.CVE-2009-4030',\n",
       "   'directed': 'true'}},\n",
       " {'data': {'id': 'X19',\n",
       "   'source': 'A14.low',\n",
       "   'target': 'A14.low.A14.high.CVE-2017-10271',\n",
       "   'directed': 'true'}},\n",
       " {'data': {'id': 'X20',\n",
       "   'source': 'A1.low.A1.high.CVE-2019-1468',\n",
       "   'target': 'A1.high',\n",
       "   'directed': 'true'}},\n",
       " {'data': {'id': 'X21',\n",
       "   'source': 'A1.high.A3.high.CVE-2019-12749',\n",
       "   'target': 'A3.high',\n",
       "   'directed': 'true'}},\n",
       " {'data': {'id': 'X22',\n",
       "   'source': 'A3.high.A7.high.CVE-2006-3486',\n",
       "   'target': 'A7.high',\n",
       "   'directed': 'true'},\n",
       "  'css': {'line-color': 'red'}},\n",
       " {'data': {'id': 'X23',\n",
       "   'source': 'A7.high.A7.low.CVE-2020-13125',\n",
       "   'target': 'A7.low',\n",
       "   'directed': 'true'}},\n",
       " {'data': {'id': 'X24',\n",
       "   'source': 'A7.low.A12.high.CVE-2012-2319',\n",
       "   'target': 'A12.high',\n",
       "   'directed': 'true'}},\n",
       " {'data': {'id': 'X25',\n",
       "   'source': 'A12.high.A12.low.CVE-2016-1409',\n",
       "   'target': 'A12.low',\n",
       "   'directed': 'true'}},\n",
       " {'data': {'id': 'X26',\n",
       "   'source': 'A12.low.A12.high.CVE-2019-1468',\n",
       "   'target': 'A12.high',\n",
       "   'directed': 'true'}},\n",
       " {'data': {'id': 'X27',\n",
       "   'source': 'A12.low.A13.high.CVE-2006-6703',\n",
       "   'target': 'A13.high',\n",
       "   'directed': 'true'}},\n",
       " {'data': {'id': 'X28',\n",
       "   'source': 'A13.high.A13.low.CVE-2013-5065',\n",
       "   'target': 'A13.low',\n",
       "   'directed': 'true'}},\n",
       " {'data': {'id': 'X29',\n",
       "   'source': 'A13.low.A14.low.CVE-2012-2749',\n",
       "   'target': 'A14.low',\n",
       "   'directed': 'true'}},\n",
       " {'data': {'id': 'X30',\n",
       "   'source': 'A14.low.A14.high.CVE-2009-4030',\n",
       "   'target': 'A14.high',\n",
       "   'directed': 'true'}},\n",
       " {'data': {'id': 'X31',\n",
       "   'source': 'A14.low.A14.high.CVE-2017-10271',\n",
       "   'target': 'A14.high',\n",
       "   'directed': 'true'}},\n",
       " {'data': {'id': 'X32',\n",
       "   'source': 'A13.low.A14.high.CVE-2019-1817',\n",
       "   'target': 'A14.high',\n",
       "   'directed': 'true'}},\n",
       " {'data': {'id': 'X33',\n",
       "   'source': 'A13.high.A14.low.CVE-2012-2749',\n",
       "   'target': 'A14.low',\n",
       "   'directed': 'true'}},\n",
       " {'data': {'id': 'X34',\n",
       "   'source': 'A13.high.A14.high.CVE-2019-1817',\n",
       "   'target': 'A14.high',\n",
       "   'directed': 'true'},\n",
       "  'css': {'line-color': 'red'}},\n",
       " {'data': {'id': 'X35',\n",
       "   'source': 'A12.high.A13.high.CVE-2004-1371',\n",
       "   'target': 'A13.high',\n",
       "   'directed': 'true'},\n",
       "  'css': {'line-color': 'red'}},\n",
       " {'data': {'id': 'X36',\n",
       "   'source': 'A12.high.A13.high.CVE-2006-6703',\n",
       "   'target': 'A13.high',\n",
       "   'directed': 'true'}},\n",
       " {'data': {'id': 'X37',\n",
       "   'source': 'A7.high.A12.high.CVE-2012-2319',\n",
       "   'target': 'A12.high',\n",
       "   'directed': 'true'},\n",
       "  'css': {'line-color': 'red'}},\n",
       " {'data': {'id': 'X38',\n",
       "   'source': 'A7.high.A12.low.CVE-2019-1484',\n",
       "   'target': 'A12.low',\n",
       "   'directed': 'true'}},\n",
       " {'data': {'id': 'X39',\n",
       "   'source': 'A1.low.A3.high.CVE-2019-12749',\n",
       "   'target': 'A3.high',\n",
       "   'directed': 'true'},\n",
       "  'css': {'line-color': 'red'}}]"
      ]
     },
     "execution_count": 12,
     "metadata": {},
     "output_type": "execute_result"
    }
   ],
   "source": [
    "for i in range(0,len(variable)-1):\n",
    "    for j in json_return:\n",
    "        try:\n",
    "            if j['data']['source'] == variable[i].give_id() and j['data']['target'] == variable[i+1].give_id():\n",
    "                j['css'] = {'line-color': 'red'}\n",
    "        except:\n",
    "            pass\n",
    "json_return"
   ]
  }
 ],
 "metadata": {
  "kernelspec": {
   "display_name": "pt_venv",
   "language": "python",
   "name": "python3"
  },
  "language_info": {
   "codemirror_mode": {
    "name": "ipython",
    "version": 3
   },
   "file_extension": ".py",
   "mimetype": "text/x-python",
   "name": "python",
   "nbconvert_exporter": "python",
   "pygments_lexer": "ipython3",
   "version": "3.8.10"
  },
  "orig_nbformat": 4,
  "vscode": {
   "interpreter": {
    "hash": "d0b38470751228595caf28c77034a760a4deadb4c85422bd427ef44bac579847"
   }
  }
 },
 "nbformat": 4,
 "nbformat_minor": 2
}
